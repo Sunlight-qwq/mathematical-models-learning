{
 "cells": [
  {
   "cell_type": "code",
   "execution_count": 2,
   "metadata": {},
   "outputs": [],
   "source": [
    "import networkx as nx\n",
    "import numpy as np\n",
    "import matplotlib.pyplot as plt\n",
    "import pandas as pd"
   ]
  },
  {
   "cell_type": "code",
   "execution_count": 3,
   "metadata": {},
   "outputs": [],
   "source": [
    "graph = nx.Graph()\n",
    "graph_table = pd.read_csv(\"graph/附件2.txt\", sep=\" \", header=None).values\n",
    "graph.add_edges_from(graph_table)"
   ]
  },
  {
   "cell_type": "markdown",
   "metadata": {},
   "source": [
    "## 问题3：链的瓦解\n",
    "\n",
    "对于链结构，没有环结构，且中间环节的最大度都一致，所以需要按分割最大熵来瓦解。\n",
    "\n",
    "根据连通熵的定义，连通熵等同于“在图熵随机的取一点，落在第 $k$ 个子图”这个随机试验的信息熵。根据 Shannon 的信息熵理论，随机试验越接近等概率分布，试验的熵越大，对应这里的图越分散。\n",
    "\n",
    "因此，最优的分解方案是尽可能地平均分配。"
   ]
  },
  {
   "cell_type": "markdown",
   "metadata": {},
   "source": [
    "瓦解思路："
   ]
  },
  {
   "cell_type": "code",
   "execution_count": 4,
   "metadata": {},
   "outputs": [
    {
     "data": {
      "text/plain": [
       "1000"
      ]
     },
     "execution_count": 4,
     "metadata": {},
     "output_type": "execute_result"
    }
   ],
   "source": [
    "graph.number_of_nodes()"
   ]
  },
  {
   "cell_type": "code",
   "execution_count": 5,
   "metadata": {},
   "outputs": [
    {
     "data": {
      "text/plain": [
       "array([[   1,    2],\n",
       "       [   2,    3],\n",
       "       [   3,    4],\n",
       "       ...,\n",
       "       [ 997,  998],\n",
       "       [ 998,  999],\n",
       "       [ 999, 1000]], dtype=int64)"
      ]
     },
     "execution_count": 5,
     "metadata": {},
     "output_type": "execute_result"
    }
   ],
   "source": [
    "graph_table"
   ]
  },
  {
   "cell_type": "code",
   "execution_count": 6,
   "metadata": {},
   "outputs": [
    {
     "ename": "SyntaxError",
     "evalue": "invalid syntax (1857799342.py, line 6)",
     "output_type": "error",
     "traceback": [
      "\u001b[1;36m  File \u001b[1;32m\"C:\\Users\\Sunlight\\AppData\\Local\\Temp\\ipykernel_3608\\1857799342.py\"\u001b[1;36m, line \u001b[1;32m6\u001b[0m\n\u001b[1;33m    del_nodes =\u001b[0m\n\u001b[1;37m                ^\u001b[0m\n\u001b[1;31mSyntaxError\u001b[0m\u001b[1;31m:\u001b[0m invalid syntax\n"
     ]
    }
   ],
   "source": [
    "def max_CE_cut(graph: nx.graph, m: int):\n",
    "    num_nodes = graph.number_of_nodes()\n",
    "    m -= 1 # 割出\n",
    "    q = num_nodes // m - 1\n",
    "    r = num_nodes % m\n",
    "    if r == 0: # m | (n - m) 时，平均分配\n",
    "        del_nodes = \n",
    "\n",
    "    "
   ]
  }
 ],
 "metadata": {
  "interpreter": {
   "hash": "e4d33ea1956d9eed525e01fc722837b342b23985a655a4da24c920cb8a366c86"
  },
  "kernelspec": {
   "display_name": "Python 3.9.13 ('math_model')",
   "language": "python",
   "name": "python3"
  },
  "language_info": {
   "codemirror_mode": {
    "name": "ipython",
    "version": 3
   },
   "file_extension": ".py",
   "mimetype": "text/x-python",
   "name": "python",
   "nbconvert_exporter": "python",
   "pygments_lexer": "ipython3",
   "version": "3.9.13"
  },
  "orig_nbformat": 4
 },
 "nbformat": 4,
 "nbformat_minor": 2
}
