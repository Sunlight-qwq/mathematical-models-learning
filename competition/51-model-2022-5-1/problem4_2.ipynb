{
 "cells": [
  {
   "cell_type": "code",
   "execution_count": 1,
   "metadata": {},
   "outputs": [],
   "source": [
    "import pandas as pd\n",
    "import numpy as np\n",
    "import matplotlib.pyplot as plt\n",
    "import cvxpy as cp\n",
    "from math import ceil\n",
    "\n",
    "data = pd.read_excel('data.xlsx', header=None).values.flatten()"
   ]
  },
  {
   "cell_type": "code",
   "execution_count": 2,
   "metadata": {},
   "outputs": [
    {
     "data": {
      "text/plain": [
       "array([ 11,   5,   4,   7,  16,   6,   5,   7,  13,   6,   5,   7,  12,\n",
       "         5,   4,   6,   9,   5,   5,  11,  29,  21,  17,  20,  27,  13,\n",
       "         9,  10,  16,   6,   5,   7,  11,   5,   5,   6,  12,   7,   7,\n",
       "        10,  15,  10,   9,  11,  15,  10,  10,  16,  26,  21,  23,  36,\n",
       "        50,  45,  45,  49,  57,  43,  40,  44,  52,  43,  42,  45,  52,\n",
       "        41,  39,  41,  48,  35,  34,  35,  42,  34,  36,  43,  55,  48,\n",
       "        54,  65,  80,  70,  74,  85, 101,  89,  88,  90, 100,  87,  88,\n",
       "        89, 104,  89,  89,  90, 106,  96,  94,  99, 109,  99,  96, 102],\n",
       "      dtype=int64)"
      ]
     },
     "execution_count": 2,
     "metadata": {},
     "output_type": "execute_result"
    }
   ],
   "source": [
    "requirements = data\n",
    "requirements"
   ]
  },
  {
   "cell_type": "code",
   "execution_count": 3,
   "metadata": {},
   "outputs": [],
   "source": [
    "total_week = 64\n",
    "requirements = requirements[0:total_week]\n",
    "K = 20\n",
    "waste_rate = 0.1"
   ]
  },
  {
   "cell_type": "code",
   "execution_count": 4,
   "metadata": {},
   "outputs": [],
   "source": [
    "working_hands = cp.Parameter(total_week)\n",
    "waste_hands = cp.Parameter(total_week)\n",
    "working_hands.value = 4 * requirements\n",
    "waste_hands.value = np.array([\n",
    "    round(4 * x * waste_rate) if x % 1 != 0.5 else ceil(4 * x * waste_rate) \n",
    "    for x in requirements\n",
    "])\n",
    "\n",
    "teaching_hands = cp.Variable(total_week, integer=True)\n",
    "resting_hands = cp.Variable(total_week, integer=True)\n",
    "new_hands = cp.Variable((3, total_week), integer=True)\n",
    "\n",
    "# 机械手购买的分段点\n",
    "hand_price = cp.Parameter((3, 1))\n",
    "hand_price.value = np.array([100, 90, 80]).reshape(3, 1)\n",
    "\n",
    "hand_y = cp.Variable((3, total_week), boolean=True)"
   ]
  },
  {
   "cell_type": "code",
   "execution_count": 5,
   "metadata": {},
   "outputs": [
    {
     "data": {
      "text/plain": [
       "(array([ 44,  20,  16,  28,  64,  24,  20,  28,  52,  24,  20,  28,  48,\n",
       "         20,  16,  24,  36,  20,  20,  44, 116,  84,  68,  80, 108,  52,\n",
       "         36,  40,  64,  24,  20,  28,  44,  20,  20,  24,  48,  28,  28,\n",
       "         40,  60,  40,  36,  44,  60,  40,  40,  64, 104,  84,  92, 144,\n",
       "        200, 180, 180, 196, 228, 172, 160, 176, 208, 172, 168, 180],\n",
       "       dtype=int64),\n",
       " array([ 4,  2,  2,  3,  6,  2,  2,  3,  5,  2,  2,  3,  5,  2,  2,  2,  4,\n",
       "         2,  2,  4, 12,  8,  7,  8, 11,  5,  4,  4,  6,  2,  2,  3,  4,  2,\n",
       "         2,  2,  5,  3,  3,  4,  6,  4,  4,  4,  6,  4,  4,  6, 10,  8,  9,\n",
       "        14, 20, 18, 18, 20, 23, 17, 16, 18, 21, 17, 17, 18]))"
      ]
     },
     "execution_count": 5,
     "metadata": {},
     "output_type": "execute_result"
    }
   ],
   "source": [
    "working_hands.value, waste_hands.value"
   ]
  },
  {
   "cell_type": "code",
   "execution_count": 6,
   "metadata": {},
   "outputs": [],
   "source": [
    "cons = [\n",
    "    resting_hands[0] + teaching_hands[0] + working_hands[0] == 50,\n",
    "    K * teaching_hands >= cp.sum(new_hands, axis=0),\n",
    "\n",
    "    teaching_hands >= 0,\n",
    "    resting_hands >= 0,\n",
    "    new_hands >= 0,\n",
    "\n",
    "    # 分段函数引入的约束\n",
    "    # hand_y >= 0,\n",
    "    # hand_y <= 1,\n",
    "    20 * hand_y[1] <= new_hands[0],\n",
    "    new_hands[0] <= 20 * hand_y[0],\n",
    "    20 * hand_y[2] <= new_hands[1],\n",
    "    new_hands[1]  <= 20 * hand_y[1],\n",
    "    new_hands[2] <= 10000 * hand_y[2]\n",
    "]"
   ]
  },
  {
   "cell_type": "code",
   "execution_count": 7,
   "metadata": {},
   "outputs": [],
   "source": [
    "for t in range(total_week - 1):\n",
    "    cons.append(resting_hands[t + 1] >= working_hands[t] - waste_hands[t]),\n",
    "    cons.append(resting_hands[t + 1] + working_hands[t + 1] + teaching_hands[t + 1] == \\\n",
    "        resting_hands[t] + working_hands[t] + teaching_hands[t] + cp.sum(new_hands, axis=0)[t] - waste_hands[t]\n",
    "        )"
   ]
  },
  {
   "cell_type": "code",
   "execution_count": 8,
   "metadata": {},
   "outputs": [],
   "source": [
    "obj = cp.Minimize(\n",
    "    cp.sum(cp.multiply(new_hands, hand_price))\\\n",
    "    + 5 * cp.sum(resting_hands)\\\n",
    "    + 10 * cp.sum(teaching_hands)\\\n",
    "    + 10 * cp.sum(new_hands)\n",
    ")"
   ]
  },
  {
   "cell_type": "code",
   "execution_count": 15,
   "metadata": {},
   "outputs": [
    {
     "name": "stdout",
     "output_type": "stream",
     "text": [
      "===============================================================================\n",
      "                                     CVXPY                                     \n",
      "                                     v1.2.0                                    \n",
      "===============================================================================\n",
      "(CVXPY) May 03 09:18:21 AM: Your problem has 512 variables, 136 constraints, and 131 parameters.\n",
      "(CVXPY) May 03 09:18:21 AM: It is compliant with the following grammars: DCP, DQCP\n",
      "(CVXPY) May 03 09:18:21 AM: CVXPY will first compile your problem; then, it will invoke a numerical solver to obtain a solution.\n",
      "-------------------------------------------------------------------------------\n",
      "                                  Compilation                                  \n",
      "-------------------------------------------------------------------------------\n",
      "(CVXPY) May 03 09:18:21 AM: Compiling problem (target solver=MOSEK).\n",
      "(CVXPY) May 03 09:18:21 AM: Reduction chain: Dcp2Cone -> CvxAttr2Constr -> ConeMatrixStuffing -> MOSEK\n",
      "(CVXPY) May 03 09:18:21 AM: Applying reduction Dcp2Cone\n",
      "(CVXPY) May 03 09:18:21 AM: Applying reduction CvxAttr2Constr\n",
      "(CVXPY) May 03 09:18:21 AM: Applying reduction ConeMatrixStuffing\n",
      "(CVXPY) May 03 09:18:21 AM: Applying reduction MOSEK\n",
      "(CVXPY) May 03 09:18:21 AM: Finished problem compilation (took 3.499e-01 seconds).\n",
      "(CVXPY) May 03 09:18:21 AM: (Subsequent compilations of this problem, using the same arguments, should take less time.)\n",
      "-------------------------------------------------------------------------------\n",
      "                                Numerical solver                               \n",
      "-------------------------------------------------------------------------------\n",
      "(CVXPY) May 03 09:18:21 AM: Invoking solver MOSEK  to obtain a solution.\n",
      "\n",
      "\n",
      "(CVXPY) May 03 09:18:21 AM: Problem\n",
      "(CVXPY) May 03 09:18:21 AM:   Name                   :                 \n",
      "(CVXPY) May 03 09:18:21 AM:   Objective sense        : min             \n",
      "(CVXPY) May 03 09:18:21 AM:   Type                   : LO (linear optimization problem)\n",
      "(CVXPY) May 03 09:18:21 AM:   Constraints            : 831             \n",
      "(CVXPY) May 03 09:18:21 AM:   Cones                  : 0               \n",
      "(CVXPY) May 03 09:18:21 AM:   Scalar variables       : 512             \n",
      "(CVXPY) May 03 09:18:21 AM:   Matrix variables       : 0               \n",
      "(CVXPY) May 03 09:18:21 AM:   Integer variables      : 512             \n",
      "(CVXPY) May 03 09:18:21 AM: \n",
      "(CVXPY) May 03 09:18:21 AM: Optimizer started.\n",
      "(CVXPY) May 03 09:18:21 AM: Mixed integer optimizer started.\n",
      "(CVXPY) May 03 09:18:21 AM: Threads used: 14\n",
      "(CVXPY) May 03 09:18:21 AM: Presolve started.\n",
      "(CVXPY) May 03 09:18:21 AM: Presolve terminated. Time = 0.00\n",
      "(CVXPY) May 03 09:18:21 AM: Presolved problem: 440 variables, 378 constraints, 1193 non-zeros\n",
      "(CVXPY) May 03 09:18:21 AM: Presolved problem: 314 general integer, 126 binary, 0 continuous\n",
      "(CVXPY) May 03 09:18:21 AM: Clique table size: 126\n",
      "(CVXPY) May 03 09:18:21 AM: BRANCHES RELAXS   ACT_NDS  DEPTH    BEST_INT_OBJ         BEST_RELAX_OBJ       REL_GAP(%)  TIME  \n",
      "(CVXPY) May 03 09:18:21 AM: 0        1        1        0        NA                   9.3739065014e+04     NA          0.0   \n",
      "(CVXPY) May 03 09:18:21 AM: 0        1        1        0        3.1999500000e+05     9.3739065014e+04     70.71       0.0   \n",
      "(CVXPY) May 03 09:18:21 AM: Cut generation started.\n",
      "(CVXPY) May 03 09:18:21 AM: 0        1        1        0        3.1999500000e+05     9.3739065014e+04     70.71       0.1   \n",
      "(CVXPY) May 03 09:18:21 AM: 0        2        1        0        3.1999500000e+05     9.5943400254e+04     70.02       0.1   \n",
      "(CVXPY) May 03 09:18:21 AM: 0        3        1        0        3.1999500000e+05     9.6821428887e+04     69.74       0.1   \n",
      "(CVXPY) May 03 09:18:21 AM: 0        4        1        0        3.1999500000e+05     9.7490337833e+04     69.53       0.1   \n",
      "(CVXPY) May 03 09:18:21 AM: 0        5        1        0        3.1999500000e+05     9.7746144080e+04     69.45       0.1   \n",
      "(CVXPY) May 03 09:18:21 AM: 0        6        1        0        3.1999500000e+05     9.8025998326e+04     69.37       0.1   \n",
      "(CVXPY) May 03 09:18:21 AM: 0        7        1        0        3.1999500000e+05     9.8207726709e+04     69.31       0.1   \n",
      "(CVXPY) May 03 09:18:21 AM: 0        8        1        0        3.1999500000e+05     9.8490589743e+04     69.22       0.1   \n",
      "(CVXPY) May 03 09:18:21 AM: 0        9        1        0        3.1999500000e+05     9.8629239254e+04     69.18       0.1   \n",
      "(CVXPY) May 03 09:18:21 AM: Cut generation terminated. Time = 0.01\n",
      "(CVXPY) May 03 09:18:21 AM: 0        11       1        0        1.5882000000e+05     9.8640975478e+04     37.89       0.1   \n",
      "(CVXPY) May 03 09:18:21 AM: 0        14       1        0        1.5882000000e+05     9.8640975478e+04     37.89       0.2   \n",
      "(CVXPY) May 03 09:18:21 AM: 0        25       1        0        1.5882000000e+05     9.8640975478e+04     37.89       0.3   \n",
      "(CVXPY) May 03 09:18:21 AM: 11       36       1        0        1.5882000000e+05     9.8640975478e+04     37.89       0.3   \n",
      "(CVXPY) May 03 09:18:21 AM: 28       53       1        0        1.5882000000e+05     9.8640975478e+04     37.89       0.3   \n",
      "(CVXPY) May 03 09:18:21 AM: 44       69       1        0        1.5882000000e+05     9.8640975478e+04     37.89       0.3   \n",
      "(CVXPY) May 03 09:18:21 AM: 86       111      1        0        1.5882000000e+05     9.8640975478e+04     37.89       0.3   \n",
      "(CVXPY) May 03 09:18:21 AM: 170      195      1        0        1.5882000000e+05     9.8640975478e+04     37.89       0.3   \n",
      "(CVXPY) May 03 09:18:21 AM: 338      363      1        0        1.5882000000e+05     9.8640975478e+04     37.89       0.3   \n",
      "(CVXPY) May 03 09:18:22 AM: 674      699      1        0        1.5882000000e+05     9.8640975478e+04     37.89       0.4   \n",
      "(CVXPY) May 03 09:18:22 AM: 1301     1323     1        0        1.1090000000e+05     9.8640975478e+04     11.05       0.4   \n",
      "(CVXPY) May 03 09:18:22 AM: 1313     1335     13       3        1.1090000000e+05     9.8652381156e+04     11.04       0.5   \n",
      "(CVXPY) May 03 09:18:22 AM: 1329     1351     29       5        1.1090000000e+05     9.8841275190e+04     10.87       0.5   \n",
      "(CVXPY) May 03 09:18:22 AM: 1347     1369     47       7        1.1090000000e+05     9.8841275190e+04     10.87       0.5   \n",
      "(CVXPY) May 03 09:18:22 AM: 1389     1411     89       10       1.1090000000e+05     9.8841275190e+04     10.87       0.5   \n",
      "(CVXPY) May 03 09:18:22 AM: 1473     1495     173      16       1.1090000000e+05     9.8841275190e+04     10.87       0.5   \n",
      "(CVXPY) May 03 09:18:22 AM: 1641     1661     331      5        1.0784500000e+05     9.8841275190e+04     8.35        0.5   \n",
      "(CVXPY) May 03 09:18:22 AM: 1963     1960     555      9        1.0420500000e+05     9.8986667633e+04     5.01        0.6   \n",
      "(CVXPY) May 03 09:18:22 AM: 2509     2444     733      9        1.0406500000e+05     9.9119561471e+04     4.75        0.7   \n",
      "(CVXPY) May 03 09:18:22 AM: 3194     3004     882      16       1.0331500000e+05     9.9119561471e+04     4.06        0.8   \n",
      "(CVXPY) May 03 09:18:22 AM: 3926     3594     1008     24       1.0289000000e+05     9.9435411462e+04     3.36        0.9   \n",
      "(CVXPY) May 03 09:18:22 AM: 4662     4178     1194     18       1.0271500000e+05     9.9546635631e+04     3.08        1.0   \n",
      "(CVXPY) May 03 09:18:22 AM: 5332     4784     1550     66       1.0253500000e+05     9.9603385332e+04     2.86        1.1   \n",
      "(CVXPY) May 03 09:18:22 AM: 6147     5372     1657     27       1.0196000000e+05     9.9662512119e+04     2.25        1.2   \n",
      "(CVXPY) May 03 09:18:22 AM: 7098     5929     1540     13       1.0193500000e+05     9.9701643594e+04     2.19        1.3   \n",
      "(CVXPY) May 03 09:18:23 AM: 7767     6526     1777     44       1.0150500000e+05     9.9751757898e+04     1.73        1.4   \n",
      "(CVXPY) May 03 09:18:23 AM: 8566     7099     1740     12       1.0133500000e+05     9.9802045986e+04     1.51        1.5   \n",
      "(CVXPY) May 03 09:18:23 AM: 9261     7685     1847     17       1.0125000000e+05     9.9822841680e+04     1.41        1.6   \n",
      "(CVXPY) May 03 09:18:23 AM: 9971     8268     1963     13       1.0101000000e+05     9.9870723689e+04     1.13        1.7   \n",
      "(CVXPY) May 03 09:18:23 AM: 10754    8853     1986     25       1.0092000000e+05     9.9914101514e+04     1.00        1.8   \n",
      "(CVXPY) May 03 09:18:23 AM: 11442    9434     2076     27       1.0066000000e+05     9.9934973996e+04     0.72        1.9   \n",
      "(CVXPY) May 03 09:18:23 AM: 12215    10012    2073     38       1.0054500000e+05     9.9954590157e+04     0.59        2.0   \n",
      "(CVXPY) May 03 09:18:23 AM: 12977    10604    2115     49       1.0046000000e+05     9.9987775242e+04     0.47        2.1   \n",
      "(CVXPY) May 03 09:18:23 AM: 13814    11182    1944     49       1.0041000000e+05     1.0002520524e+05     0.38        2.2   \n",
      "(CVXPY) May 03 09:18:23 AM: 14580    11760    1764     15       1.0025000000e+05     1.0004271485e+05     0.21        2.3   \n",
      "(CVXPY) May 03 09:18:24 AM: 15512    12314    1184     22       1.0020000000e+05     1.0008538280e+05     0.11        2.5   \n",
      "(CVXPY) May 03 09:18:24 AM: 16688    12553    110      21       1.0017500000e+05     1.0017500000e+05     0.00e+00    2.5   \n",
      "(CVXPY) May 03 09:18:24 AM: An optimal solution satisfying the relative gap tolerance of 1.00e-02(%) has been located.\n",
      "(CVXPY) May 03 09:18:24 AM: The relative gap is 0.00e+00(%).\n",
      "(CVXPY) May 03 09:18:24 AM: An optimal solution satisfying the absolute gap tolerance of 0.00e+00 has been located.\n",
      "(CVXPY) May 03 09:18:24 AM: The absolute gap is 0.00e+00.\n",
      "(CVXPY) May 03 09:18:24 AM: \n",
      "(CVXPY) May 03 09:18:24 AM: Objective of best integer solution : 1.001750000000e+05      \n",
      "(CVXPY) May 03 09:18:24 AM: Best objective bound               : 1.001750000000e+05      \n",
      "(CVXPY) May 03 09:18:24 AM: Construct solution objective       : Not employed\n",
      "(CVXPY) May 03 09:18:24 AM: User objective cut value           : Not employed\n",
      "(CVXPY) May 03 09:18:24 AM: Number of cuts generated           : 230\n",
      "(CVXPY) May 03 09:18:24 AM:   Number of Gomory cuts            : 229\n",
      "(CVXPY) May 03 09:18:24 AM:   Number of CMIR cuts              : 1\n",
      "(CVXPY) May 03 09:18:24 AM: Number of branches                 : 16688\n",
      "(CVXPY) May 03 09:18:24 AM: Number of relaxations solved       : 12553\n",
      "(CVXPY) May 03 09:18:24 AM: Number of interior point iterations: 26\n",
      "(CVXPY) May 03 09:18:24 AM: Number of simplex iterations       : 39329\n",
      "(CVXPY) May 03 09:18:24 AM: Time spend presolving the root     : 0.00\n",
      "(CVXPY) May 03 09:18:24 AM: Time spend optimizing the root     : 0.02\n",
      "(CVXPY) May 03 09:18:24 AM: Mixed integer optimizer terminated. Time: 2.55\n",
      "(CVXPY) May 03 09:18:24 AM: \n",
      "(CVXPY) May 03 09:18:24 AM: Optimizer terminated. Time: 2.56    \n",
      "(CVXPY) May 03 09:18:24 AM: \n",
      "(CVXPY) May 03 09:18:24 AM: \n",
      "(CVXPY) May 03 09:18:24 AM: Integer solution solution summary\n",
      "(CVXPY) May 03 09:18:24 AM:   Problem status  : PRIMAL_FEASIBLE\n",
      "(CVXPY) May 03 09:18:24 AM:   Solution status : INTEGER_OPTIMAL\n",
      "(CVXPY) May 03 09:18:24 AM:   Primal.  obj: 1.0017500000e+05    nrm: 1e+04    Viol.  con: 4e-10    var: 2e-15    itg: 2e-11  \n",
      "-------------------------------------------------------------------------------\n",
      "                                    Summary                                    \n",
      "-------------------------------------------------------------------------------\n",
      "(CVXPY) May 03 09:18:24 AM: Problem status: optimal\n",
      "(CVXPY) May 03 09:18:24 AM: Optimal value: 1.002e+05\n",
      "(CVXPY) May 03 09:18:24 AM: Compilation took 3.499e-01 seconds\n",
      "(CVXPY) May 03 09:18:24 AM: Solver (including time spent in interface) took 2.595e+00 seconds\n"
     ]
    },
    {
     "data": {
      "text/plain": [
       "100174.99999999978"
      ]
     },
     "execution_count": 15,
     "metadata": {},
     "output_type": "execute_result"
    }
   ],
   "source": [
    "prob = cp.Problem(obj, cons)\n",
    "prob.solve(solver=cp.MOSEK, verbose=True)"
   ]
  },
  {
   "cell_type": "code",
   "execution_count": 10,
   "metadata": {},
   "outputs": [
    {
     "data": {
      "text/plain": [
       "(array([ 44,  20,  16,  28,  64,  24,  20,  28,  52,  24,  20,  28,  48,\n",
       "         20,  16,  24,  36,  20,  20,  44, 116,  84,  68,  80, 108,  52,\n",
       "         36,  40,  64,  24,  20,  28,  44,  20,  20,  24,  48,  28,  28,\n",
       "         40,  60,  40,  36,  44,  60,  40,  40,  64, 104,  84,  92, 144,\n",
       "        200, 180, 180, 196, 228, 172, 160, 176, 208, 172, 168, 180],\n",
       "       dtype=int64),\n",
       " array([  5,  40,  42,  26,  25,  59,  61,  50,  25,  48,  50,  39,  25,\n",
       "         48,  50,  40,  26,  38,  35,  18,  84, 104, 112,  92,  72, 117,\n",
       "        128, 120,  92, 126, 128, 118,  99, 119, 117, 111,  85, 100,  97,\n",
       "         82,  58,  72,  72,  60,  40,  54,  49,  36,  86,  96,  76,  83,\n",
       "        185, 185, 162, 228, 176, 209, 204, 168, 178, 193, 180, 151]),\n",
       " array([ 4,  2,  2,  3,  6,  2,  2,  3,  5,  2,  2,  3,  5,  2,  2,  2,  4,\n",
       "         2,  2,  4, 12,  8,  7,  8, 11,  5,  4,  4,  6,  2,  2,  3,  4,  2,\n",
       "         2,  2,  5,  3,  3,  4,  6,  4,  4,  4,  6,  4,  4,  6, 10,  8,  9,\n",
       "        14, 20, 18, 18, 20, 23, 17, 16, 18, 21, 17, 17, 18]))"
      ]
     },
     "execution_count": 10,
     "metadata": {},
     "output_type": "execute_result"
    }
   ],
   "source": [
    "working_hands.value, np.array(resting_hands.value, dtype=np.int32), waste_hands.value"
   ]
  },
  {
   "cell_type": "code",
   "execution_count": 11,
   "metadata": {},
   "outputs": [
    {
     "data": {
      "text/plain": [
       "array([[1, 1, 1, 1, 1, 1, 1, 1, 1, 1, 1, 1, 1, 1, 1, 1, 1, 1, 1, 1, 1, 1,\n",
       "        1, 1, 1, 1, 1, 1, 1, 1, 1, 1, 1, 1, 1, 1, 1, 1, 1, 1, 1, 1, 1, 1,\n",
       "        1, 1, 1, 1, 1, 1, 1, 1, 1, 1, 1, 1, 1, 1, 1, 1, 1, 1, 1, 1],\n",
       "       [0, 0, 0, 1, 0, 0, 0, 0, 0, 0, 0, 0, 0, 0, 0, 0, 0, 0, 0, 1, 0, 0,\n",
       "        0, 0, 0, 0, 0, 0, 0, 0, 0, 0, 0, 0, 0, 0, 0, 0, 0, 0, 0, 0, 0, 0,\n",
       "        0, 0, 0, 1, 0, 0, 1, 1, 0, 0, 1, 0, 0, 0, 0, 1, 0, 0, 0, 0],\n",
       "       [0, 0, 0, 0, 0, 0, 0, 0, 0, 0, 0, 0, 0, 0, 0, 0, 0, 0, 0, 1, 0, 0,\n",
       "        0, 0, 0, 0, 0, 0, 0, 0, 0, 0, 0, 0, 0, 0, 0, 0, 0, 0, 0, 0, 0, 0,\n",
       "        0, 0, 0, 1, 0, 0, 1, 1, 0, 0, 1, 0, 0, 0, 0, 1, 0, 0, 0, 0]])"
      ]
     },
     "execution_count": 11,
     "metadata": {},
     "output_type": "execute_result"
    }
   ],
   "source": [
    "np.array(hand_y.value, dtype=np.int32)"
   ]
  },
  {
   "cell_type": "code",
   "execution_count": 12,
   "metadata": {},
   "outputs": [
    {
     "data": {
      "text/plain": [
       "(array([[ 14,   0,   0,  20,   0,   0,   0,   0,   0,   0,   0,   7,   0,\n",
       "           0,   0,   0,   0,   0,  15,  20,   0,   0,   0,  15,   0,   0,\n",
       "           0,   0,   0,   0,   0,   0,   0,   0,   0,   0,   0,   0,   0,\n",
       "           0,   0,   0,   0,   0,   0,   0,  19,  20,   0,   0,  20,  20,\n",
       "           0,   0,  20,   0,   0,   0,   0,  20,   0,   0,   0,   0],\n",
       "        [  0,   0,   0,  16,   0,   0,   0,   0,   0,   0,   0,   0,   0,\n",
       "           0,   0,   0,   0,   0,   0,  20,   0,   0,   0,   0,   0,   0,\n",
       "           0,   0,   0,   0,   0,   0,   0,   0,   0,   0,   0,   0,   0,\n",
       "           0,   0,   0,   0,   0,   0,   0,   0,  20,   0,   0,  20,  20,\n",
       "           0,   0,  20,   0,   0,   0,   0,  20,   0,   0,   0,   0],\n",
       "        [  0,   0,   0,   0,   0,   0,   0,   0,   0,   0,   0,   0,   0,\n",
       "           0,   0,   0,   0,   0,   0,  95,   0,   0,   0,   0,   0,   0,\n",
       "           0,   0,   0,   0,   0,   0,   0,   0,   0,   0,   0,   0,   0,\n",
       "           0,   0,   0,   0,   0,   0,   0,   0,  51,   0,   0,  33, 123,\n",
       "           0,   0,  55,   0,   0,   0,   0,  16,   0,   0,   0,   0]]),\n",
       " array([1, 0, 0, 2, 0, 0, 0, 1, 0, 0, 0, 0, 0, 0, 0, 0, 0, 0, 1, 7, 0, 0,\n",
       "        0, 1, 0, 0, 0, 0, 0, 0, 0, 0, 0, 0, 0, 0, 0, 0, 0, 0, 0, 0, 0, 0,\n",
       "        0, 0, 1, 5, 0, 0, 4, 9, 0, 0, 5, 0, 0, 0, 0, 3, 0, 0, 0, 0]))"
      ]
     },
     "execution_count": 12,
     "metadata": {},
     "output_type": "execute_result"
    }
   ],
   "source": [
    "np.array(new_hands.value, dtype=np.int32), np.array(teaching_hands.value, dtype=np.int32)"
   ]
  }
 ],
 "metadata": {
  "interpreter": {
   "hash": "5f1f67310d7626f6a1e5a2bc75081377e7cbcf2b8e64ea2999e8e80be64123e8"
  },
  "kernelspec": {
   "display_name": "Python 3.9.12 ('math_model')",
   "language": "python",
   "name": "python3"
  },
  "language_info": {
   "codemirror_mode": {
    "name": "ipython",
    "version": 3
   },
   "file_extension": ".py",
   "mimetype": "text/x-python",
   "name": "python",
   "nbconvert_exporter": "python",
   "pygments_lexer": "ipython3",
   "version": "3.9.12"
  },
  "orig_nbformat": 4
 },
 "nbformat": 4,
 "nbformat_minor": 2
}
