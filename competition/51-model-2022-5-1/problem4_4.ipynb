{
 "cells": [
  {
   "cell_type": "code",
   "execution_count": 101,
   "metadata": {},
   "outputs": [],
   "source": [
    "import pandas as pd\n",
    "import numpy as np\n",
    "# import matplotlib.pyplot as plt\n",
    "import cvxpy as cp\n",
    "from math import ceil\n",
    "\n",
    "data = pd.read_excel('data.xlsx', header=None).values.flatten()"
   ]
  },
  {
   "cell_type": "code",
   "execution_count": 102,
   "metadata": {},
   "outputs": [
    {
     "data": {
      "text/plain": [
       "array([ 11,   5,   4,   7,  16,   6,   5,   7,  13,   6,   5,   7,  12,\n",
       "         5,   4,   6,   9,   5,   5,  11,  29,  21,  17,  20,  27,  13,\n",
       "         9,  10,  16,   6,   5,   7,  11,   5,   5,   6,  12,   7,   7,\n",
       "        10,  15,  10,   9,  11,  15,  10,  10,  16,  26,  21,  23,  36,\n",
       "        50,  45,  45,  49,  57,  43,  40,  44,  52,  43,  42,  45,  52,\n",
       "        41,  39,  41,  48,  35,  34,  35,  42,  34,  36,  43,  55,  48,\n",
       "        54,  65,  80,  70,  74,  85, 101,  89,  88,  90, 100,  87,  88,\n",
       "        89, 104,  89,  89,  90, 106,  96,  94,  99, 109,  99,  96, 102],\n",
       "      dtype=int64)"
      ]
     },
     "execution_count": 102,
     "metadata": {},
     "output_type": "execute_result"
    }
   ],
   "source": [
    "requirements = data\n",
    "requirements"
   ]
  },
  {
   "cell_type": "markdown",
   "metadata": {},
   "source": [
    "## 方法：先进行非整数规划，再进行整数规划"
   ]
  },
  {
   "cell_type": "code",
   "execution_count": 103,
   "metadata": {},
   "outputs": [],
   "source": [
    "total_week = 104\n",
    "requirements = requirements[0:total_week]\n",
    "K = 20\n",
    "waste_rate = 0.1"
   ]
  },
  {
   "cell_type": "code",
   "execution_count": 104,
   "metadata": {},
   "outputs": [],
   "source": [
    "working_hands = cp.Parameter(total_week)\n",
    "waste_hands = cp.Parameter(total_week)\n",
    "working_hands.value = 4 * requirements\n",
    "waste_hands.value = np.array([\n",
    "    4 * round(x * waste_rate) if x % 1 != 0.5 else 4 * ceil(x * waste_rate) \n",
    "    for x in requirements])\n",
    "\n",
    "teaching_hands = cp.Variable(total_week, integer=True)\n",
    "resting_hands = cp.Variable(total_week, integer=True)\n",
    "new_hands = cp.Variable((3, total_week), integer=True)\n",
    "\n",
    "# 机械手购买的分段点\n",
    "hand_price = cp.Parameter((3, 1))\n",
    "hand_price.value = np.array([100, 90, 80]).reshape(3, 1)\n",
    "\n",
    "hand_y = cp.Variable((3, total_week), boolean=True)"
   ]
  },
  {
   "cell_type": "code",
   "execution_count": 105,
   "metadata": {},
   "outputs": [
    {
     "data": {
      "text/plain": [
       "(array([ 44,  20,  16,  28,  64,  24,  20,  28,  52,  24,  20,  28,  48,\n",
       "         20,  16,  24,  36,  20,  20,  44, 116,  84,  68,  80, 108,  52,\n",
       "         36,  40,  64,  24,  20,  28,  44,  20,  20,  24,  48,  28,  28,\n",
       "         40,  60,  40,  36,  44,  60,  40,  40,  64, 104,  84,  92, 144,\n",
       "        200, 180, 180, 196, 228, 172, 160, 176, 208, 172, 168, 180, 208,\n",
       "        164, 156, 164, 192, 140, 136, 140, 168, 136, 144, 172, 220, 192,\n",
       "        216, 260, 320, 280, 296, 340, 404, 356, 352, 360, 400, 348, 352,\n",
       "        356, 416, 356, 356, 360, 424, 384, 376, 396, 436, 396, 384, 408],\n",
       "       dtype=int64),\n",
       " array([ 4,  0,  0,  4,  8,  4,  0,  4,  4,  4,  0,  4,  4,  0,  0,  4,  4,\n",
       "         0,  0,  4, 12,  8,  8,  8, 12,  4,  4,  4,  8,  4,  0,  4,  4,  0,\n",
       "         0,  4,  4,  4,  4,  4,  8,  4,  4,  4,  8,  4,  4,  8, 12,  8,  8,\n",
       "        16, 20, 16, 16, 20, 24, 16, 16, 16, 20, 16, 16, 16, 20, 16, 16, 16,\n",
       "        20, 16, 12, 16, 16, 12, 16, 16, 24, 20, 20, 24, 32, 28, 28, 32, 40,\n",
       "        36, 36, 36, 40, 36, 36, 36, 40, 36, 36, 36, 44, 40, 36, 40, 44, 40,\n",
       "        40, 40]))"
      ]
     },
     "execution_count": 105,
     "metadata": {},
     "output_type": "execute_result"
    }
   ],
   "source": [
    "working_hands.value, waste_hands.value"
   ]
  },
  {
   "cell_type": "code",
   "execution_count": 106,
   "metadata": {},
   "outputs": [],
   "source": [
    "cons = [\n",
    "    resting_hands[0] + teaching_hands[0] + working_hands[0] == 50,\n",
    "    K * teaching_hands >= cp.sum(new_hands, axis=0),\n",
    "\n",
    "    teaching_hands >= 0,\n",
    "    resting_hands >= 0,\n",
    "    new_hands >= 0,\n",
    "\n",
    "    20 * hand_y[1] <= new_hands[0],\n",
    "    new_hands[0] <= 20 * hand_y[0],\n",
    "    20 * hand_y[2] <= new_hands[1],\n",
    "    new_hands[1]  <= 20 * hand_y[1],\n",
    "    new_hands[2] <= 10000 * hand_y[2]\n",
    "]"
   ]
  },
  {
   "cell_type": "code",
   "execution_count": 107,
   "metadata": {},
   "outputs": [],
   "source": [
    "for t in range(total_week - 1):\n",
    "    cons.append(resting_hands[t + 1] >= working_hands[t] - waste_hands[t]),\n",
    "    cons.append(resting_hands[t + 1] + working_hands[t + 1] + teaching_hands[t + 1] == \\\n",
    "        resting_hands[t] + working_hands[t] + teaching_hands[t] + cp.sum(new_hands, axis=0)[t] - waste_hands[t]\n",
    "        )"
   ]
  },
  {
   "cell_type": "code",
   "execution_count": 108,
   "metadata": {},
   "outputs": [],
   "source": [
    "obj = cp.Minimize(\n",
    "    cp.sum(cp.multiply(new_hands, hand_price))\\\n",
    "    + 5 * cp.sum(resting_hands)\\\n",
    "    + 10 * cp.sum(teaching_hands)\\\n",
    "    + 10 * cp.sum(new_hands)\n",
    ")"
   ]
  },
  {
   "cell_type": "code",
   "execution_count": 109,
   "metadata": {},
   "outputs": [
    {
     "name": "stdout",
     "output_type": "stream",
     "text": [
      "===============================================================================\n",
      "                                     CVXPY                                     \n",
      "                                     v1.2.0                                    \n",
      "===============================================================================\n",
      "(CVXPY) May 04 08:01:22 AM: Your problem has 832 variables, 216 constraints, and 211 parameters.\n",
      "(CVXPY) May 04 08:01:22 AM: It is compliant with the following grammars: DCP, DQCP\n",
      "(CVXPY) May 04 08:01:22 AM: CVXPY will first compile your problem; then, it will invoke a numerical solver to obtain a solution.\n",
      "-------------------------------------------------------------------------------\n",
      "                                  Compilation                                  \n",
      "-------------------------------------------------------------------------------\n",
      "(CVXPY) May 04 08:01:22 AM: Compiling problem (target solver=CPLEX).\n",
      "(CVXPY) May 04 08:01:22 AM: Reduction chain: CvxAttr2Constr -> Qp2SymbolicQp -> QpMatrixStuffing -> CPLEX\n",
      "(CVXPY) May 04 08:01:22 AM: Applying reduction CvxAttr2Constr\n",
      "(CVXPY) May 04 08:01:22 AM: Applying reduction Qp2SymbolicQp\n",
      "(CVXPY) May 04 08:01:22 AM: Applying reduction QpMatrixStuffing\n",
      "(CVXPY) May 04 08:01:22 AM: Applying reduction CPLEX\n",
      "(CVXPY) May 04 08:01:22 AM: Finished problem compilation (took 2.708e-01 seconds).\n",
      "(CVXPY) May 04 08:01:22 AM: (Subsequent compilations of this problem, using the same arguments, should take less time.)\n",
      "-------------------------------------------------------------------------------\n",
      "                                Numerical solver                               \n",
      "-------------------------------------------------------------------------------\n",
      "(CVXPY) May 04 08:01:22 AM: Invoking solver CPLEX  to obtain a solution.\n",
      "Version identifier: 12.10.0.0 | 2019-11-26 | 843d4de2ae\n",
      "CPXPARAM_Read_DataCheck                          1\n"
     ]
    },
    {
     "name": "stderr",
     "output_type": "stream",
     "text": [
      "Warning:  Non-integral bounds for integer variables rounded.\n"
     ]
    },
    {
     "name": "stdout",
     "output_type": "stream",
     "text": [
      "Tried aggregator 3 times.\n",
      "MIP Presolve eliminated 729 rows and 107 columns.\n",
      "MIP Presolve modified 4 coefficients.\n",
      "Aggregator did 72 substitutions.\n",
      "Reduced MIP has 550 rows, 653 columns, and 1918 nonzeros.\n",
      "Reduced MIP has 206 binaries, 447 generals, 0 SOSs, and 0 indicators.\n",
      "Presolve time = 0.00 sec. (2.47 ticks)\n",
      "Probing fixed 0 vars, tightened 160 bounds.\n",
      "Probing time = 0.00 sec. (0.56 ticks)\n",
      "Tried aggregator 1 time.\n",
      "Detecting symmetries...\n",
      "MIP Presolve modified 4 coefficients.\n",
      "Reduced MIP has 550 rows, 653 columns, and 1918 nonzeros.\n",
      "Reduced MIP has 206 binaries, 447 generals, 0 SOSs, and 0 indicators.\n",
      "Presolve time = 0.02 sec. (1.15 ticks)\n",
      "Probing fixed 0 vars, tightened 16 bounds.\n",
      "Probing time = 0.00 sec. (0.56 ticks)\n",
      "Clique table members: 103.\n",
      "MIP emphasis: balance optimality and feasibility.\n",
      "MIP search method: dynamic search.\n",
      "Parallel mode: deterministic, using up to 20 threads.\n",
      "Root relaxation solution time = 0.00 sec. (1.83 ticks)\n",
      "\n",
      "        Nodes                                         Cuts/\n",
      "   Node  Left     Objective  IInf  Best Integer    Best Bound    ItCnt     Gap\n",
      "\n",
      "      0     0   287257.8137   279                 287257.8137      267         \n",
      "      0     0   299682.2384   279                   Cuts: 221      382         \n",
      "      0     0   300771.4883   279                    Cuts: 78      433         \n",
      "      0     0   301111.7050   279                    Cuts: 29      460         \n",
      "      0     0   301182.4644   279                    Cuts: 22      484         \n",
      "      0     0   301230.7319   279                     Cuts: 4      487         \n",
      "Detecting symmetries...\n",
      "      0     0   301230.8140   279                  MIRcuts: 1      488         \n",
      "*     0+    0                       314645.0000   301230.8140             4.26%\n",
      "*     0+    0                       313540.0000   301638.3262             3.80%\n",
      "      0     0  -1.00000e+75     0   313540.0000   301638.3262      488    3.80%\n",
      "*     0+    0                       312395.0000   301638.3262             3.44%\n",
      "*     0+    0                       312200.0000   301638.3262             3.38%\n",
      "Detecting symmetries...\n",
      "      0     2   301230.8140   351   312200.0000   301638.3262      488    3.38%\n",
      "Elapsed time = 0.20 sec. (138.12 ticks, tree = 0.02 MB, solutions = 4)\n",
      "*    29+   14                       311960.0000   301638.3262             3.31%\n",
      "*    30+    7                       311700.0000   301638.3262             3.23%\n",
      "*    30+    1                       311700.0000   301638.3262             3.23%\n",
      "*    35+    6                       311700.0000   301638.3262             3.23%\n",
      "*  2355+ 1385                       310490.0000   301638.3262             2.85%\n",
      "*  2564+ 1866                       309445.0000   301638.3262             2.52%\n",
      "*  2907+ 2057                       309180.0000   301638.3262             2.44%\n",
      "*  3118+ 1977                       309150.0000   301638.3262             2.43%\n",
      "*  5234+ 3210                       307685.0000   301774.8854             1.92%\n",
      "*  5245+ 3210                       307665.0000   301774.8854             1.91%\n",
      "*  5257+ 3407                       307665.0000   301774.8854             1.91%\n",
      "\n",
      "Performing restart 1\n",
      "\n",
      "Repeating presolve.\n",
      "Tried aggregator 1 time.\n",
      "MIP Presolve modified 63 coefficients.\n",
      "Reduced MIP has 550 rows, 653 columns, and 1918 nonzeros.\n",
      "Reduced MIP has 206 binaries, 447 generals, 0 SOSs, and 0 indicators.\n",
      "Presolve time = 0.00 sec. (0.87 ticks)\n",
      "Tried aggregator 1 time.\n",
      "MIP Presolve modified 21 coefficients.\n",
      "Reduced MIP has 550 rows, 653 columns, and 1918 nonzeros.\n",
      "Reduced MIP has 206 binaries, 447 generals, 0 SOSs, and 0 indicators.\n",
      "Presolve time = 0.00 sec. (1.22 ticks)\n",
      "Represolve time = 0.01 sec. (5.04 ticks)\n",
      "*  5260+    0                       307595.0000   301774.8854             1.89%\n",
      "   5260     0   303023.8314   351   307595.0000     Cuts: 237    19469    1.49%\n",
      "   5260     0   303687.8848   351   307595.0000     Cuts: 237    19566    1.27%\n",
      "   5260     0   304033.8711   351   307595.0000     Cuts: 218    19648    1.16%\n",
      "   5260     0   304528.0449   351   307595.0000     Cuts: 195    19713    1.00%\n",
      "   5260     0   304651.3174   351   307595.0000     Cuts: 143    19775    0.96%\n",
      "   5260     0   304792.0166   351   307595.0000     Cuts: 119    19837    0.91%\n",
      "   5260     0   304833.3871   351   307595.0000      Cuts: 63    19879    0.90%\n",
      "   5260     0   304851.6998   351   307595.0000      Cuts: 66    19910    0.89%\n",
      "   5260     0   304865.6927   351   307595.0000      Cuts: 70    19932    0.89%\n",
      "   5260     0   304934.3212   351   307595.0000      Cuts: 52    19971    0.86%\n",
      "   5260     0   305013.2005   351   307595.0000      Cuts: 85    20019    0.84%\n",
      "   5260     0   305036.8470   351   307595.0000      Cuts: 28    20049    0.83%\n",
      "   5260     0   305054.4125   351   307595.0000      Cuts: 59    20088    0.82%\n",
      "   5260     0   305089.1628   351   307595.0000      Cuts: 21    20111    0.81%\n",
      "   5260     0   305119.8176   351   307595.0000      Cuts: 69    20137    0.80%\n",
      "   5260     0   305143.6734   351   307595.0000      Cuts: 53    20161    0.80%\n",
      "   5260     0   305157.6867   351   307595.0000      Cuts: 22    20176    0.79%\n",
      "   5260     0   305166.7282   351   307595.0000      Cuts: 21    20184    0.79%\n",
      "   5260     0   305173.0227   351   307595.0000      Cuts: 13    20192    0.79%\n",
      "   5260     0   305174.7911   351   307595.0000    MIRcuts: 1    20194    0.79%\n",
      "*  5260+    0                       307520.0000   305174.7911             0.76%\n",
      "   5260     0  -1.00000e+75     0   307520.0000   305174.7911    20194    0.76%\n",
      "   5260     2   305174.7911   378   307520.0000   305174.7911    20194    0.76%\n",
      "*  5262+    1                       307440.0000   305231.3865             0.72%\n",
      "*  5266+    4                       307420.0000   305299.3890             0.69%\n",
      "*  5268+    3                       307420.0000   305299.3890             0.69%\n",
      "*  5294+   11                       307220.0000   305400.8051             0.59%\n",
      "*  5310+   16                       307220.0000   305429.7034             0.58%\n",
      "*  5311+   14                       307220.0000   305429.7034             0.58%\n",
      "*  6441+  513                       306840.0000   305438.1742             0.46%\n",
      "*  6462+  561                       306435.0000   305438.1742             0.33%\n",
      "   6736   660   305892.1111   322   306435.0000   305438.1742    24621    0.33%\n",
      "*  7008+  437                       306415.0000   305438.1742             0.32%\n",
      "*  7075+  462                       306380.0000   305438.1742             0.31%\n",
      "*  7679+  493                       306320.0000   305591.4385             0.24%\n",
      "*  8468+  607                       306155.0000   305750.6164             0.13%\n",
      "*  8649+  591                       306070.0000   305750.9055             0.10%\n",
      "*  9715+  182                       306060.0000   305882.5091             0.06%\n",
      "* 10113+  129                       306055.0000   305922.4482             0.04%\n",
      "\n",
      "Implied bound cuts applied:  4\n",
      "Flow cuts applied:  10\n",
      "Mixed integer rounding cuts applied:  160\n",
      "Lift and project cuts applied:  28\n",
      "Gomory fractional cuts applied:  51\n",
      "\n",
      "Root node processing (before b&c):\n",
      "  Real time             =    0.19 sec. (137.86 ticks)\n",
      "Parallel b&c, 20 threads:\n",
      "  Real time             =    2.36 sec. (1431.41 ticks)\n",
      "  Sync time (average)   =    0.34 sec.\n",
      "  Wait time (average)   =    0.04 sec.\n",
      "                          ------------\n",
      "Total (root+branch&cut) =    2.55 sec. (1569.27 ticks)\n",
      "-------------------------------------------------------------------------------\n",
      "                                    Summary                                    \n",
      "-------------------------------------------------------------------------------\n",
      "(CVXPY) May 04 08:01:25 AM: Problem status: optimal\n",
      "(CVXPY) May 04 08:01:25 AM: Optimal value: 3.061e+05\n",
      "(CVXPY) May 04 08:01:25 AM: Compilation took 2.708e-01 seconds\n",
      "(CVXPY) May 04 08:01:25 AM: Solver (including time spent in interface) took 2.569e+00 seconds\n"
     ]
    },
    {
     "data": {
      "text/plain": [
       "306054.99999998085"
      ]
     },
     "execution_count": 109,
     "metadata": {},
     "output_type": "execute_result"
    }
   ],
   "source": [
    "prob = cp.Problem(obj, cons)\n",
    "prob.solve(solver=cp.CPLEX, verbose=True)"
   ]
  },
  {
   "cell_type": "markdown",
   "metadata": {},
   "source": [
    "整数规划： 4.1 s"
   ]
  },
  {
   "cell_type": "code",
   "execution_count": 110,
   "metadata": {},
   "outputs": [],
   "source": [
    "working_bodies = cp.Parameter(total_week)\n",
    "waste_bodies = cp.Parameter(total_week)\n",
    "working_bodies.value = requirements\n",
    "waste_bodies.value = np.array([\n",
    "    round(x * waste_rate) if (x * waste_rate) % 1 != 0.5 else ceil(x * waste_rate) \n",
    "    for x in requirements])\n",
    "\n",
    "resting_bodies = cp.Variable(total_week, integer=True)\n",
    "new_bodies = cp.Variable((3, total_week), integer=True)\n",
    "\n",
    "# 机械手购买的分段点\n",
    "body_price = cp.Parameter((3, 1))\n",
    "body_price.value = np.array([200, 180, 160]).reshape(3, 1)\n",
    "\n",
    "body_y = cp.Variable((3, total_week), boolean=True)"
   ]
  },
  {
   "cell_type": "code",
   "execution_count": 111,
   "metadata": {},
   "outputs": [],
   "source": [
    "cons2 = [\n",
    "    resting_bodies[0] + working_bodies[0] == 13,\n",
    "\n",
    "    resting_bodies >= 0,\n",
    "    new_bodies >= 0,\n",
    "\n",
    "    5 * body_y[1] <= new_bodies[0],\n",
    "    new_bodies[0] <= 5 * body_y[0],\n",
    "    5 * body_y[2] <= new_bodies[1],\n",
    "    new_bodies[1]  <= 5 * body_y[1],\n",
    "    new_bodies[2] <= 10000 * body_y[2]\n",
    "]\n",
    "\n",
    "for t in range(total_week - 1):\n",
    "    cons2.append(resting_bodies[t + 1] + working_bodies[t + 1]== \\\n",
    "        resting_bodies[t] + working_bodies[t] + cp.sum(new_bodies, axis=0)[t] - waste_bodies[t]\n",
    "        )"
   ]
  },
  {
   "cell_type": "code",
   "execution_count": 112,
   "metadata": {},
   "outputs": [],
   "source": [
    "obj2 = cp.Minimize(\n",
    "    cp.sum(cp.multiply(new_bodies, body_price))\\\n",
    "    + 10 * cp.sum(resting_bodies)\n",
    ")"
   ]
  },
  {
   "cell_type": "code",
   "execution_count": 113,
   "metadata": {},
   "outputs": [
    {
     "name": "stdout",
     "output_type": "stream",
     "text": [
      "===============================================================================\n",
      "                                     CVXPY                                     \n",
      "                                     v1.2.0                                    \n",
      "===============================================================================\n",
      "(CVXPY) May 04 08:01:25 AM: Your problem has 728 variables, 111 constraints, and 211 parameters.\n",
      "(CVXPY) May 04 08:01:25 AM: It is compliant with the following grammars: DCP, DQCP\n",
      "(CVXPY) May 04 08:01:25 AM: CVXPY will first compile your problem; then, it will invoke a numerical solver to obtain a solution.\n",
      "-------------------------------------------------------------------------------\n",
      "                                  Compilation                                  \n",
      "-------------------------------------------------------------------------------\n",
      "(CVXPY) May 04 08:01:25 AM: Compiling problem (target solver=CPLEX).\n",
      "(CVXPY) May 04 08:01:25 AM: Reduction chain: CvxAttr2Constr -> Qp2SymbolicQp -> QpMatrixStuffing -> CPLEX\n",
      "(CVXPY) May 04 08:01:25 AM: Applying reduction CvxAttr2Constr\n",
      "(CVXPY) May 04 08:01:25 AM: Applying reduction Qp2SymbolicQp\n",
      "(CVXPY) May 04 08:01:25 AM: Applying reduction QpMatrixStuffing\n",
      "(CVXPY) May 04 08:01:25 AM: Applying reduction CPLEX\n",
      "(CVXPY) May 04 08:01:25 AM: Finished problem compilation (took 1.708e-01 seconds).\n",
      "(CVXPY) May 04 08:01:25 AM: (Subsequent compilations of this problem, using the same arguments, should take less time.)\n",
      "-------------------------------------------------------------------------------\n",
      "                                Numerical solver                               \n",
      "-------------------------------------------------------------------------------\n",
      "(CVXPY) May 04 08:01:25 AM: Invoking solver CPLEX  to obtain a solution.\n",
      "Version identifier: 12.10.0.0 | 2019-11-26 | 843d4de2ae\n",
      "CPXPARAM_Read_DataCheck                          1\n"
     ]
    },
    {
     "name": "stderr",
     "output_type": "stream",
     "text": [
      "Warning:  Non-integral bounds for integer variables rounded.\n"
     ]
    },
    {
     "name": "stdout",
     "output_type": "stream",
     "text": [
      "Tried aggregator 2 times.\n",
      "MIP Presolve eliminated 523 rows and 108 columns.\n",
      "MIP Presolve added 1 rows and 0 columns.\n",
      "Aggregator did 103 substitutions.\n",
      "Reduced MIP has 415 rows, 517 columns, and 1380 nonzeros.\n",
      "Reduced MIP has 206 binaries, 311 generals, 0 SOSs, and 0 indicators.\n",
      "Presolve time = 0.00 sec. (1.63 ticks)\n",
      "Found incumbent of value 6.7366664e+08 after 0.00 sec. (3.04 ticks)\n",
      "Probing fixed 0 vars, tightened 2 bounds.\n",
      "Probing time = 0.00 sec. (1.28 ticks)\n",
      "Tried aggregator 1 time.\n",
      "Detecting symmetries...\n",
      "MIP Presolve modified 3 coefficients.\n",
      "Reduced MIP has 415 rows, 517 columns, and 1380 nonzeros.\n",
      "Reduced MIP has 206 binaries, 311 generals, 0 SOSs, and 0 indicators.\n",
      "Presolve time = 0.00 sec. (0.94 ticks)\n",
      "Probing fixed 0 vars, tightened 1 bounds.\n",
      "Probing time = 0.00 sec. (1.50 ticks)\n",
      "Clique table members: 103.\n",
      "MIP emphasis: balance optimality and feasibility.\n",
      "MIP search method: dynamic search.\n",
      "Parallel mode: deterministic, using up to 20 threads.\n",
      "Root relaxation solution time = 0.00 sec. (0.98 ticks)\n",
      "\n",
      "        Nodes                                         Cuts/\n",
      "   Node  Left     Objective  IInf  Best Integer    Best Bound    ItCnt     Gap\n",
      "\n",
      "*     0+    0                       6.73667e+08  -5.99446e+07           108.90%\n",
      "*     0+    0                       6.73667e+08  -5.99446e+07           108.90%\n",
      "*     0+    0                       6.73667e+08  -5.99446e+07           108.90%\n",
      "      0     0    82664.9251   212   6.73667e+08    82664.9251      153   99.99%\n",
      "      0     0    88231.7518   212   6.73667e+08     Cuts: 132      233   99.99%\n",
      "      0     0    88848.5001   212   6.73667e+08      Cuts: 56      303   99.99%\n",
      "      0     0    88867.2354   212   6.73667e+08      Cuts: 14      314   99.99%\n",
      "      0     0    88881.0146   212   6.73667e+08      Cuts: 18      335   99.99%\n",
      "      0     0    88892.0581   212   6.73667e+08       Cuts: 9      347   99.99%\n",
      "Detecting symmetries...\n",
      "      0     0    88894.5311   212   6.73667e+08       Cuts: 8      359   99.99%\n",
      "      0     0    88902.3324   212   6.73667e+08       Cuts: 9      369   99.99%\n",
      "      0     0    88909.5277   212   6.73667e+08   ZeroHalf: 5      380   99.99%\n",
      "      0     0    88914.2282   212   6.73667e+08       Cuts: 6      389   99.99%\n",
      "*     0+    0                        95100.0000    88914.2282             6.50%\n",
      "*     0+    0                        95000.0000    88914.2282             6.41%\n",
      "*     0+    0                        94900.0000    89242.6998             5.96%\n",
      "      0     0  -1.00000e+75     0    94900.0000    89242.6998      389    5.96%\n",
      "Detecting symmetries...\n",
      "      0     2    88914.2282   247    94900.0000    89284.1542      389    5.92%\n",
      "Elapsed time = 0.13 sec. (60.75 ticks, tree = 0.02 MB, solutions = 6)\n",
      "*    16+    2                        93900.0000    89284.1542             4.92%\n",
      "*   738+  234                        93760.0000    89284.1542             4.77%\n",
      "*   889+  429                        93260.0000    89284.1542             4.26%\n",
      "*  2106  1665      integral     0    93150.0000    89284.1542     5848    4.15%\n",
      "*  2122+ 1665                        93080.0000    89284.1542             4.08%\n",
      "*  2931+ 1629                        92870.0000    89284.1542             3.86%\n",
      "*  2933+ 1659                        92870.0000    89284.1542             3.86%\n",
      "*  4860+ 2936                        92660.0000    89591.5378             3.31%\n",
      "*  4963+ 3155                        92660.0000    89591.5378             3.31%\n",
      "*  5021+ 3000                        92660.0000    89591.5378             3.31%\n",
      "*  5116+ 3026                        92660.0000    89591.5378             3.31%\n",
      "\n",
      "Performing restart 1\n",
      "\n",
      "Repeating presolve.\n",
      "Tried aggregator 1 time.\n",
      "MIP Presolve modified 147 coefficients.\n",
      "Reduced MIP has 415 rows, 517 columns, and 1380 nonzeros.\n",
      "Reduced MIP has 206 binaries, 311 generals, 0 SOSs, and 0 indicators.\n",
      "Presolve time = 0.00 sec. (1.03 ticks)\n",
      "Tried aggregator 1 time.\n",
      "MIP Presolve modified 39 coefficients.\n",
      "Reduced MIP has 415 rows, 517 columns, and 1380 nonzeros.\n",
      "Reduced MIP has 206 binaries, 311 generals, 0 SOSs, and 0 indicators.\n",
      "Presolve time = 0.00 sec. (0.96 ticks)\n",
      "Represolve time = 0.00 sec. (3.74 ticks)\n",
      "*  5256+    0                        92580.0000    89644.2313             3.17%\n",
      "   5256     0    90914.0925   253    92580.0000     Cuts: 203    18499    1.80%\n",
      "   5256     0    91434.0674   253    92580.0000     Cuts: 190    18609    1.24%\n",
      "   5256     0    91727.3990   253    92580.0000     Cuts: 174    18720    0.92%\n",
      "   5256     0    91906.9420   253    92580.0000     Cuts: 140    18796    0.73%\n",
      "   5256     0    91970.3550   253    92580.0000      Cuts: 75    18852    0.66%\n",
      "   5256     0    92012.5692   253    92580.0000      Cuts: 82    18911    0.61%\n",
      "   5256     0    92034.8498   253    92580.0000      Cuts: 60    18944    0.59%\n",
      "   5256     0    92049.0964   253    92580.0000      Cuts: 85    18974    0.57%\n",
      "   5256     0    92062.4523   253    92580.0000      Cuts: 42    19001    0.56%\n",
      "   5256     0    92072.3409   253    92580.0000      Cuts: 37    19019    0.55%\n",
      "   5256     0    92087.4509   253    92580.0000      Cuts: 54    19053    0.53%\n",
      "   5256     0    92102.5154   253    92580.0000      Cuts: 63    19088    0.52%\n",
      "   5256     0    92114.5350   253    92580.0000      Cuts: 35    19121    0.50%\n",
      "   5256     0    92118.4432   253    92580.0000      Cuts: 41    19137    0.50%\n",
      "   5256     0    92123.3031   253    92580.0000       Cuts: 9    19146    0.49%\n",
      "   5256     0    92124.7399   253    92580.0000      Cuts: 14    19155    0.49%\n",
      "   5256     0    92132.9195   253    92580.0000      Cuts: 26    19163    0.48%\n",
      "   5256     0    92141.5783   253    92580.0000      Cuts: 15    19174    0.47%\n",
      "   5256     0    92147.3845   253    92580.0000      Cuts: 19    19189    0.47%\n",
      "   5256     0    92149.0940   253    92580.0000       Cuts: 9    19201    0.47%\n",
      "   5256     0    92149.5201   253    92580.0000       Cuts: 4    19207    0.46%\n",
      "*  5256+    0                        92240.0000    92149.5201             0.10%\n",
      "   5256     2    92193.8290   179    92240.0000    92149.5201    19207    0.10%\n",
      "\n",
      "Implied bound cuts applied:  3\n",
      "Flow cuts applied:  25\n",
      "Mixed integer rounding cuts applied:  106\n",
      "Zero-half cuts applied:  13\n",
      "Lift and project cuts applied:  19\n",
      "Gomory fractional cuts applied:  45\n",
      "\n",
      "Root node processing (before b&c):\n",
      "  Real time             =    0.13 sec. (60.57 ticks)\n",
      "Parallel b&c, 20 threads:\n",
      "  Real time             =    0.94 sec. (577.15 ticks)\n",
      "  Sync time (average)   =    0.11 sec.\n",
      "  Wait time (average)   =    0.00 sec.\n",
      "                          ------------\n",
      "Total (root+branch&cut) =    1.06 sec. (637.72 ticks)\n",
      "-------------------------------------------------------------------------------\n",
      "                                    Summary                                    \n",
      "-------------------------------------------------------------------------------\n",
      "(CVXPY) May 04 08:01:26 AM: Problem status: optimal\n",
      "(CVXPY) May 04 08:01:26 AM: Optimal value: 9.224e+04\n",
      "(CVXPY) May 04 08:01:26 AM: Compilation took 1.708e-01 seconds\n",
      "(CVXPY) May 04 08:01:26 AM: Solver (including time spent in interface) took 1.083e+00 seconds\n"
     ]
    },
    {
     "data": {
      "text/plain": [
       "92239.99999999953"
      ]
     },
     "execution_count": 113,
     "metadata": {},
     "output_type": "execute_result"
    }
   ],
   "source": [
    "prob2 = cp.Problem(obj2, cons2)\n",
    "prob2.solve(solver=cp.CPLEX, verbose=True)"
   ]
  },
  {
   "cell_type": "code",
   "execution_count": 114,
   "metadata": {},
   "outputs": [
    {
     "data": {
      "text/plain": [
       "(array([ 44,  20,  16,  28,  64,  24,  20,  28,  52,  24,  20,  28,  48,\n",
       "         20,  16,  24,  36,  20,  20,  44, 116,  84,  68,  80, 108,  52,\n",
       "         36,  40,  64,  24,  20,  28,  44,  20,  20,  24,  48,  28,  28,\n",
       "         40,  60,  40,  36,  44,  60,  40,  40,  64, 104,  84,  92, 144,\n",
       "        200, 180, 180, 196, 228, 172, 160, 176, 208, 172, 168, 180, 208,\n",
       "        164, 156, 164, 192, 140, 136, 140, 168, 136, 144, 172, 220, 192,\n",
       "        216, 260, 320, 280, 296, 340, 404, 356, 352, 360, 400, 348, 352,\n",
       "        356, 416, 356, 356, 360, 424, 384, 376, 396, 436, 396, 384, 408],\n",
       "       dtype=int64),\n",
       " array([  5.,  40.,  44.,  30.,  24.,  56.,  56.,  47.,  24.,  48.,  48.,\n",
       "         39.,  24.,  48.,  52.,  44.,  28.,  40.,  39.,  20.,  91., 111.,\n",
       "        119.,  98.,  72., 116., 128., 120.,  92., 124., 124., 116.,  96.,\n",
       "        116., 116., 112.,  84., 100.,  96.,  80.,  56.,  68.,  68.,  55.,\n",
       "         40.,  52.,  46.,  36.,  88.,  96.,  76.,  84., 185., 185., 164.,\n",
       "        228., 176., 208., 204., 169., 179., 195., 183., 152., 164., 188.,\n",
       "        180., 154., 148., 180., 168., 150., 136., 152., 129., 128., 217.,\n",
       "        221., 172., 196., 293., 301., 252., 268., 356., 364., 325., 424.,\n",
       "        348., 360., 317., 316., 384., 404., 368., 320., 384., 380., 345.,\n",
       "        340., 396., 392., 361., 344.]),\n",
       " array([ 4,  0,  0,  4,  8,  4,  0,  4,  4,  4,  0,  4,  4,  0,  0,  4,  4,\n",
       "         0,  0,  4, 12,  8,  8,  8, 12,  4,  4,  4,  8,  4,  0,  4,  4,  0,\n",
       "         0,  4,  4,  4,  4,  4,  8,  4,  4,  4,  8,  4,  4,  8, 12,  8,  8,\n",
       "        16, 20, 16, 16, 20, 24, 16, 16, 16, 20, 16, 16, 16, 20, 16, 16, 16,\n",
       "        20, 16, 12, 16, 16, 12, 16, 16, 24, 20, 20, 24, 32, 28, 28, 32, 40,\n",
       "        36, 36, 36, 40, 36, 36, 36, 40, 36, 36, 36, 44, 40, 36, 40, 44, 40,\n",
       "        40, 40]))"
      ]
     },
     "execution_count": 114,
     "metadata": {},
     "output_type": "execute_result"
    }
   ],
   "source": [
    "working_hands.value, resting_hands.value, waste_hands.value"
   ]
  },
  {
   "cell_type": "code",
   "execution_count": 115,
   "metadata": {},
   "outputs": [
    {
     "data": {
      "text/plain": [
       "array([[ 1.00000000e+00,  1.00000000e+00,  1.00000000e+00,\n",
       "         1.00000000e+00,  1.00000000e+00,  1.00000000e+00,\n",
       "         1.00000000e+00,  1.00000000e+00,  1.00000000e+00,\n",
       "         1.00000000e+00,  1.00000000e+00,  1.00000000e+00,\n",
       "         1.00000000e+00,  1.00000000e+00,  1.00000000e+00,\n",
       "         1.00000000e+00,  1.00000000e+00,  1.00000000e+00,\n",
       "         1.00000000e+00,  1.00000000e+00,  1.00000000e+00,\n",
       "         1.00000000e+00,  1.00000000e+00,  1.00000000e+00,\n",
       "         1.00000000e+00,  1.00000000e+00,  1.00000000e+00,\n",
       "         1.00000000e+00,  1.00000000e+00,  1.00000000e+00,\n",
       "         1.00000000e+00,  1.00000000e+00,  1.00000000e+00,\n",
       "         1.00000000e+00,  1.00000000e+00,  1.00000000e+00,\n",
       "         1.00000000e+00,  1.00000000e+00,  1.00000000e+00,\n",
       "         1.00000000e+00,  1.00000000e+00,  1.00000000e+00,\n",
       "         1.00000000e+00,  1.00000000e+00,  1.00000000e+00,\n",
       "         1.00000000e+00,  1.00000000e+00,  1.00000000e+00,\n",
       "         1.00000000e+00,  1.00000000e+00,  1.00000000e+00,\n",
       "         1.00000000e+00,  1.00000000e+00,  1.00000000e+00,\n",
       "         1.00000000e+00,  1.00000000e+00,  1.00000000e+00,\n",
       "         1.00000000e+00,  1.00000000e+00,  1.00000000e+00,\n",
       "         1.00000000e+00,  1.00000000e+00,  1.00000000e+00,\n",
       "         1.00000000e+00,  1.00000000e+00,  1.00000000e+00,\n",
       "         1.00000000e+00,  1.00000000e+00,  1.00000000e+00,\n",
       "         1.00000000e+00,  1.00000000e+00,  1.00000000e+00,\n",
       "         1.00000000e+00,  1.00000000e+00,  1.00000000e+00,\n",
       "         1.00000000e+00,  1.00000000e+00,  1.00000000e+00,\n",
       "         1.00000000e+00,  1.00000000e+00,  1.00000000e+00,\n",
       "         1.00000000e+00,  1.00000000e+00,  1.00000000e+00,\n",
       "         1.00000000e+00,  1.00000000e+00,  1.00000000e+00,\n",
       "         1.00000000e+00,  1.00000000e+00,  1.00000000e+00,\n",
       "         1.00000000e+00,  1.00000000e+00,  1.00000000e+00,\n",
       "         1.00000000e+00,  1.00000000e+00,  1.00000000e+00,\n",
       "         1.00000000e+00,  1.00000000e+00,  1.00000000e+00,\n",
       "         1.00000000e+00,  1.00000000e+00,  1.00000000e+00,\n",
       "         1.00000000e+00,  1.00000000e+00],\n",
       "       [ 0.00000000e+00,  0.00000000e+00,  0.00000000e+00,\n",
       "         1.00000000e+00,  0.00000000e+00,  0.00000000e+00,\n",
       "         0.00000000e+00,  0.00000000e+00, -0.00000000e+00,\n",
       "         0.00000000e+00, -0.00000000e+00,  0.00000000e+00,\n",
       "         0.00000000e+00,  0.00000000e+00,  0.00000000e+00,\n",
       "         0.00000000e+00, -0.00000000e+00,  0.00000000e+00,\n",
       "         1.56874924e-12,  1.00000000e+00,  6.45390590e-13,\n",
       "         0.00000000e+00,  0.00000000e+00, -0.00000000e+00,\n",
       "         0.00000000e+00,  0.00000000e+00,  0.00000000e+00,\n",
       "         0.00000000e+00,  0.00000000e+00,  0.00000000e+00,\n",
       "         0.00000000e+00,  0.00000000e+00,  0.00000000e+00,\n",
       "         0.00000000e+00,  0.00000000e+00,  0.00000000e+00,\n",
       "         0.00000000e+00,  0.00000000e+00,  0.00000000e+00,\n",
       "         0.00000000e+00,  0.00000000e+00, -0.00000000e+00,\n",
       "         0.00000000e+00,  0.00000000e+00,  0.00000000e+00,\n",
       "         0.00000000e+00,  1.00000000e+00,  1.00000000e+00,\n",
       "         0.00000000e+00,  0.00000000e+00,  1.00000000e+00,\n",
       "         1.00000000e+00,  0.00000000e+00,  3.82697257e-13,\n",
       "         1.00000000e+00,  0.00000000e+00,  0.00000000e+00,\n",
       "         0.00000000e+00,  0.00000000e+00,  1.00000000e+00,\n",
       "         0.00000000e+00,  0.00000000e+00,  0.00000000e+00,\n",
       "         1.00000000e+00,  0.00000000e+00, -3.74041504e-13,\n",
       "         3.33815242e-13,  1.00000000e+00,  0.00000000e+00,\n",
       "         1.18359429e-13,  1.43537356e-13,  1.00000000e+00,\n",
       "        -0.00000000e+00,  0.00000000e+00,  1.00000000e+00,\n",
       "         1.00000000e+00,  0.00000000e+00, -0.00000000e+00,\n",
       "         1.00000000e+00,  1.00000000e+00,  0.00000000e+00,\n",
       "         0.00000000e+00,  1.00000000e+00,  1.00000000e+00,\n",
       "         0.00000000e+00,  0.00000000e+00,  1.00000000e+00,\n",
       "         0.00000000e+00,  0.00000000e+00,  0.00000000e+00,\n",
       "         1.00000000e+00,  1.00000000e+00,  0.00000000e+00,\n",
       "         0.00000000e+00,  0.00000000e+00,  1.00000000e+00,\n",
       "         0.00000000e+00,  0.00000000e+00,  1.00000000e+00,\n",
       "         1.00000000e+00,  0.00000000e+00,  0.00000000e+00,\n",
       "         1.00000000e+00, -0.00000000e+00],\n",
       "       [-0.00000000e+00,  0.00000000e+00,  0.00000000e+00,\n",
       "         0.00000000e+00,  0.00000000e+00, -0.00000000e+00,\n",
       "        -0.00000000e+00, -0.00000000e+00,  0.00000000e+00,\n",
       "         0.00000000e+00,  0.00000000e+00,  0.00000000e+00,\n",
       "         0.00000000e+00,  0.00000000e+00,  0.00000000e+00,\n",
       "         0.00000000e+00,  0.00000000e+00,  0.00000000e+00,\n",
       "         1.56874924e-12,  1.00000000e+00,  6.45390590e-13,\n",
       "         0.00000000e+00,  0.00000000e+00,  0.00000000e+00,\n",
       "         0.00000000e+00,  0.00000000e+00,  0.00000000e+00,\n",
       "         0.00000000e+00,  0.00000000e+00,  0.00000000e+00,\n",
       "         0.00000000e+00,  0.00000000e+00,  0.00000000e+00,\n",
       "         0.00000000e+00,  0.00000000e+00,  0.00000000e+00,\n",
       "         0.00000000e+00,  0.00000000e+00,  0.00000000e+00,\n",
       "         0.00000000e+00,  0.00000000e+00,  0.00000000e+00,\n",
       "         0.00000000e+00,  0.00000000e+00,  0.00000000e+00,\n",
       "         0.00000000e+00, -0.00000000e+00,  1.00000000e+00,\n",
       "        -0.00000000e+00,  0.00000000e+00,  1.00000000e+00,\n",
       "         1.00000000e+00,  0.00000000e+00,  0.00000000e+00,\n",
       "         1.00000000e+00,  0.00000000e+00, -0.00000000e+00,\n",
       "         0.00000000e+00, -0.00000000e+00,  1.00000000e+00,\n",
       "        -0.00000000e+00,  0.00000000e+00,  0.00000000e+00,\n",
       "         1.00000000e+00, -0.00000000e+00, -0.00000000e+00,\n",
       "         3.33454419e-13,  2.13971309e-12, -0.00000000e+00,\n",
       "         1.18359429e-13,  1.43537356e-13,  0.00000000e+00,\n",
       "         0.00000000e+00,  0.00000000e+00,  1.00000000e+00,\n",
       "         1.00000000e+00, -0.00000000e+00, -0.00000000e+00,\n",
       "         1.00000000e+00,  1.00000000e+00,  0.00000000e+00,\n",
       "         0.00000000e+00,  1.00000000e+00,  1.00000000e+00,\n",
       "         0.00000000e+00,  0.00000000e+00,  1.00000000e+00,\n",
       "         0.00000000e+00, -0.00000000e+00,  0.00000000e+00,\n",
       "         1.00000000e+00,  1.00000000e+00,  0.00000000e+00,\n",
       "         0.00000000e+00,  0.00000000e+00,  1.00000000e+00,\n",
       "         0.00000000e+00, -0.00000000e+00,  1.00000000e+00,\n",
       "         1.00000000e+00,  0.00000000e+00,  0.00000000e+00,\n",
       "         1.00000000e+00, -0.00000000e+00]])"
      ]
     },
     "execution_count": 115,
     "metadata": {},
     "output_type": "execute_result"
    }
   ],
   "source": [
    "hand_y.value"
   ]
  },
  {
   "cell_type": "code",
   "execution_count": 116,
   "metadata": {},
   "outputs": [
    {
     "data": {
      "text/plain": [
       "(array([[ 1.40000000e+01,  0.00000000e+00,  0.00000000e+00,\n",
       "          2.00000000e+01,  0.00000000e+00,  0.00000000e+00,\n",
       "          0.00000000e+00,  4.00000000e+00,  0.00000000e+00,\n",
       "          0.00000000e+00,  0.00000000e+00,  8.00000000e+00,\n",
       "          0.00000000e+00, -0.00000000e+00,  0.00000000e+00,\n",
       "          0.00000000e+00,  0.00000000e+00,  0.00000000e+00,\n",
       "          1.10000000e+01,  2.00000000e+01,  1.29078118e-11,\n",
       "          0.00000000e+00,  0.00000000e+00,  9.00000000e+00,\n",
       "         -0.00000000e+00, -0.00000000e+00, -0.00000000e+00,\n",
       "         -0.00000000e+00, -0.00000000e+00, -0.00000000e+00,\n",
       "         -0.00000000e+00, -0.00000000e+00, -0.00000000e+00,\n",
       "         -0.00000000e+00, -0.00000000e+00,  0.00000000e+00,\n",
       "          0.00000000e+00, -0.00000000e+00,  0.00000000e+00,\n",
       "          0.00000000e+00,  0.00000000e+00,  0.00000000e+00,\n",
       "          0.00000000e+00,  4.00000000e+00,  0.00000000e+00,\n",
       "          0.00000000e+00,  2.00000000e+01,  2.00000000e+01,\n",
       "          0.00000000e+00,  0.00000000e+00,  2.00000000e+01,\n",
       "          2.00000000e+01,  0.00000000e+00,  7.65394514e-12,\n",
       "          2.00000000e+01,  0.00000000e+00,  0.00000000e+00,\n",
       "          0.00000000e+00,  0.00000000e+00,  2.00000000e+01,\n",
       "          0.00000000e+00,  0.00000000e+00, -3.60352301e-09,\n",
       "          2.00000000e+01,  0.00000000e+00, -7.48083008e-12,\n",
       "          6.67630483e-12,  2.00000000e+01,  0.00000000e+00,\n",
       "          2.36718857e-12,  2.87074712e-12,  2.00000000e+01,\n",
       "         -2.05307831e-11,  0.00000000e+00,  2.00000000e+01,\n",
       "          2.00000000e+01,  0.00000000e+00,  0.00000000e+00,\n",
       "          2.00000000e+01,  2.00000000e+01,  0.00000000e+00,\n",
       "          0.00000000e+00,  2.00000000e+01,  2.00000000e+01,\n",
       "          0.00000000e+00,  0.00000000e+00,  2.00000000e+01,\n",
       "          0.00000000e+00, -0.00000000e+00,  0.00000000e+00,\n",
       "          2.00000000e+01,  2.00000000e+01,  0.00000000e+00,\n",
       "          0.00000000e+00,  7.67019031e-13,  2.00000000e+01,\n",
       "          0.00000000e+00, -0.00000000e+00,  2.00000000e+01,\n",
       "          2.00000000e+01,  0.00000000e+00,  0.00000000e+00,\n",
       "          2.00000000e+01,  0.00000000e+00],\n",
       "        [ 0.00000000e+00,  0.00000000e+00,  0.00000000e+00,\n",
       "          1.20000000e+01,  0.00000000e+00,  0.00000000e+00,\n",
       "          0.00000000e+00,  0.00000000e+00,  0.00000000e+00,\n",
       "          0.00000000e+00,  0.00000000e+00,  0.00000000e+00,\n",
       "         -0.00000000e+00, -0.00000000e+00, -0.00000000e+00,\n",
       "          0.00000000e+00,  0.00000000e+00,  0.00000000e+00,\n",
       "          3.13749849e-11,  2.00000000e+01,  1.29078118e-11,\n",
       "          0.00000000e+00,  0.00000000e+00,  0.00000000e+00,\n",
       "         -0.00000000e+00,  0.00000000e+00, -0.00000000e+00,\n",
       "         -0.00000000e+00, -0.00000000e+00, -0.00000000e+00,\n",
       "         -0.00000000e+00, -0.00000000e+00, -0.00000000e+00,\n",
       "         -0.00000000e+00,  0.00000000e+00, -0.00000000e+00,\n",
       "         -0.00000000e+00, -0.00000000e+00, -0.00000000e+00,\n",
       "         -0.00000000e+00,  0.00000000e+00,  0.00000000e+00,\n",
       "          0.00000000e+00,  0.00000000e+00,  0.00000000e+00,\n",
       "          0.00000000e+00,  1.00000000e+00,  2.00000000e+01,\n",
       "          0.00000000e+00,  0.00000000e+00,  2.00000000e+01,\n",
       "          2.00000000e+01,  0.00000000e+00,  0.00000000e+00,\n",
       "          2.00000000e+01,  1.83739267e-12,  0.00000000e+00,\n",
       "          0.00000000e+00,  0.00000000e+00,  2.00000000e+01,\n",
       "          0.00000000e+00,  0.00000000e+00,  0.00000000e+00,\n",
       "          2.00000000e+01,  0.00000000e+00,  0.00000000e+00,\n",
       "          6.66908838e-12,  1.60000000e+01,  0.00000000e+00,\n",
       "          2.36718857e-12,  2.87074712e-12,  8.00000000e+00,\n",
       "         -0.00000000e+00,  0.00000000e+00,  2.00000000e+01,\n",
       "          2.00000000e+01,  0.00000000e+00, -0.00000000e+00,\n",
       "          2.00000000e+01,  2.00000000e+01,  0.00000000e+00,\n",
       "          0.00000000e+00,  2.00000000e+01,  2.00000000e+01,\n",
       "          0.00000000e+00,  0.00000000e+00,  2.00000000e+01,\n",
       "          0.00000000e+00, -0.00000000e+00, -1.45358184e-12,\n",
       "          2.00000000e+01,  2.00000000e+01,  0.00000000e+00,\n",
       "          0.00000000e+00,  0.00000000e+00,  2.00000000e+01,\n",
       "          0.00000000e+00,  0.00000000e+00,  2.00000000e+01,\n",
       "          2.00000000e+01,  0.00000000e+00,  0.00000000e+00,\n",
       "          2.00000000e+01,  0.00000000e+00],\n",
       "        [ 0.00000000e+00,  0.00000000e+00,  0.00000000e+00,\n",
       "         -0.00000000e+00,  0.00000000e+00,  0.00000000e+00,\n",
       "          0.00000000e+00, -0.00000000e+00, -0.00000000e+00,\n",
       "         -0.00000000e+00, -0.00000000e+00, -0.00000000e+00,\n",
       "         -0.00000000e+00, -0.00000000e+00, -0.00000000e+00,\n",
       "         -0.00000000e+00, -0.00000000e+00,  0.00000000e+00,\n",
       "         -4.55243803e-11,  1.00000000e+02,  1.10638387e-11,\n",
       "          0.00000000e+00,  0.00000000e+00, -0.00000000e+00,\n",
       "         -0.00000000e+00, -0.00000000e+00, -0.00000000e+00,\n",
       "         -0.00000000e+00, -0.00000000e+00, -0.00000000e+00,\n",
       "         -0.00000000e+00, -0.00000000e+00, -0.00000000e+00,\n",
       "         -0.00000000e+00, -0.00000000e+00, -0.00000000e+00,\n",
       "         -0.00000000e+00, -0.00000000e+00, -0.00000000e+00,\n",
       "         -0.00000000e+00,  0.00000000e+00, -0.00000000e+00,\n",
       "          2.62393800e-13,  0.00000000e+00,  0.00000000e+00,\n",
       "          0.00000000e+00, -0.00000000e+00,  5.50000000e+01,\n",
       "         -0.00000000e+00,  0.00000000e+00,  3.30000000e+01,\n",
       "          1.24000000e+02,  0.00000000e+00, -0.00000000e+00,\n",
       "          5.10000000e+01,  0.00000000e+00, -0.00000000e+00,\n",
       "          0.00000000e+00, -0.00000000e+00,  1.50000000e+01,\n",
       "         -0.00000000e+00,  0.00000000e+00, -0.00000000e+00,\n",
       "          1.30000000e+01, -0.00000000e+00, -0.00000000e+00,\n",
       "         -0.00000000e+00,  0.00000000e+00, -0.00000000e+00,\n",
       "          0.00000000e+00, -0.00000000e+00,  0.00000000e+00,\n",
       "         -0.00000000e+00, -0.00000000e+00,  8.00000000e+00,\n",
       "          1.05000000e+02,  0.00000000e+00,  0.00000000e+00,\n",
       "          5.20000000e+01,  1.32000000e+02, -0.00000000e+00,\n",
       "         -0.00000000e+00,  5.20000000e+01,  1.35000000e+02,\n",
       "          0.00000000e+00,  1.36268007e-11,  9.60000000e+01,\n",
       "          0.00000000e+00,  0.00000000e+00,  0.00000000e+00,\n",
       "          4.00000000e+00,  1.16000000e+02,  0.00000000e+00,\n",
       "          0.00000000e+00,  0.00000000e+00,  1.16000000e+02,\n",
       "         -5.09979562e-12,  0.00000000e+00,  1.50000000e+01,\n",
       "          8.90000000e+01,  0.00000000e+00, -0.00000000e+00,\n",
       "          4.00000000e+00, -0.00000000e+00]]),\n",
       " array([ 1.00000000e+00,  0.00000000e+00,  0.00000000e+00,  2.00000000e+00,\n",
       "         0.00000000e+00,  0.00000000e+00,  0.00000000e+00,  1.00000000e+00,\n",
       "         0.00000000e+00,  0.00000000e+00,  0.00000000e+00,  1.00000000e+00,\n",
       "         0.00000000e+00,  0.00000000e+00,  0.00000000e+00,  0.00000000e+00,\n",
       "         0.00000000e+00, -2.44249065e-15,  1.00000000e+00,  7.00000000e+00,\n",
       "         1.84741111e-12,  0.00000000e+00,  0.00000000e+00,  1.00000000e+00,\n",
       "         0.00000000e+00,  0.00000000e+00,  0.00000000e+00,  0.00000000e+00,\n",
       "         0.00000000e+00,  0.00000000e+00,  0.00000000e+00,  0.00000000e+00,\n",
       "         0.00000000e+00,  0.00000000e+00,  0.00000000e+00,  0.00000000e+00,\n",
       "         0.00000000e+00,  0.00000000e+00,  0.00000000e+00,  0.00000000e+00,\n",
       "         0.00000000e+00,  0.00000000e+00,  0.00000000e+00,  1.00000000e+00,\n",
       "         0.00000000e+00,  0.00000000e+00,  2.00000000e+00,  5.00000000e+00,\n",
       "         0.00000000e+00, -1.73372428e-12,  4.00000000e+00,  9.00000000e+00,\n",
       "        -2.84217094e-14,  3.97903932e-13,  5.00000000e+00,  0.00000000e+00,\n",
       "         1.84741111e-12,  0.00000000e+00,  0.00000000e+00,  3.00000000e+00,\n",
       "         0.00000000e+00,  0.00000000e+00, -1.80165216e-10,  3.00000000e+00,\n",
       "         0.00000000e+00, -3.84333588e-13,  6.67269661e-13,  2.00000000e+00,\n",
       "         9.34518163e-15,  2.36718857e-13,  2.93562276e-13,  2.00000000e+00,\n",
       "        -1.02653915e-12, -3.35761380e-15,  3.00000000e+00,  8.00000000e+00,\n",
       "         0.00000000e+00,  1.33226763e-14,  5.00000000e+00,  9.00000000e+00,\n",
       "        -1.60610511e-14, -7.97413969e-12,  5.00000000e+00,  9.00000000e+00,\n",
       "         0.00000000e+00,  6.82121026e-13,  7.00000000e+00,  0.00000000e+00,\n",
       "         0.00000000e+00, -5.68434189e-14,  3.00000000e+00,  8.00000000e+00,\n",
       "         0.00000000e+00,  0.00000000e+00,  5.68434189e-14,  8.00000000e+00,\n",
       "        -2.54989781e-13, -2.76161054e-14,  3.00000000e+00,  7.00000000e+00,\n",
       "        -1.15463195e-14,  1.50990331e-14,  3.00000000e+00,  1.50990331e-14]))"
      ]
     },
     "execution_count": 116,
     "metadata": {},
     "output_type": "execute_result"
    }
   ],
   "source": [
    "new_hands.value, teaching_hands.value"
   ]
  },
  {
   "cell_type": "markdown",
   "metadata": {},
   "source": [
    "## 输出变量"
   ]
  },
  {
   "cell_type": "code",
   "execution_count": 117,
   "metadata": {},
   "outputs": [
    {
     "data": {
      "text/plain": [
       "398294.9999999804"
      ]
     },
     "execution_count": 117,
     "metadata": {},
     "output_type": "execute_result"
    }
   ],
   "source": [
    "prob.value + prob2.value"
   ]
  },
  {
   "cell_type": "code",
   "execution_count": null,
   "metadata": {},
   "outputs": [],
   "source": []
  },
  {
   "cell_type": "code",
   "execution_count": 118,
   "metadata": {},
   "outputs": [],
   "source": [
    "answers = [\n",
    "    np.round(np.sum(new_bodies.value, axis=0)),\n",
    "    np.round(np.sum(new_hands.value, axis=0)),\n",
    "    np.round(resting_hands.value),\n",
    "    np.round(resting_bodies.value),\n",
    "    np.round(np.sum(new_hands.value, axis=0) + teaching_hands.value),\n",
    "    np.sum(np.round(new_bodies.value) * body_price.value, axis=0) + \\\n",
    "        np.sum(np.round(new_hands.value) * hand_price.value, axis=0) + \\\n",
    "        5 * np.round(resting_hands.value) + \\\n",
    "        10 * np.round(resting_bodies.value) + \\\n",
    "        10 * np.round(np.sum(new_hands.value, axis=0) + teaching_hands.value)\n",
    "]"
   ]
  },
  {
   "cell_type": "code",
   "execution_count": 119,
   "metadata": {},
   "outputs": [
    {
     "data": {
      "text/plain": [
       "398295.0"
      ]
     },
     "execution_count": 119,
     "metadata": {},
     "output_type": "execute_result"
    }
   ],
   "source": [
    "answers[5].sum()"
   ]
  },
  {
   "cell_type": "code",
   "execution_count": 120,
   "metadata": {},
   "outputs": [],
   "source": [
    "answers = np.array(answers).T"
   ]
  },
  {
   "cell_type": "code",
   "execution_count": 121,
   "metadata": {},
   "outputs": [
    {
     "data": {
      "text/plain": [
       "array([  0.,   0., 116.,  11.,   0., 690.])"
      ]
     },
     "execution_count": 121,
     "metadata": {},
     "output_type": "execute_result"
    }
   ],
   "source": [
    "answers[25]"
   ]
  },
  {
   "cell_type": "code",
   "execution_count": 122,
   "metadata": {},
   "outputs": [],
   "source": [
    "part_ans = np.array(answers[[11, 25, 51, 77, 100, 101, 102, 103], :], dtype=np.int32)\n",
    "part_ans = np.concatenate([part_ans, np.sum(answers, keepdims=True, axis=0)])"
   ]
  },
  {
   "cell_type": "code",
   "execution_count": 123,
   "metadata": {},
   "outputs": [],
   "source": [
    "df = pd.DataFrame(part_ans, index=[12, 26, 52, 78, 101, 102, 103, 104, 'total'],\n",
    "    # columns=['购买的容器艇数量', '购买的操作手数量', '保养的操作手数量', '保养的容器艇数量', '参与训练的操作手数量', '总成本']\n",
    ")\n",
    "df.to_excel('prob4_answer.xlsx')"
   ]
  },
  {
   "cell_type": "markdown",
   "metadata": {},
   "source": [
    "## 方案五·问题一开头"
   ]
  },
  {
   "cell_type": "code",
   "execution_count": 124,
   "metadata": {},
   "outputs": [
    {
     "data": {
      "text/plain": [
       "92.0"
      ]
     },
     "execution_count": 124,
     "metadata": {},
     "output_type": "execute_result"
    }
   ],
   "source": [
    "start_bodies = answers[103, 0] + answers[103, 3] + working_bodies.value[103] - waste_bodies.value[103]\n",
    "start_bodies"
   ]
  },
  {
   "cell_type": "code",
   "execution_count": 125,
   "metadata": {},
   "outputs": [
    {
     "data": {
      "text/plain": [
       "712.0"
      ]
     },
     "execution_count": 125,
     "metadata": {},
     "output_type": "execute_result"
    }
   ],
   "source": [
    "start_hands = answers[103, 4] + answers[103, 2] + working_hands.value[103] - waste_hands.value[103]\n",
    "start_hands"
   ]
  }
 ],
 "metadata": {
  "interpreter": {
   "hash": "5f1f67310d7626f6a1e5a2bc75081377e7cbcf2b8e64ea2999e8e80be64123e8"
  },
  "kernelspec": {
   "display_name": "Python 3.9.12 ('math_model')",
   "language": "python",
   "name": "python3"
  },
  "language_info": {
   "codemirror_mode": {
    "name": "ipython",
    "version": 3
   },
   "file_extension": ".py",
   "mimetype": "text/x-python",
   "name": "python",
   "nbconvert_exporter": "python",
   "pygments_lexer": "ipython3",
   "version": "3.7.12"
  },
  "orig_nbformat": 4
 },
 "nbformat": 4,
 "nbformat_minor": 2
}
