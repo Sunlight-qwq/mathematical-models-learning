{
 "cells": [
  {
   "cell_type": "code",
   "execution_count": 14,
   "metadata": {},
   "outputs": [],
   "source": [
    "import numpy as np\n",
    "import pandas as pd\n",
    "import cvxpy as cp\n",
    "from math import ceil"
   ]
  },
  {
   "cell_type": "code",
   "execution_count": 15,
   "metadata": {},
   "outputs": [
    {
     "data": {
      "text/plain": [
       "(array([ 11,   5,   4,   7,  16,   6,   5,   7,  13,   6,   5,   7,  12,\n",
       "          5,   4,   6,   9,   5,   5,  11,  29,  21,  17,  20,  27,  13,\n",
       "          9,  10,  16,   6,   5,   7,  11,   5,   5,   6,  12,   7,   7,\n",
       "         10,  15,  10,   9,  11,  15,  10,  10,  16,  26,  21,  23,  36,\n",
       "         50,  45,  45,  49,  57,  43,  40,  44,  52,  43,  42,  45,  52,\n",
       "         41,  39,  41,  48,  35,  34,  35,  42,  34,  36,  43,  55,  48,\n",
       "         54,  65,  80,  70,  74,  85, 101,  89,  88,  90, 100,  87,  88,\n",
       "         89, 104,  89,  89,  90, 106,  96,  94,  99, 109,  99,  96, 102],\n",
       "       dtype=int64),\n",
       " array([ 2,  1,  1,  1,  3,  1,  1,  1,  3,  1,  1,  1,  2,  1,  1,  1,  2,\n",
       "         1,  1,  2,  6,  4,  3,  4,  5,  3,  2,  2,  3,  1,  1,  1,  2,  1,\n",
       "         1,  1,  2,  1,  1,  2,  3,  2,  2,  2,  3,  2,  2,  3,  5,  4,  5,\n",
       "         7, 10,  9,  9, 10, 11,  9,  8,  9, 10,  9,  8,  9, 10,  8,  8,  8,\n",
       "        10,  7,  7,  7,  8,  7,  7,  9, 11, 10, 11, 13, 16, 14, 15, 17, 20,\n",
       "        18, 18, 18, 20, 17, 18, 18, 21, 18, 18, 18, 21, 19, 19, 20, 22, 20,\n",
       "        19, 20]))"
      ]
     },
     "execution_count": 15,
     "metadata": {},
     "output_type": "execute_result"
    }
   ],
   "source": [
    "requirements = pd.read_excel('data.xlsx', header=None).values.flatten()\n",
    "TOTAL_WEEK = 104\n",
    "WASTE_RATE = 0.2\n",
    "K = 10\n",
    "wasted_robots = np.array([\n",
    "    round(x * WASTE_RATE) if x % 1 != 0.5 else ceil(4 * x * WASTE_RATE) \n",
    "    for x in requirements\n",
    "])\n",
    "requirements ,wasted_robots"
   ]
  },
  {
   "cell_type": "code",
   "execution_count": 16,
   "metadata": {},
   "outputs": [],
   "source": [
    "working_hands = cp.Parameter(TOTAL_WEEK)\n",
    "working_hands.value = 4 * requirements\n",
    "wasted_hands = cp.Parameter(TOTAL_WEEK)\n",
    "wasted_hands.value = 4 * wasted_robots\n",
    "working_bodies = cp.Parameter(TOTAL_WEEK)\n",
    "working_bodies.value = requirements\n",
    "wasted_bodies = cp.Parameter(TOTAL_WEEK)\n",
    "wasted_bodies.value = wasted_robots\n",
    "\n",
    "new_hands = cp.Variable(TOTAL_WEEK, integer=True)\n",
    "teaching_hands = cp.Variable(TOTAL_WEEK, integer=True)\n",
    "resting_hands = cp.Variable(TOTAL_WEEK, integer=True)\n",
    "new_bodies = cp.Variable(TOTAL_WEEK, integer=True)\n",
    "resting_bodies = cp.Variable(TOTAL_WEEK, integer=True)"
   ]
  },
  {
   "cell_type": "code",
   "execution_count": 17,
   "metadata": {},
   "outputs": [],
   "source": [
    "cons = [\n",
    "    resting_hands[0] + teaching_hands[0] + working_hands[0] == 50,\n",
    "    resting_bodies[0] + working_bodies[0] == 13,\n",
    "    K * teaching_hands >= new_hands,\n",
    "    teaching_hands >= 0,\n",
    "    resting_hands >= 0,\n",
    "    new_hands >= 0,\n",
    "    resting_bodies >= 0,\n",
    "    new_bodies >= 0\n",
    "]\n",
    "\n",
    "for t in range(TOTAL_WEEK - 1):\n",
    "    cons.append(resting_hands[t + 1] >= working_hands[t] - wasted_hands[t]),\n",
    "    cons.append(resting_hands[t + 1] + working_hands[t + 1] + teaching_hands[t + 1] == \\\n",
    "        resting_hands[t] + working_hands[t] + teaching_hands[t] + new_hands[t] - wasted_hands[t]\n",
    "        )\n",
    "    cons.append(resting_bodies[t + 1] + working_bodies[t + 1] == \\\n",
    "        resting_bodies[t] + working_bodies[t] + new_bodies[t] - wasted_bodies[t]    \n",
    "    )"
   ]
  },
  {
   "cell_type": "code",
   "execution_count": 18,
   "metadata": {},
   "outputs": [],
   "source": [
    "obj = cp.Minimize(\n",
    "    100 * cp.sum(new_hands)\\\n",
    "    + 200 * cp.sum(new_bodies)\n",
    "    + 5 * cp.sum(resting_hands)\\\n",
    "    + 10 * cp.sum(resting_bodies)\\\n",
    "    + 10 * cp.sum(teaching_hands + new_hands)\n",
    ")"
   ]
  },
  {
   "cell_type": "code",
   "execution_count": 19,
   "metadata": {},
   "outputs": [
    {
     "data": {
      "text/plain": [
       "669479.999999995"
      ]
     },
     "execution_count": 19,
     "metadata": {},
     "output_type": "execute_result"
    }
   ],
   "source": [
    "prob = cp.Problem(obj, cons)\n",
    "prob.solve()"
   ]
  },
  {
   "cell_type": "code",
   "execution_count": 20,
   "metadata": {},
   "outputs": [
    {
     "data": {
      "text/plain": [
       "array([ 0., -0., -0.,  8., -0., -0., -0.,  3., -0., -0., -0.,  5., -0.,\n",
       "       -0., -0.,  2., -0., -0.,  6., 20., -0., -0.,  4., 11., -0., -0.,\n",
       "       -0.,  1., -0., -0., -0.,  1., -0., -0., -0.,  6., -0., -0.,  2.,\n",
       "        7., -0., -0.,  3.,  6., -0., -0.,  8., 13., -0.,  6., 18., 21.,\n",
       "        5.,  9., 13., 18., -0.,  3., 12., 17.,  1.,  8., 11., 16., -0.,\n",
       "        5., 10., 15., -0.,  3.,  8., 14., -0.,  9., 14., 21.,  4., 16.,\n",
       "       22., 28.,  6., 18., 26., 33.,  8., 17., 20., 28.,  7., 18., 19.,\n",
       "       33.,  6., 18., 19., 34., 11., 17., 24., 30., 12., 17., 25., -0.])"
      ]
     },
     "execution_count": 20,
     "metadata": {},
     "output_type": "execute_result"
    }
   ],
   "source": [
    "new_bodies.value"
   ]
  }
 ],
 "metadata": {
  "interpreter": {
   "hash": "56ec32bb8e27cf47bfc416ca51b7f03ce792b44abd387efecb0154201e021081"
  },
  "kernelspec": {
   "display_name": "Python 3.7.12 ('py3.7')",
   "language": "python",
   "name": "python3"
  },
  "language_info": {
   "codemirror_mode": {
    "name": "ipython",
    "version": 3
   },
   "file_extension": ".py",
   "mimetype": "text/x-python",
   "name": "python",
   "nbconvert_exporter": "python",
   "pygments_lexer": "ipython3",
   "version": "3.7.12"
  },
  "orig_nbformat": 4
 },
 "nbformat": 4,
 "nbformat_minor": 2
}
