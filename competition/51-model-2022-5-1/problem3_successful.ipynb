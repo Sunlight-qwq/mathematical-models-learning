{
 "cells": [
  {
   "cell_type": "code",
   "execution_count": 2,
   "metadata": {},
   "outputs": [],
   "source": [
    "import pandas as pd\n",
    "import numpy as np\n",
    "# import matplotlib.pyplot as plt\n",
    "import cvxpy as cp\n",
    "from math import ceil\n",
    "\n",
    "data = pd.read_excel('data.xlsx', header=None).values.flatten()"
   ]
  },
  {
   "cell_type": "code",
   "execution_count": 3,
   "metadata": {},
   "outputs": [
    {
     "data": {
      "text/plain": [
       "array([ 11,   5,   4,   7,  16,   6,   5,   7,  13,   6,   5,   7,  12,\n",
       "         5,   4,   6,   9,   5,   5,  11,  29,  21,  17,  20,  27,  13,\n",
       "         9,  10,  16,   6,   5,   7,  11,   5,   5,   6,  12,   7,   7,\n",
       "        10,  15,  10,   9,  11,  15,  10,  10,  16,  26,  21,  23,  36,\n",
       "        50,  45,  45,  49,  57,  43,  40,  44,  52,  43,  42,  45,  52,\n",
       "        41,  39,  41,  48,  35,  34,  35,  42,  34,  36,  43,  55,  48,\n",
       "        54,  65,  80,  70,  74,  85, 101,  89,  88,  90, 100,  87,  88,\n",
       "        89, 104,  89,  89,  90, 106,  96,  94,  99, 109,  99,  96, 102],\n",
       "      dtype=int64)"
      ]
     },
     "execution_count": 3,
     "metadata": {},
     "output_type": "execute_result"
    }
   ],
   "source": [
    "requirements = data\n",
    "requirements"
   ]
  },
  {
   "cell_type": "code",
   "execution_count": 4,
   "metadata": {},
   "outputs": [],
   "source": [
    "total_week = 104\n",
    "requirements = requirements[0:total_week]\n",
    "K = 20\n",
    "waste_rate = 0.1"
   ]
  },
  {
   "cell_type": "code",
   "execution_count": 5,
   "metadata": {},
   "outputs": [],
   "source": [
    "working_hands = cp.Parameter(total_week)\n",
    "waste_hands = cp.Parameter(total_week)\n",
    "working_hands.value = 4 * requirements\n",
    "waste_hands.value = np.array([\n",
    "    round(4 * x * waste_rate) if x % 1 != 0.5 else ceil(4 * x * waste_rate) \n",
    "    for x in requirements\n",
    "])\n",
    "\n",
    "\n",
    "teaching_hands = cp.Variable(total_week, integer=True)\n",
    "resting_hands = cp.Variable(total_week, integer=True)\n",
    "new_hands = cp.Variable(total_week, integer=True)"
   ]
  },
  {
   "cell_type": "code",
   "execution_count": 6,
   "metadata": {},
   "outputs": [
    {
     "data": {
      "text/plain": [
       "(array([ 44,  20,  16,  28,  64,  24,  20,  28,  52,  24,  20,  28,  48,\n",
       "         20,  16,  24,  36,  20,  20,  44, 116,  84,  68,  80, 108,  52,\n",
       "         36,  40,  64,  24,  20,  28,  44,  20,  20,  24,  48,  28,  28,\n",
       "         40,  60,  40,  36,  44,  60,  40,  40,  64, 104,  84,  92, 144,\n",
       "        200, 180, 180, 196, 228, 172, 160, 176, 208, 172, 168, 180, 208,\n",
       "        164, 156, 164, 192, 140, 136, 140, 168, 136, 144, 172, 220, 192,\n",
       "        216, 260, 320, 280, 296, 340, 404, 356, 352, 360, 400, 348, 352,\n",
       "        356, 416, 356, 356, 360, 424, 384, 376, 396, 436, 396, 384, 408],\n",
       "       dtype=int64),\n",
       " array([ 4,  2,  2,  3,  6,  2,  2,  3,  5,  2,  2,  3,  5,  2,  2,  2,  4,\n",
       "         2,  2,  4, 12,  8,  7,  8, 11,  5,  4,  4,  6,  2,  2,  3,  4,  2,\n",
       "         2,  2,  5,  3,  3,  4,  6,  4,  4,  4,  6,  4,  4,  6, 10,  8,  9,\n",
       "        14, 20, 18, 18, 20, 23, 17, 16, 18, 21, 17, 17, 18, 21, 16, 16, 16,\n",
       "        19, 14, 14, 14, 17, 14, 14, 17, 22, 19, 22, 26, 32, 28, 30, 34, 40,\n",
       "        36, 35, 36, 40, 35, 35, 36, 42, 36, 36, 36, 42, 38, 38, 40, 44, 40,\n",
       "        38, 41]))"
      ]
     },
     "execution_count": 6,
     "metadata": {},
     "output_type": "execute_result"
    }
   ],
   "source": [
    "working_hands.value, waste_hands.value"
   ]
  },
  {
   "cell_type": "code",
   "execution_count": 7,
   "metadata": {},
   "outputs": [],
   "source": [
    "cons = [\n",
    "    resting_hands[0] + teaching_hands[0] + working_hands[0] == 50,\n",
    "    K * teaching_hands >= new_hands,\n",
    "    teaching_hands >= 0,\n",
    "    resting_hands >= 0,\n",
    "    new_hands >= 0\n",
    "]"
   ]
  },
  {
   "cell_type": "code",
   "execution_count": 8,
   "metadata": {},
   "outputs": [],
   "source": [
    "for t in range(total_week - 1):\n",
    "    cons.append(resting_hands[t + 1] >= working_hands[t] - waste_hands[t]),\n",
    "    cons.append(resting_hands[t + 1] + working_hands[t + 1] + teaching_hands[t + 1] == \\\n",
    "        resting_hands[t] + working_hands[t] + teaching_hands[t] + new_hands[t] - waste_hands[t]\n",
    "        )"
   ]
  },
  {
   "cell_type": "code",
   "execution_count": 9,
   "metadata": {},
   "outputs": [],
   "source": [
    "obj = cp.Minimize(\n",
    "    100 * cp.sum(new_hands)\\\n",
    "    + 5 * cp.sum(resting_hands)\\\n",
    "    + 10 * cp.sum(teaching_hands + new_hands)\n",
    ")"
   ]
  },
  {
   "cell_type": "code",
   "execution_count": 10,
   "metadata": {},
   "outputs": [
    {
     "name": "stdout",
     "output_type": "stream",
     "text": [
      "===============================================================================\n",
      "                                     CVXPY                                     \n",
      "                                     v1.2.0                                    \n",
      "===============================================================================\n",
      "(CVXPY) May 04 06:31:19 AM: Your problem has 312 variables, 211 constraints, and 208 parameters.\n",
      "(CVXPY) May 04 06:31:19 AM: It is compliant with the following grammars: DCP, DQCP\n",
      "(CVXPY) May 04 06:31:19 AM: CVXPY will first compile your problem; then, it will invoke a numerical solver to obtain a solution.\n",
      "-------------------------------------------------------------------------------\n",
      "                                  Compilation                                  \n",
      "-------------------------------------------------------------------------------\n",
      "(CVXPY) May 04 06:31:19 AM: Compiling problem (target solver=CPLEX).\n",
      "(CVXPY) May 04 06:31:19 AM: Reduction chain: CvxAttr2Constr -> Qp2SymbolicQp -> QpMatrixStuffing -> CPLEX\n",
      "(CVXPY) May 04 06:31:19 AM: Applying reduction CvxAttr2Constr\n",
      "(CVXPY) May 04 06:31:19 AM: Applying reduction Qp2SymbolicQp\n",
      "(CVXPY) May 04 06:31:19 AM: Applying reduction QpMatrixStuffing\n",
      "(CVXPY) May 04 06:31:19 AM: Applying reduction CPLEX\n",
      "(CVXPY) May 04 06:31:19 AM: Finished problem compilation (took 2.806e-01 seconds).\n",
      "(CVXPY) May 04 06:31:19 AM: (Subsequent compilations of this problem, using the same arguments, should take less time.)\n",
      "-------------------------------------------------------------------------------\n",
      "                                Numerical solver                               \n",
      "-------------------------------------------------------------------------------\n",
      "(CVXPY) May 04 06:31:19 AM: Invoking solver CPLEX  to obtain a solution.\n",
      "Version identifier: 12.10.0.0 | 2019-11-26 | 843d4de2ae\n",
      "CPXPARAM_Read_DataCheck                          1\n",
      "Tried aggregator 2 times.\n",
      "MIP Presolve eliminated 416 rows and 2 columns.\n",
      "Aggregator did 70 substitutions.\n",
      "Reduced MIP has 137 rows, 240 columns, and 612 nonzeros.\n",
      "Reduced MIP has 0 binaries, 240 generals, 0 SOSs, and 0 indicators.\n",
      "Presolve time = 0.00 sec. (0.65 ticks)\n",
      "Tried aggregator 1 time.\n",
      "Detecting symmetries...\n",
      "Reduced MIP has 137 rows, 240 columns, and 612 nonzeros.\n",
      "Reduced MIP has 0 binaries, 240 generals, 0 SOSs, and 0 indicators.\n",
      "Presolve time = 0.00 sec. (0.29 ticks)\n",
      "MIP emphasis: balance optimality and feasibility.\n",
      "MIP search method: dynamic search.\n",
      "Parallel mode: deterministic, using up to 20 threads.\n",
      "Root relaxation solution time = 0.00 sec. (0.54 ticks)\n",
      "\n",
      "        Nodes                                         Cuts/\n",
      "   Node  Left     Objective  IInf  Best Integer    Best Bound    ItCnt     Gap\n",
      "\n",
      "      0     0   333501.2635    74                 333501.2635      166         \n",
      "*     0+    0                       333735.0000   333501.2635             0.07%\n",
      "      0     0   333643.3229    74   333735.0000      Cuts: 62      211    0.03%\n",
      "*     0+    0                       333715.0000   333643.3229             0.02%\n",
      "      0     0   333676.1330    74   333715.0000      Cuts: 16      222    0.01%\n",
      "      0     0   333678.1529    74   333715.0000      Fract: 2      225    0.01%\n",
      "      0     0   333678.4163    74   333715.0000      Fract: 1      226    0.01%\n",
      "*     0+    0                       333715.0000   333678.4163             0.01%\n",
      "Detecting symmetries...\n",
      "\n",
      "Repeating presolve.\n",
      "Tried aggregator 4 times.\n",
      "MIP Presolve eliminated 53 rows and 89 columns.\n",
      "MIP Presolve modified 47 coefficients.\n",
      "Aggregator did 4 substitutions.\n",
      "Reduced MIP has 80 rows, 142 columns, and 358 nonzeros.\n",
      "Reduced MIP has 4 binaries, 138 generals, 0 SOSs, and 0 indicators.\n",
      "Presolve time = 0.00 sec. (0.47 ticks)\n",
      "Probing time = 0.00 sec. (0.00 ticks)\n",
      "Tried aggregator 1 time.\n",
      "Detecting symmetries...\n",
      "Reduced MIP has 80 rows, 142 columns, and 358 nonzeros.\n",
      "Reduced MIP has 4 binaries, 138 generals, 0 SOSs, and 0 indicators.\n",
      "Presolve time = 0.00 sec. (0.20 ticks)\n",
      "Represolve time = 0.00 sec. (0.98 ticks)\n",
      "Probing time = 0.00 sec. (0.00 ticks)\n",
      "MIP emphasis: balance optimality and feasibility.\n",
      "MIP search method: dynamic search.\n",
      "Parallel mode: deterministic, using up to 20 threads.\n",
      "Root relaxation solution time = 0.00 sec. (0.75 ticks)\n",
      "\n",
      "        Nodes                                         Cuts/\n",
      "   Node  Left     Objective  IInf  Best Integer    Best Bound    ItCnt     Gap\n",
      "\n",
      "*     0+    0                       333715.0000   333679.1818             0.01%\n",
      "      0     0   333678.4163    18   333715.0000   333679.1818      338    0.01%\n",
      "      0     0   333681.6330    18   333715.0000       Cuts: 2      340    0.01%\n",
      "\n",
      "Mixed integer rounding cuts applied:  5\n",
      "Lift and project cuts applied:  1\n",
      "Gomory fractional cuts applied:  48\n",
      "\n",
      "Root node processing (before b&c):\n",
      "  Real time             =    0.09 sec. (19.97 ticks)\n",
      "Parallel b&c, 20 threads:\n",
      "  Real time             =    0.00 sec. (0.00 ticks)\n",
      "  Sync time (average)   =    0.00 sec.\n",
      "  Wait time (average)   =    0.00 sec.\n",
      "                          ------------\n",
      "Total (root+branch&cut) =    0.09 sec. (19.97 ticks)\n",
      "-------------------------------------------------------------------------------\n",
      "                                    Summary                                    \n",
      "-------------------------------------------------------------------------------\n",
      "(CVXPY) May 04 06:31:19 AM: Problem status: optimal\n",
      "(CVXPY) May 04 06:31:19 AM: Optimal value: 3.337e+05\n",
      "(CVXPY) May 04 06:31:19 AM: Compilation took 2.806e-01 seconds\n",
      "(CVXPY) May 04 06:31:19 AM: Solver (including time spent in interface) took 1.008e-01 seconds\n"
     ]
    },
    {
     "data": {
      "text/plain": [
       "333715.0"
      ]
     },
     "execution_count": 10,
     "metadata": {},
     "output_type": "execute_result"
    }
   ],
   "source": [
    "prob = cp.Problem(obj, cons)\n",
    "prob.solve(solver=cp.CPLEX, verbose=True)"
   ]
  },
  {
   "cell_type": "code",
   "execution_count": 11,
   "metadata": {},
   "outputs": [
    {
     "data": {
      "text/plain": [
       "(array([ 44,  20,  16,  28,  64,  24,  20,  28,  52,  24,  20,  28,  48,\n",
       "         20,  16,  24,  36,  20,  20,  44, 116,  84,  68,  80, 108,  52,\n",
       "         36,  40,  64,  24,  20,  28,  44,  20,  20,  24,  48,  28,  28,\n",
       "         40,  60,  40,  36,  44,  60,  40,  40,  64, 104,  84,  92, 144,\n",
       "        200, 180, 180, 196, 228, 172, 160, 176, 208, 172, 168, 180, 208,\n",
       "        164, 156, 164, 192, 140, 136, 140, 168, 136, 144, 172, 220, 192,\n",
       "        216, 260, 320, 280, 296, 340, 404, 356, 352, 360, 400, 348, 352,\n",
       "        356, 416, 356, 356, 360, 424, 384, 376, 396, 436, 396, 384, 408],\n",
       "       dtype=int64),\n",
       " array([  5.,  40.,  42.,  26.,  25.,  59.,  61.,  50.,  25.,  48.,  50.,\n",
       "         39.,  25.,  48.,  50.,  40.,  26.,  38.,  35.,  18.,  40., 104.,\n",
       "        112.,  92.,  72., 117., 128., 120.,  92., 126., 128., 118.,  99.,\n",
       "        119., 117., 111.,  85., 100.,  97.,  82.,  58.,  72.,  72.,  60.,\n",
       "         40.,  54.,  49.,  36.,  58.,  94.,  76.,  83., 130., 180., 162.,\n",
       "        162., 176., 209., 204., 170., 158., 187., 173., 151., 162., 187.,\n",
       "        179., 153., 148., 181., 171., 152., 126., 151., 126., 130., 155.,\n",
       "        198., 173., 194., 234., 288., 252., 266., 306., 364., 330., 318.,\n",
       "        324., 360., 319., 317., 320., 374., 336., 320., 324., 382., 349.,\n",
       "        338., 356., 392., 361., 346.]))"
      ]
     },
     "execution_count": 11,
     "metadata": {},
     "output_type": "execute_result"
    }
   ],
   "source": [
    "working_hands.value, resting_hands.value"
   ]
  },
  {
   "cell_type": "code",
   "execution_count": 12,
   "metadata": {},
   "outputs": [
    {
     "data": {
      "text/plain": [
       "(array([ 14.,   0.,   0.,  36.,   0.,   0.,   0.,   1.,   0.,   0.,   0.,\n",
       "          8.,   0.,   0.,   0.,   0.,   0.,   0.,  13.,  96.,  41.,   0.,\n",
       "          0.,  15.,   0.,   0.,   0.,   0.,   0.,   0.,   0.,   0.,   0.,\n",
       "          0.,   0.,   0.,   0.,   0.,   0.,   0.,   0.,   0.,   0.,   0.,\n",
       "          0.,   0.,  18.,  66.,  25.,   1.,  70., 114.,  48.,   1.,  36.,\n",
       "         62.,   0.,   0.,   0.,  37.,  13.,   0.,   9.,  55.,   1.,   0.,\n",
       "          0.,  37.,   0.,   0.,   0.,  16.,   9.,   0.,  48.,  87.,  37.,\n",
       "         21.,  89., 122.,  44.,  12.,  90., 134.,  47.,   0.,  33.,  80.,\n",
       "         22.,   0.,  40.,  96.,  34.,   0.,  28., 101.,  57.,   0.,  49.,\n",
       "         95.,  38.,   0.,  44.,  -0.]),\n",
       " array([1, 0, 0, 2, 0, 0, 0, 1, 0, 0, 0, 1, 0, 0, 0, 0, 0, 0, 1, 5, 3, 0,\n",
       "        0, 1, 0, 0, 0, 0, 0, 0, 0, 0, 0, 0, 0, 0, 0, 0, 0, 0, 0, 0, 0, 0,\n",
       "        0, 0, 1, 4, 2, 1, 4, 6, 3, 1, 2, 4, 0, 0, 0, 2, 1, 0, 1, 3, 1, 0,\n",
       "        0, 2, 0, 0, 0, 1, 1, 0, 3, 5, 2, 2, 5, 7, 3, 1, 5, 7, 3, 0, 2, 4,\n",
       "        2, 0, 2, 5, 2, 0, 2, 6, 3, 0, 3, 5, 2, 0, 3, 0]))"
      ]
     },
     "execution_count": 12,
     "metadata": {},
     "output_type": "execute_result"
    }
   ],
   "source": [
    "new_hands.value, np.array(teaching_hands.value, dtype=np.int32)"
   ]
  },
  {
   "cell_type": "code",
   "execution_count": null,
   "metadata": {},
   "outputs": [],
   "source": []
  }
 ],
 "metadata": {
  "interpreter": {
   "hash": "5f1f67310d7626f6a1e5a2bc75081377e7cbcf2b8e64ea2999e8e80be64123e8"
  },
  "kernelspec": {
   "display_name": "Python 3.9.12 ('math_model')",
   "language": "python",
   "name": "python3"
  },
  "language_info": {
   "codemirror_mode": {
    "name": "ipython",
    "version": 3
   },
   "file_extension": ".py",
   "mimetype": "text/x-python",
   "name": "python",
   "nbconvert_exporter": "python",
   "pygments_lexer": "ipython3",
   "version": "3.7.12"
  },
  "orig_nbformat": 4
 },
 "nbformat": 4,
 "nbformat_minor": 2
}
