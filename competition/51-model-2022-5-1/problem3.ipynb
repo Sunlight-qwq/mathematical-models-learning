{
 "cells": [
  {
   "cell_type": "code",
   "execution_count": 1,
   "metadata": {},
   "outputs": [],
   "source": [
    "import numpy as np\n",
    "import pandas as pd\n",
    "import matplotlib.pyplot as plt\n",
    "import cvxpy as cp"
   ]
  },
  {
   "cell_type": "code",
   "execution_count": 2,
   "metadata": {},
   "outputs": [
    {
     "data": {
      "text/plain": [
       "array([ 11,   5,   4,   7,  16,   6,   5,   7,  13,   6,   5,   7,  12,\n",
       "         5,   4,   6,   9,   5,   5,  11,  29,  21,  17,  20,  27,  13,\n",
       "         9,  10,  16,   6,   5,   7,  11,   5,   5,   6,  12,   7,   7,\n",
       "        10,  15,  10,   9,  11,  15,  10,  10,  16,  26,  21,  23,  36,\n",
       "        50,  45,  45,  49,  57,  43,  40,  44,  52,  43,  42,  45,  52,\n",
       "        41,  39,  41,  48,  35,  34,  35,  42,  34,  36,  43,  55,  48,\n",
       "        54,  65,  80,  70,  74,  85, 101,  89,  88,  90, 100,  87,  88,\n",
       "        89, 104,  89,  89,  90, 106,  96,  94,  99, 109,  99,  96, 102],\n",
       "      dtype=int64)"
      ]
     },
     "execution_count": 2,
     "metadata": {},
     "output_type": "execute_result"
    }
   ],
   "source": [
    "df = pd.read_excel('data.xlsx', header=None)\n",
    "requirements = df.values.flatten()\n",
    "requirements"
   ]
  },
  {
   "cell_type": "code",
   "execution_count": 3,
   "metadata": {},
   "outputs": [],
   "source": [
    "total_week = 104\n",
    "waste_rate = 0.1\n",
    "k = 20"
   ]
  },
  {
   "cell_type": "code",
   "execution_count": 4,
   "metadata": {},
   "outputs": [],
   "source": [
    "hand_new = cp.Variable(total_week, integer=True)\n",
    "hand_work = cp.Variable(total_week, integer=True)\n",
    "hand_rest = cp.Variable(total_week, integer=True)\n",
    "hand_teach = cp.Variable(total_week, integer=True)\n",
    "hand_skill = cp.Variable(total_week, integer=True)\n",
    "body_new = cp.Variable(total_week, integer=True)\n",
    "body_work = cp.Variable(total_week, integer=True)\n",
    "body_rest = cp.Variable(total_week, integer=True)\n",
    "body_tested = cp.Variable(total_week, integer=True)\n",
    "waste = cp.Variable(total_week, integer=True)"
   ]
  },
  {
   "cell_type": "code",
   "execution_count": 5,
   "metadata": {},
   "outputs": [],
   "source": [
    "cons = [\n",
    "    hand_work == 4 * requirements,\n",
    "    body_work == requirements,\n",
    "    k * hand_teach >= hand_new,\n",
    "    hand_skill == hand_work + hand_rest + hand_teach,\n",
    "    body_tested == body_work + body_rest,\n",
    "    waste <= 0.2 * hand_work + 0.5,\n",
    "    waste >= 0.2 * hand_work - 0.500001,\n",
    "\n",
    "    hand_new >= 0,\n",
    "    hand_rest >= 0,\n",
    "    hand_work >= 0,\n",
    "    hand_teach >= 0,\n",
    "    body_new >= 0,\n",
    "    body_rest >= 0,\n",
    "    body_work >= 0,\n",
    "    waste >= 0\n",
    "]"
   ]
  },
  {
   "cell_type": "code",
   "execution_count": 6,
   "metadata": {},
   "outputs": [],
   "source": [
    "for t in range(total_week - 1):\n",
    "    cons.append(hand_rest[t+1] >= hand_work[t] - waste[t])\n",
    "    cons.append(hand_skill[t+1] == hand_skill[t] + hand_new[t])\n",
    "    cons.append(body_tested[t+1] == body_tested[t] + body_new[t])"
   ]
  },
  {
   "cell_type": "code",
   "execution_count": 7,
   "metadata": {},
   "outputs": [],
   "source": [
    "obj = cp.Minimize(\n",
    "    200 * cp.sum(body_new) + \n",
    "    100 * cp.sum(hand_new) + \n",
    "    5 * cp.sum(hand_rest) + \n",
    "    10 * cp.sum(body_rest) +\n",
    "    10 * cp.sum(hand_new + hand_teach)\n",
    ")"
   ]
  },
  {
   "cell_type": "code",
   "execution_count": 8,
   "metadata": {},
   "outputs": [
    {
     "data": {
      "text/plain": [
       "193750.0"
      ]
     },
     "execution_count": 8,
     "metadata": {},
     "output_type": "execute_result"
    }
   ],
   "source": [
    "prob = cp.Problem(obj, cons)\n",
    "prob.solve()"
   ]
  },
  {
   "cell_type": "code",
   "execution_count": 9,
   "metadata": {},
   "outputs": [
    {
     "data": {
      "text/plain": [
       "(array([44., 20., 16., 28., 64., 24., 20., 28.]),\n",
       " array([ 9.,  4.,  3.,  6., 13.,  5.,  4.,  6.]))"
      ]
     },
     "execution_count": 9,
     "metadata": {},
     "output_type": "execute_result"
    }
   ],
   "source": [
    "hand_work.value[0:8], waste.value[0:8]"
   ]
  }
 ],
 "metadata": {
  "interpreter": {
   "hash": "5f1f67310d7626f6a1e5a2bc75081377e7cbcf2b8e64ea2999e8e80be64123e8"
  },
  "kernelspec": {
   "display_name": "Python 3.9.12 ('math_model')",
   "language": "python",
   "name": "python3"
  },
  "language_info": {
   "codemirror_mode": {
    "name": "ipython",
    "version": 3
   },
   "file_extension": ".py",
   "mimetype": "text/x-python",
   "name": "python",
   "nbconvert_exporter": "python",
   "pygments_lexer": "ipython3",
   "version": "3.9.12"
  },
  "orig_nbformat": 4
 },
 "nbformat": 4,
 "nbformat_minor": 2
}
