{
 "cells": [
  {
   "cell_type": "code",
   "execution_count": 1,
   "metadata": {},
   "outputs": [],
   "source": [
    "import numpy as np\n",
    "import pandas as pd\n",
    "\n",
    "requirements = pd.read_excel('data.xlsx', header=None).values.flatten()\n",
    "total_week = 104\n",
    "WASTE_RATE = 0.1"
   ]
  },
  {
   "cell_type": "code",
   "execution_count": 2,
   "metadata": {},
   "outputs": [
    {
     "data": {
      "text/plain": [
       "array([ 11,   5,   4,   7,  16,   6,   5,   7,  13,   6,   5,   7,  12,\n",
       "         5,   4,   6,   9,   5,   5,  11,  29,  21,  17,  20,  27,  13,\n",
       "         9,  10,  16,   6,   5,   7,  11,   5,   5,   6,  12,   7,   7,\n",
       "        10,  15,  10,   9,  11,  15,  10,  10,  16,  26,  21,  23,  36,\n",
       "        50,  45,  45,  49,  57,  43,  40,  44,  52,  43,  42,  45,  52,\n",
       "        41,  39,  41,  48,  35,  34,  35,  42,  34,  36,  43,  55,  48,\n",
       "        54,  65,  80,  70,  74,  85, 101,  89,  88,  90, 100,  87,  88,\n",
       "        89, 104,  89,  89,  90, 106,  96,  94,  99, 109,  99,  96, 102],\n",
       "      dtype=int64)"
      ]
     },
     "execution_count": 2,
     "metadata": {},
     "output_type": "execute_result"
    }
   ],
   "source": [
    "requirements"
   ]
  },
  {
   "cell_type": "markdown",
   "metadata": {},
   "source": [
    "## 递推法求容器艇数量\n",
    "\n",
    "非常简单，实际上每周的潜艇数量必定需要等于需求量，而缺潜艇时在上一周补买就行。\n",
    "\n",
    "模拟方法直接做。"
   ]
  },
  {
   "cell_type": "code",
   "execution_count": 4,
   "metadata": {},
   "outputs": [],
   "source": [
    "total_bodies = 13\n",
    "\n",
    "bodies_work = np.zeros(total_week)\n",
    "bodies_waste = 4 * np.\n",
    "bodies_new = np.zeros(total_week)\n",
    "\n",
    "bodies_work[0] = requirements[0]"
   ]
  },
  {
   "cell_type": "code",
   "execution_count": 5,
   "metadata": {},
   "outputs": [],
   "source": [
    "t = 1 # 1 代表第二周\n",
    "while(t < total_week):\n",
    "    # 需要的工作艇数量等于需求数\n",
    "    body_work = requirements[t]\n",
    "    # 若超过当前购买量\n",
    "    if body_work > total_bodies:\n",
    "        # 上一周应该买一些艇\n",
    "        bodies_new[t - 1] = body_work - total_bodies\n",
    "        total_bodies = body_work\n",
    "    bodies_work[t] = requirements[t]\n",
    "    t += 1\n"
   ]
  },
  {
   "cell_type": "code",
   "execution_count": 6,
   "metadata": {},
   "outputs": [
    {
     "data": {
      "text/plain": [
       "array([11.,  5.,  4.,  7., 16.,  6.,  5.,  7., 13.,  6.,  5.,  7., 12.,\n",
       "        5.,  4.,  6.])"
      ]
     },
     "execution_count": 6,
     "metadata": {},
     "output_type": "execute_result"
    }
   ],
   "source": [
    "bodies_work"
   ]
  },
  {
   "cell_type": "markdown",
   "metadata": {},
   "source": [
    "以上是模拟方法，可以发现这个方法非常冗余，我们直接求解也可以："
   ]
  },
  {
   "cell_type": "code",
   "execution_count": 3,
   "metadata": {},
   "outputs": [],
   "source": [
    "bodies_work = np.array(requirements[0:total_week])\n",
    "bodies_new = np.zeros(total_week)\n",
    "bodies_rest = np.zeros(total_week)\n",
    "bodies_rest[0] = 13 - requirements[0]\n",
    "total_bodies = 13\n",
    "for t in range(1, total_week):\n",
    "    if total_bodies < bodies_work[t]:\n",
    "        bodies_new[t-1] = bodies_work[t] - total_bodies\n",
    "        total_bodies = bodies_work[t]\n",
    "    bodies_rest[t] = total_bodies - bodies_work[t]"
   ]
  },
  {
   "cell_type": "code",
   "execution_count": 4,
   "metadata": {},
   "outputs": [
    {
     "data": {
      "text/plain": [
       "array([[ 11.,   5.,   4.,   7.,  16.,   6.,   5.,   7.,  13.,   6.,   5.,\n",
       "          7.,  12.,   5.,   4.,   6.,   9.,   5.,   5.,  11.,  29.,  21.,\n",
       "         17.,  20.,  27.,  13.,   9.,  10.,  16.,   6.,   5.,   7.,  11.,\n",
       "          5.,   5.,   6.,  12.,   7.,   7.,  10.,  15.,  10.,   9.,  11.,\n",
       "         15.,  10.,  10.,  16.,  26.,  21.,  23.,  36.,  50.,  45.,  45.,\n",
       "         49.,  57.,  43.,  40.,  44.,  52.,  43.,  42.,  45.,  52.,  41.,\n",
       "         39.,  41.,  48.,  35.,  34.,  35.,  42.,  34.,  36.,  43.,  55.,\n",
       "         48.,  54.,  65.,  80.,  70.,  74.,  85., 101.,  89.,  88.,  90.,\n",
       "        100.,  87.,  88.,  89., 104.,  89.,  89.,  90., 106.,  96.,  94.,\n",
       "         99., 109.,  99.,  96., 102.],\n",
       "       [  0.,   0.,   0.,   3.,   0.,   0.,   0.,   0.,   0.,   0.,   0.,\n",
       "          0.,   0.,   0.,   0.,   0.,   0.,   0.,   0.,  13.,   0.,   0.,\n",
       "          0.,   0.,   0.,   0.,   0.,   0.,   0.,   0.,   0.,   0.,   0.,\n",
       "          0.,   0.,   0.,   0.,   0.,   0.,   0.,   0.,   0.,   0.,   0.,\n",
       "          0.,   0.,   0.,   0.,   0.,   0.,   7.,  14.,   0.,   0.,   0.,\n",
       "          7.,   0.,   0.,   0.,   0.,   0.,   0.,   0.,   0.,   0.,   0.,\n",
       "          0.,   0.,   0.,   0.,   0.,   0.,   0.,   0.,   0.,   0.,   0.,\n",
       "          0.,   8.,  15.,   0.,   0.,   5.,  16.,   0.,   0.,   0.,   0.,\n",
       "          0.,   0.,   0.,   3.,   0.,   0.,   0.,   2.,   0.,   0.,   0.,\n",
       "          3.,   0.,   0.,   0.,   0.],\n",
       "       [  2.,   8.,   9.,   6.,   0.,  10.,  11.,   9.,   3.,  10.,  11.,\n",
       "          9.,   4.,  11.,  12.,  10.,   7.,  11.,  11.,   5.,   0.,   8.,\n",
       "         12.,   9.,   2.,  16.,  20.,  19.,  13.,  23.,  24.,  22.,  18.,\n",
       "         24.,  24.,  23.,  17.,  22.,  22.,  19.,  14.,  19.,  20.,  18.,\n",
       "         14.,  19.,  19.,  13.,   3.,   8.,   6.,   0.,   0.,   5.,   5.,\n",
       "          1.,   0.,  14.,  17.,  13.,   5.,  14.,  15.,  12.,   5.,  16.,\n",
       "         18.,  16.,   9.,  22.,  23.,  22.,  15.,  23.,  21.,  14.,   2.,\n",
       "          9.,   3.,   0.,   0.,  10.,   6.,   0.,   0.,  12.,  13.,  11.,\n",
       "          1.,  14.,  13.,  12.,   0.,  15.,  15.,  14.,   0.,  10.,  12.,\n",
       "          7.,   0.,  10.,  13.,   7.]])"
      ]
     },
     "execution_count": 4,
     "metadata": {},
     "output_type": "execute_result"
    }
   ],
   "source": [
    "np.concatenate([bodies_work.reshape(1, -1), bodies_new.reshape(1, -1), bodies_rest.reshape(1, -1)], axis=0)"
   ]
  },
  {
   "cell_type": "markdown",
   "metadata": {},
   "source": [
    "## 尝试将递推数列方法推广到机械手\n",
    "\n",
    "难点：机械手的训练需要教练，教练也需要从全体机械手抽取。也就是说，如果机械手不足，我们回溯到上一周，新买一些机械手后，可能导致新买的机械手没人教，这样又要继续回溯到上上周，以此类推。"
   ]
  },
  {
   "cell_type": "code",
   "execution_count": 9,
   "metadata": {},
   "outputs": [],
   "source": [
    "bodies_work = 4 * np.array(requirements[0:total_week])\n",
    "bodies_new = np.zeros(total_week)\n",
    "bodies_rest = np.zeros(total_week)\n",
    "bodies_teach = np.zeros(total_week)\n",
    "total_bodies = np.zeros(total_week)\n",
    "total_bodies[0] = 50\n",
    "available_bodies = np.zeros(total_week)\n",
    "available_bodies[0] = 50\n",
    "bodies_rest[0] = total_bodies[0] - bodies_work[0]"
   ]
  },
  {
   "cell_type": "code",
   "execution_count": null,
   "metadata": {},
   "outputs": [],
   "source": [
    "# 模拟方法，硬解\n",
    "for t in range(1, total_week):\n",
    "    available_bodies[t] = total_bodies[t - 1] - \n",
    "    if total_bodies[t - 1] < bodies_work"
   ]
  }
 ],
 "metadata": {
  "interpreter": {
   "hash": "5f1f67310d7626f6a1e5a2bc75081377e7cbcf2b8e64ea2999e8e80be64123e8"
  },
  "kernelspec": {
   "display_name": "Python 3.9.12 ('math_model')",
   "language": "python",
   "name": "python3"
  },
  "language_info": {
   "codemirror_mode": {
    "name": "ipython",
    "version": 3
   },
   "file_extension": ".py",
   "mimetype": "text/x-python",
   "name": "python",
   "nbconvert_exporter": "python",
   "pygments_lexer": "ipython3",
   "version": "3.9.12"
  },
  "orig_nbformat": 4
 },
 "nbformat": 4,
 "nbformat_minor": 2
}
