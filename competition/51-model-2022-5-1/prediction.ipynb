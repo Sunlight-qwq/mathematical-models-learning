{
 "cells": [
  {
   "cell_type": "code",
   "execution_count": 2,
   "metadata": {},
   "outputs": [],
   "source": [
    "import numpy as np\n",
    "import pandas as pd\n",
    "import matplotlib.pyplot as plt"
   ]
  },
  {
   "cell_type": "code",
   "execution_count": 3,
   "metadata": {},
   "outputs": [],
   "source": [
    "data = pd.read_excel('data_flatten.xlsx', header=None).values.reshape(-1)\n",
    "y = data"
   ]
  },
  {
   "cell_type": "code",
   "execution_count": 4,
   "metadata": {},
   "outputs": [],
   "source": [
    "n = len(data)\n",
    "alpha = 0.32\n",
    "y_hat = np.zeros(n)\n",
    "s1 = np.zeros(n)\n",
    "s2 = np.zeros(n)"
   ]
  },
  {
   "cell_type": "code",
   "execution_count": 5,
   "metadata": {},
   "outputs": [
    {
     "name": "stdout",
     "output_type": "stream",
     "text": [
      "[101.5122302  102.07155082 102.63087145 103.19019207 103.7495127\n",
      " 104.30883332 104.86815394 105.42747457]\n"
     ]
    }
   ],
   "source": [
    "s1[0] = y[0]\n",
    "s2[0] = y[0]\n",
    "for i in range(1, n):\n",
    "    s1[i] = alpha * y[i] + (1 - alpha) * s1[i - 1]\n",
    "    s2[i] = alpha * s1[i] + (1 - alpha) * s2[i - 1]\n",
    "    y_hat[i] = 2 * s1[i - 1] - s2[i - 1] + alpha / (1 - alpha) * (s1[i - 1] - s2[i - 1])\n",
    "at = 2 * s1[-1] - s2[-1]\n",
    "bt = alpha / (1 - alpha) * (s1[-1] - s2[-1])\n",
    "m = np.arange(1, 9)\n",
    "y_hat2 = at + bt * m\n",
    "\n",
    "print(y_hat2)"
   ]
  },
  {
   "cell_type": "code",
   "execution_count": 6,
   "metadata": {},
   "outputs": [
    {
     "data": {
      "text/plain": [
       "array([102., 102., 103., 103., 104., 104., 105., 105.])"
      ]
     },
     "execution_count": 6,
     "metadata": {},
     "output_type": "execute_result"
    }
   ],
   "source": [
    "y_hat2 = np.round(y_hat2)\n",
    "y_hat2"
   ]
  },
  {
   "cell_type": "code",
   "execution_count": 7,
   "metadata": {},
   "outputs": [
    {
     "data": {
      "text/plain": [
       "103"
      ]
     },
     "execution_count": 7,
     "metadata": {},
     "output_type": "execute_result"
    }
   ],
   "source": [
    "len(y[1:])"
   ]
  },
  {
   "cell_type": "code",
   "execution_count": 8,
   "metadata": {},
   "outputs": [
    {
     "data": {
      "text/plain": [
       "(100.9529095732594, 0.5593206243781277)"
      ]
     },
     "execution_count": 8,
     "metadata": {},
     "output_type": "execute_result"
    }
   ],
   "source": [
    "at, bt"
   ]
  },
  {
   "cell_type": "code",
   "execution_count": 9,
   "metadata": {},
   "outputs": [
    {
     "data": {
      "text/plain": [
       "52.96015793448224"
      ]
     },
     "execution_count": 9,
     "metadata": {},
     "output_type": "execute_result"
    }
   ],
   "source": [
    "mse = (1 / n) * np.sum((y_hat[1:] - y[1:]) ** 2)\n",
    "mse"
   ]
  },
  {
   "cell_type": "code",
   "execution_count": 10,
   "metadata": {},
   "outputs": [],
   "source": [
    "def mse(y: np.ndarray, alpha: float) -> float:\n",
    "    s1[0] = y[0]\n",
    "    s2[0] = y[0]\n",
    "    for i in range(1, n):\n",
    "        s1[i] = alpha * y[i] + (1 - alpha) * s1[i - 1]\n",
    "        s2[i] = alpha * s1[i] + (1 - alpha) * s2[i - 1]\n",
    "        y_hat[i] = 2 * s1[i - 1] - s2[i - 1] + alpha / (1 - alpha) * (s1[i - 1] - s2[i - 1])\n",
    "\n",
    "    mse = (1 / n) * np.sum((y_hat[1:] - y[1:]) ** 2)\n",
    "    return mse"
   ]
  },
  {
   "cell_type": "code",
   "execution_count": 23,
   "metadata": {},
   "outputs": [
    {
     "data": {
      "text/plain": [
       "[54.632890495823546,\n",
       " 54.11138162177053,\n",
       " 53.697945781441284,\n",
       " 53.38372584522764,\n",
       " 53.160713357054036,\n",
       " 53.02168900809138,\n",
       " 52.960157934482275,\n",
       " 52.9702838904335,\n",
       " 53.04682498989388,\n",
       " 53.185072709034515]"
      ]
     },
     "execution_count": 23,
     "metadata": {},
     "output_type": "execute_result"
    }
   ],
   "source": [
    "[mse(y, a) for a in np.arange(0.26, 0.36, 0.01)]"
   ]
  },
  {
   "cell_type": "code",
   "execution_count": 12,
   "metadata": {},
   "outputs": [
    {
     "data": {
      "text/plain": [
       "(98.58690264618832, 102.0, 101.05255731098075)"
      ]
     },
     "execution_count": 12,
     "metadata": {},
     "output_type": "execute_result"
    }
   ],
   "source": [
    "y_hat[-1], y_hat2[0], 2 * s1[-1] - s2[-1] + alpha / (1 - alpha) * (s1[-1] - s2[-1])"
   ]
  },
  {
   "cell_type": "code",
   "execution_count": 13,
   "metadata": {},
   "outputs": [
    {
     "data": {
      "image/png": "[encoded data removed]",
      "text/plain": [
       "<Figure size 432x288 with 1 Axes>"
      ]
     },
     "metadata": {
      "needs_background": "light"
     },
     "output_type": "display_data"
    }
   ],
   "source": [
    "plt.scatter(np.arange(1, 105), y)\n",
    "x = np.array([1, 113])\n",
    "plt.plot(x, at + bt * (x - 104), color='r')\n",
    "plt.savefig('prediction')"
   ]
  },
  {
   "cell_type": "code",
   "execution_count": 14,
   "metadata": {},
   "outputs": [
    {
     "data": {
      "text/plain": [
       "(100.9529095732594, 0.5593206243781277)"
      ]
     },
     "execution_count": 14,
     "metadata": {},
     "output_type": "execute_result"
    }
   ],
   "source": [
    "at, bt"
   ]
  },
  {
   "cell_type": "code",
   "execution_count": 15,
   "metadata": {},
   "outputs": [
    {
     "data": {
      "image/png": "[encoded data removed]",
      "text/plain": [
       "<Figure size 432x288 with 1 Axes>"
      ]
     },
     "metadata": {
      "needs_background": "light"
     },
     "output_type": "display_data"
    }
   ],
   "source": [
    "plt.scatter(np.arange(1, 105), y)\n",
    "plt.savefig('scatter')"
   ]
  }
 ],
 "metadata": {
  "interpreter": {
   "hash": "5f1f67310d7626f6a1e5a2bc75081377e7cbcf2b8e64ea2999e8e80be64123e8"
  },
  "kernelspec": {
   "display_name": "Python 3.9.12 ('math_model')",
   "language": "python",
   "name": "python3"
  },
  "language_info": {
   "codemirror_mode": {
    "name": "ipython",
    "version": 3
   },
   "file_extension": ".py",
   "mimetype": "text/x-python",
   "name": "python",
   "nbconvert_exporter": "python",
   "pygments_lexer": "ipython3",
   "version": "3.9.12"
  },
  "orig_nbformat": 4
 },
 "nbformat": 4,
 "nbformat_minor": 2
}
