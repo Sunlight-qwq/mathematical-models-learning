{
 "cells": [
  {
   "cell_type": "code",
   "execution_count": 2,
   "metadata": {},
   "outputs": [],
   "source": [
    "import pandas as pd\n",
    "import numpy as np\n",
    "# import matplotlib.pyplot as plt\n",
    "import cvxpy as cp\n",
    "from math import ceil\n",
    "\n",
    "data = pd.read_excel('data.xlsx', header=None).values.flatten()"
   ]
  },
  {
   "cell_type": "code",
   "execution_count": 3,
   "metadata": {},
   "outputs": [
    {
     "data": {
      "text/plain": [
       "array([102., 102., 103., 103., 104., 104., 105., 105.])"
      ]
     },
     "execution_count": 3,
     "metadata": {},
     "output_type": "execute_result"
    }
   ],
   "source": [
    "requirements = np.array([102., 102., 103., 103., 104., 104., 105., 105.])\n",
    "requirements"
   ]
  },
  {
   "cell_type": "markdown",
   "metadata": {},
   "source": [
    "## 引入问题4算出的初始数据"
   ]
  },
  {
   "cell_type": "code",
   "execution_count": 5,
   "metadata": {},
   "outputs": [],
   "source": [
    "TOTAL_WEEK = 8\n",
    "start_bodies = 92\n",
    "start_hands = 712\n",
    "start_need_resting_hands = 92 * 4\n",
    "K = 20\n",
    "waste_rate = 0.1"
   ]
  },
  {
   "cell_type": "code",
   "execution_count": 4,
   "metadata": {},
   "outputs": [],
   "source": [
    "working_hands = cp.Parameter(TOTAL_WEEK)\n",
    "waste_hands = cp.Parameter(TOTAL_WEEK)\n",
    "working_hands.value = 4 * requirements\n",
    "waste_hands.value = np.array([\n",
    "    4 * round(x * waste_rate) if x % 1 != 0.5 else ceil(x * waste_rate) \n",
    "    for x in requirements\n",
    "])\n",
    "\n",
    "teaching_hands = cp.Variable(TOTAL_WEEK, integer=True)\n",
    "resting_hands = cp.Variable(TOTAL_WEEK, integer=True)\n",
    "new_hands = cp.Variable((3, TOTAL_WEEK), integer=True)\n",
    "new_skill_hands = cp.Variable(integer=True)\n",
    "# new_tested_bodies = cp.Variable(integer=True)\n",
    "\n",
    "# 机械手购买的分段点\n",
    "hand_price = cp.Parameter((3, 1))\n",
    "hand_price.value = np.array([100, 90, 80]).reshape(3, 1)\n",
    "\n",
    "hand_y = cp.Variable((3, TOTAL_WEEK), boolean=True)"
   ]
  },
  {
   "cell_type": "code",
   "execution_count": 164,
   "metadata": {},
   "outputs": [
    {
     "data": {
      "text/plain": [
       "(array([408., 408., 412., 412., 416., 416., 420., 420.]),\n",
       " array([40, 40, 40, 40, 40, 40, 40, 40]))"
      ]
     },
     "execution_count": 164,
     "metadata": {},
     "output_type": "execute_result"
    }
   ],
   "source": [
    "working_hands.value, waste_hands.value"
   ]
  },
  {
   "cell_type": "code",
   "execution_count": 165,
   "metadata": {},
   "outputs": [],
   "source": [
    "new_skill_hands.value"
   ]
  },
  {
   "cell_type": "code",
   "execution_count": 6,
   "metadata": {},
   "outputs": [],
   "source": [
    "cons = [\n",
    "    resting_hands[0] + teaching_hands[0] + working_hands[0] == start_hands + new_skill_hands,\n",
    "    resting_hands[0] >= start_need_resting_hands,\n",
    "    K * teaching_hands >= cp.sum(new_hands, axis=0),\n",
    "\n",
    "    teaching_hands >= 0,\n",
    "    resting_hands >= 0,\n",
    "    new_hands >= 0,\n",
    "    new_skill_hands >= 0,\n",
    "\n",
    "    20 * hand_y[1] <= new_hands[0],\n",
    "    new_hands[0] <= 20 * hand_y[0],\n",
    "    20 * hand_y[2] <= new_hands[1],\n",
    "    new_hands[1]  <= 20 * hand_y[1],\n",
    "    new_hands[2] <= 10000 * hand_y[2]\n",
    "]"
   ]
  },
  {
   "cell_type": "code",
   "execution_count": 7,
   "metadata": {},
   "outputs": [],
   "source": [
    "for t in range(TOTAL_WEEK - 1):\n",
    "    cons.append(resting_hands[t + 1] >= working_hands[t] - waste_hands[t])\n",
    "\n",
    "# cons.append(resting_hands[1] + working_hands[1] + teaching_hands[1] == \\\n",
    "#     resting_hands[0] + working_hands[0] + cp.sum(new_hands, axis=0)[0] - waste_hands[0]\n",
    "# )\n",
    "\n",
    "for t in range(TOTAL_WEEK - 1):\n",
    "    cons.append(resting_hands[t + 1] + working_hands[t + 1] + teaching_hands[t + 1] == \\\n",
    "        resting_hands[t] + working_hands[t] + teaching_hands[t] + cp.sum(new_hands, axis=0)[t] - waste_hands[t]\n",
    "    )"
   ]
  },
  {
   "cell_type": "code",
   "execution_count": 8,
   "metadata": {},
   "outputs": [],
   "source": [
    "obj = cp.Minimize(\n",
    "    cp.sum(cp.multiply(new_hands, hand_price))\\\n",
    "    + 150 * new_skill_hands\\\n",
    "    + 5 * cp.sum(resting_hands)\\\n",
    "    + 10 * cp.sum(teaching_hands)\\\n",
    "    + 10 * cp.sum(new_hands)\n",
    ")"
   ]
  },
  {
   "cell_type": "code",
   "execution_count": 10,
   "metadata": {},
   "outputs": [
    {
     "name": "stdout",
     "output_type": "stream",
     "text": [
      "===============================================================================\n",
      "                                     CVXPY                                     \n",
      "                                     v1.2.0                                    \n",
      "===============================================================================\n",
      "(CVXPY) May 03 11:49:43 PM: Your problem has 65 variables, 26 constraints, and 19 parameters.\n",
      "(CVXPY) May 03 11:49:43 PM: It is compliant with the following grammars: DCP, DQCP\n",
      "(CVXPY) May 03 11:49:43 PM: CVXPY will first compile your problem; then, it will invoke a numerical solver to obtain a solution.\n",
      "-------------------------------------------------------------------------------\n",
      "                                  Compilation                                  \n",
      "-------------------------------------------------------------------------------\n",
      "(CVXPY) May 03 11:49:43 PM: Compiling problem (target solver=CPLEX).\n",
      "(CVXPY) May 03 11:49:43 PM: Reduction chain: CvxAttr2Constr -> Qp2SymbolicQp -> QpMatrixStuffing -> CPLEX\n",
      "(CVXPY) May 03 11:49:43 PM: Applying reduction CvxAttr2Constr\n",
      "(CVXPY) May 03 11:49:43 PM: Applying reduction Qp2SymbolicQp\n",
      "(CVXPY) May 03 11:49:43 PM: Applying reduction QpMatrixStuffing\n",
      "(CVXPY) May 03 11:49:43 PM: Applying reduction CPLEX\n",
      "(CVXPY) May 03 11:49:43 PM: Finished problem compilation (took 2.400e-02 seconds).\n",
      "(CVXPY) May 03 11:49:43 PM: (Subsequent compilations of this problem, using the same arguments, should take less time.)\n",
      "-------------------------------------------------------------------------------\n",
      "                                Numerical solver                               \n",
      "-------------------------------------------------------------------------------\n",
      "(CVXPY) May 03 11:49:43 PM: Invoking solver CPLEX  to obtain a solution.\n",
      "Version identifier: 12.10.0.0 | 2019-11-26 | 843d4de2ae\n",
      "CPXPARAM_Read_DataCheck                          1\n"
     ]
    },
    {
     "name": "stderr",
     "output_type": "stream",
     "text": [
      "Warning:  Non-integral bounds for integer variables rounded.\n"
     ]
    },
    {
     "name": "stdout",
     "output_type": "stream",
     "text": [
      "Tried aggregator 2 times.\n",
      "MIP Presolve eliminated 59 rows and 11 columns.\n",
      "MIP Presolve modified 1 coefficients.\n",
      "Aggregator did 9 substitutions.\n",
      "Reduced MIP has 37 rows, 45 columns, and 125 nonzeros.\n",
      "Reduced MIP has 14 binaries, 31 generals, 0 SOSs, and 0 indicators.\n",
      "Presolve time = 0.00 sec. (0.14 ticks)\n",
      "Found incumbent of value 71180.000000 after 0.00 sec. (0.26 ticks)\n",
      "Probing time = 0.00 sec. (0.01 ticks)\n",
      "Tried aggregator 1 time.\n",
      "Detecting symmetries...\n",
      "Reduced MIP has 37 rows, 45 columns, and 125 nonzeros.\n",
      "Reduced MIP has 14 binaries, 31 generals, 0 SOSs, and 0 indicators.\n",
      "Presolve time = 0.00 sec. (0.07 ticks)\n",
      "Probing time = 0.00 sec. (0.01 ticks)\n",
      "Clique table members: 7.\n",
      "MIP emphasis: balance optimality and feasibility.\n",
      "MIP search method: dynamic search.\n",
      "Parallel mode: deterministic, using up to 20 threads.\n",
      "Root relaxation solution time = 0.00 sec. (0.12 ticks)\n",
      "\n",
      "        Nodes                                         Cuts/\n",
      "   Node  Left     Objective  IInf  Best Integer    Best Bound    ItCnt     Gap\n",
      "\n",
      "*     0+    0                        71180.0000                            --- \n",
      "*     0+    0                        68070.0000                            --- \n",
      "      0     0    52149.6139    37    68070.0000    52149.6139       29   23.39%\n",
      "      0     0    54413.8271    37    68070.0000      Cuts: 29       39   20.06%\n",
      "      0     0    54621.8459    37    68070.0000      Cuts: 15       43   19.76%\n",
      "      0     0    54703.6818    37    68070.0000       Cuts: 6       47   19.64%\n",
      "      0     0    54706.5020    37    68070.0000       Cuts: 5       51   19.63%\n",
      "      0     0    54707.0984    37    68070.0000    MIRcuts: 1       52   19.63%\n",
      "Detecting symmetries...\n",
      "*     0+    0                        56335.0000    54707.0984             2.89%\n",
      "*     0+    0                        55530.0000    54707.0984             1.48%\n",
      "Detecting symmetries...\n",
      "      0     2    54707.0984    32    55530.0000    54724.9363       52    1.45%\n",
      "Elapsed time = 0.08 sec. (4.18 ticks, tree = 0.02 MB, solutions = 4)\n",
      "*    23+    3                        55290.0000    54795.6678             0.89%\n",
      "\n",
      "Implied bound cuts applied:  3\n",
      "Flow cuts applied:  1\n",
      "Mixed integer rounding cuts applied:  6\n",
      "Gomory fractional cuts applied:  13\n",
      "\n",
      "Root node processing (before b&c):\n",
      "  Real time             =    0.08 sec. (4.14 ticks)\n",
      "Parallel b&c, 20 threads:\n",
      "  Real time             =    0.22 sec. (5.21 ticks)\n",
      "  Sync time (average)   =    0.20 sec.\n",
      "  Wait time (average)   =    0.00 sec.\n",
      "                          ------------\n",
      "Total (root+branch&cut) =    0.30 sec. (9.35 ticks)\n",
      "-------------------------------------------------------------------------------\n",
      "                                    Summary                                    \n",
      "-------------------------------------------------------------------------------\n",
      "(CVXPY) May 03 11:49:44 PM: Problem status: optimal\n",
      "(CVXPY) May 03 11:49:44 PM: Optimal value: 5.529e+04\n",
      "(CVXPY) May 03 11:49:44 PM: Compilation took 2.400e-02 seconds\n",
      "(CVXPY) May 03 11:49:44 PM: Solver (including time spent in interface) took 2.980e-01 seconds\n"
     ]
    },
    {
     "data": {
      "text/plain": [
       "55290.0"
      ]
     },
     "execution_count": 10,
     "metadata": {},
     "output_type": "execute_result"
    }
   ],
   "source": [
    "prob = cp.Problem(obj, cons)\n",
    "prob.solve(solver=cp.CPLEX, verbose=True)"
   ]
  },
  {
   "cell_type": "code",
   "execution_count": 11,
   "metadata": {},
   "outputs": [],
   "source": [
    "working_bodies = cp.Parameter(TOTAL_WEEK)\n",
    "waste_bodies = cp.Parameter(TOTAL_WEEK)\n",
    "working_bodies.value = requirements\n",
    "waste_bodies.value = np.array([\n",
    "    round(x * waste_rate) if x % 1 != 0.5 else ceil(x * waste_rate) \n",
    "    for x in requirements\n",
    "])\n",
    "\n",
    "resting_bodies = cp.Variable(TOTAL_WEEK, integer=True)\n",
    "new_bodies = cp.Variable((3, TOTAL_WEEK), integer=True)\n",
    "new_tested_bodies = cp.Variable(integer=True)\n",
    "\n",
    "# 机械手购买的分段点\n",
    "body_price = cp.Parameter((3, 1))\n",
    "body_price.value = np.array([200, 180, 160]).reshape(3, 1)\n",
    "\n",
    "body_y = cp.Variable((3, TOTAL_WEEK), boolean=True)"
   ]
  },
  {
   "cell_type": "code",
   "execution_count": 12,
   "metadata": {},
   "outputs": [],
   "source": [
    "cons2 = [\n",
    "    resting_bodies[0] + working_bodies[0] == start_bodies + new_tested_bodies,\n",
    "\n",
    "    resting_bodies >= 0,\n",
    "    new_bodies >= 0,\n",
    "    new_tested_bodies >= 0,\n",
    "\n",
    "    5 * body_y[1] <= new_bodies[0],\n",
    "    new_bodies[0] <= 5 * body_y[0],\n",
    "    5 * body_y[2] <= new_bodies[1],\n",
    "    new_bodies[1]  <= 5 * body_y[1],\n",
    "    new_bodies[2] <= 10000 * body_y[2]\n",
    "]\n",
    "\n",
    "for t in range(TOTAL_WEEK - 1):\n",
    "    cons2.append(resting_bodies[t + 1] + working_bodies[t + 1]== \\\n",
    "        resting_bodies[t] + working_bodies[t] + cp.sum(new_bodies, axis=0)[t] - waste_bodies[t]\n",
    "    )"
   ]
  },
  {
   "cell_type": "code",
   "execution_count": 13,
   "metadata": {},
   "outputs": [],
   "source": [
    "obj2 = cp.Minimize(\n",
    "    cp.sum(cp.multiply(new_bodies, body_price))\\\n",
    "    + 10 * cp.sum(resting_bodies) + 300 * new_tested_bodies\n",
    ")"
   ]
  },
  {
   "cell_type": "code",
   "execution_count": 14,
   "metadata": {},
   "outputs": [
    {
     "name": "stdout",
     "output_type": "stream",
     "text": [
      "===============================================================================\n",
      "                                     CVXPY                                     \n",
      "                                     v1.2.0                                    \n",
      "===============================================================================\n",
      "(CVXPY) May 03 11:51:09 PM: Your problem has 57 variables, 16 constraints, and 19 parameters.\n",
      "(CVXPY) May 03 11:51:09 PM: It is compliant with the following grammars: DCP, DQCP\n",
      "(CVXPY) May 03 11:51:09 PM: CVXPY will first compile your problem; then, it will invoke a numerical solver to obtain a solution.\n",
      "-------------------------------------------------------------------------------\n",
      "                                  Compilation                                  \n",
      "-------------------------------------------------------------------------------\n",
      "(CVXPY) May 03 11:51:09 PM: Compiling problem (target solver=CPLEX).\n",
      "(CVXPY) May 03 11:51:09 PM: Reduction chain: CvxAttr2Constr -> Qp2SymbolicQp -> QpMatrixStuffing -> CPLEX\n",
      "(CVXPY) May 03 11:51:09 PM: Applying reduction CvxAttr2Constr\n",
      "(CVXPY) May 03 11:51:09 PM: Applying reduction Qp2SymbolicQp\n",
      "(CVXPY) May 03 11:51:09 PM: Applying reduction QpMatrixStuffing\n",
      "(CVXPY) May 03 11:51:09 PM: Applying reduction CPLEX\n",
      "(CVXPY) May 03 11:51:09 PM: Finished problem compilation (took 1.595e-02 seconds).\n",
      "(CVXPY) May 03 11:51:09 PM: (Subsequent compilations of this problem, using the same arguments, should take less time.)\n",
      "-------------------------------------------------------------------------------\n",
      "                                Numerical solver                               \n",
      "-------------------------------------------------------------------------------\n",
      "(CVXPY) May 03 11:51:09 PM: Invoking solver CPLEX  to obtain a solution.\n",
      "Version identifier: 12.10.0.0 | 2019-11-26 | 843d4de2ae\n",
      "CPXPARAM_Read_DataCheck                          1\n"
     ]
    },
    {
     "name": "stderr",
     "output_type": "stream",
     "text": [
      "Warning:  Non-integral bounds for integer variables rounded.\n"
     ]
    },
    {
     "name": "stdout",
     "output_type": "stream",
     "text": [
      "Tried aggregator 2 times.\n",
      "MIP Presolve eliminated 43 rows and 11 columns.\n",
      "Aggregator did 10 substitutions.\n",
      "Reduced MIP has 28 rows, 36 columns, and 98 nonzeros.\n",
      "Reduced MIP has 14 binaries, 22 generals, 0 SOSs, and 0 indicators.\n",
      "Presolve time = 0.00 sec. (0.11 ticks)\n",
      "Found incumbent of value 17980.000000 after 0.00 sec. (0.29 ticks)\n",
      "Probing time = 0.00 sec. (0.00 ticks)\n",
      "Tried aggregator 1 time.\n",
      "Detecting symmetries...\n",
      "Reduced MIP has 28 rows, 36 columns, and 98 nonzeros.\n",
      "Reduced MIP has 14 binaries, 22 generals, 0 SOSs, and 0 indicators.\n",
      "Presolve time = 0.01 sec. (0.06 ticks)\n",
      "Probing time = 0.00 sec. (0.01 ticks)\n",
      "Clique table members: 7.\n",
      "MIP emphasis: balance optimality and feasibility.\n",
      "MIP search method: dynamic search.\n",
      "Parallel mode: deterministic, using up to 20 threads.\n",
      "Root relaxation solution time = 0.00 sec. (0.07 ticks)\n",
      "\n",
      "        Nodes                                         Cuts/\n",
      "   Node  Left     Objective  IInf  Best Integer    Best Bound    ItCnt     Gap\n",
      "\n",
      "*     0+    0                        17980.0000 -1383860.0000              --- \n",
      "*     0+    0                        16780.0000 -1383860.0000              --- \n",
      "      0     0    14682.1878    28    16780.0000    14682.1878       19   12.50%\n",
      "      0     0    15718.0846    28    16780.0000      Cuts: 31       32    6.33%\n",
      "      0     0    15971.2317    28    16780.0000      Cuts: 16       38    4.82%\n",
      "      0     0    15973.5872    28    16780.0000       Cuts: 6       42    4.81%\n",
      "      0     0    15974.9682    28    16780.0000       Cuts: 2       44    4.80%\n",
      "      0     0    15975.7233    28    16780.0000    MIRcuts: 3       45    4.79%\n",
      "Detecting symmetries...\n",
      "      0     0    15975.8487    28    16780.0000       Cuts: 3       46    4.79%\n",
      "*     0+    0                        16110.0000    15975.8487             0.83%\n",
      "*     0+    0                        16090.0000    15975.8487             0.71%\n",
      "      0     0        cutoff          16090.0000    16090.0000       46    0.00%\n",
      "Elapsed time = 0.06 sec. (2.74 ticks, tree = 0.01 MB, solutions = 4)\n",
      "\n",
      "Implied bound cuts applied:  3\n",
      "Flow cuts applied:  1\n",
      "Mixed integer rounding cuts applied:  1\n",
      "Zero-half cuts applied:  3\n",
      "Gomory fractional cuts applied:  9\n",
      "\n",
      "Root node processing (before b&c):\n",
      "  Real time             =    0.06 sec. (2.75 ticks)\n",
      "Parallel b&c, 20 threads:\n",
      "  Real time             =    0.00 sec. (0.00 ticks)\n",
      "  Sync time (average)   =    0.00 sec.\n",
      "  Wait time (average)   =    0.00 sec.\n",
      "                          ------------\n",
      "Total (root+branch&cut) =    0.06 sec. (2.75 ticks)\n",
      "-------------------------------------------------------------------------------\n",
      "                                    Summary                                    \n",
      "-------------------------------------------------------------------------------\n",
      "(CVXPY) May 03 11:51:09 PM: Problem status: optimal\n",
      "(CVXPY) May 03 11:51:09 PM: Optimal value: 1.609e+04\n",
      "(CVXPY) May 03 11:51:09 PM: Compilation took 1.595e-02 seconds\n",
      "(CVXPY) May 03 11:51:09 PM: Solver (including time spent in interface) took 7.998e-02 seconds\n"
     ]
    },
    {
     "data": {
      "text/plain": [
       "16090.00000000001"
      ]
     },
     "execution_count": 14,
     "metadata": {},
     "output_type": "execute_result"
    }
   ],
   "source": [
    "prob2 = cp.Problem(obj2, cons2)\n",
    "prob2.solve(solver=cp.CPLEX, verbose=True)"
   ]
  },
  {
   "cell_type": "code",
   "execution_count": 174,
   "metadata": {},
   "outputs": [
    {
     "data": {
      "text/plain": [
       "(array([408., 408., 412., 412., 416., 416., 420., 420.]),\n",
       " array([298., 368., 417., 372., 421., 376., 420., 380.]),\n",
       " array([40, 40, 40, 40, 40, 40, 40, 40]))"
      ]
     },
     "execution_count": 174,
     "metadata": {},
     "output_type": "execute_result"
    }
   ],
   "source": [
    "working_hands.value, resting_hands.value, waste_hands.value"
   ]
  },
  {
   "cell_type": "code",
   "execution_count": 175,
   "metadata": {},
   "outputs": [
    {
     "data": {
      "text/plain": [
       "array([[ 1.,  1.,  1.,  1.,  1.,  1.,  1.,  1.],\n",
       "       [ 1.,  1.,  0.,  1.,  0.,  1.,  0., -0.],\n",
       "       [ 1.,  1.,  0.,  1.,  0.,  1.,  0., -0.]])"
      ]
     },
     "execution_count": 175,
     "metadata": {},
     "output_type": "execute_result"
    }
   ],
   "source": [
    "hand_y.value"
   ]
  },
  {
   "cell_type": "code",
   "execution_count": 176,
   "metadata": {},
   "outputs": [
    {
     "data": {
      "text/plain": [
       "(array([[20., 20.,  0., 20.,  0., 20.,  0.,  0.],\n",
       "        [20., 20.,  0., 20.,  0., 20.,  0.,  0.],\n",
       "        [75., 48.,  0., 48.,  0., 43.,  0., -0.]]),\n",
       " array([6., 5., 0., 5., 0., 5., 0., 0.]),\n",
       " array(10.))"
      ]
     },
     "execution_count": 176,
     "metadata": {},
     "output_type": "execute_result"
    }
   ],
   "source": [
    "new_hands.value, teaching_hands.value, new_tested_bodies.value"
   ]
  },
  {
   "cell_type": "markdown",
   "metadata": {},
   "source": [
    "## 输出变量"
   ]
  },
  {
   "cell_type": "code",
   "execution_count": 15,
   "metadata": {},
   "outputs": [
    {
     "data": {
      "text/plain": [
       "71380.00000000001"
      ]
     },
     "execution_count": 15,
     "metadata": {},
     "output_type": "execute_result"
    }
   ],
   "source": [
    "prob.value + prob2.value"
   ]
  },
  {
   "cell_type": "code",
   "execution_count": null,
   "metadata": {},
   "outputs": [],
   "source": []
  },
  {
   "cell_type": "code",
   "execution_count": 19,
   "metadata": {},
   "outputs": [],
   "source": [
    "answers = [\n",
    "    np.round(np.sum(new_bodies.value, axis=0)),\n",
    "    np.round(np.sum(new_hands.value, axis=0)),\n",
    "    np.round(resting_hands.value),\n",
    "    np.round(resting_bodies.value),\n",
    "    np.round(np.sum(new_hands.value, axis=0) + teaching_hands.value),\n",
    "    np.sum(np.round(new_bodies.value) * body_price.value, axis=0) + \\\n",
    "        np.sum(np.round(new_hands.value) * hand_price.value, axis=0) + \\\n",
    "        5 * np.round(resting_hands.value) + \\\n",
    "        10 * np.round(resting_bodies.value) + \\\n",
    "        10 * np.round(np.sum(new_hands.value, axis=0) + teaching_hands.value)\n",
    "]"
   ]
  },
  {
   "cell_type": "code",
   "execution_count": null,
   "metadata": {},
   "outputs": [],
   "source": []
  },
  {
   "cell_type": "code",
   "execution_count": 20,
   "metadata": {},
   "outputs": [
    {
     "data": {
      "text/plain": [
       "71380.0"
      ]
     },
     "execution_count": 20,
     "metadata": {},
     "output_type": "execute_result"
    }
   ],
   "source": [
    "np.sum(answers[5]) + 150 * np.round(new_skill_hands.value) + \\\n",
    "        300 * np.round(new_tested_bodies.value)"
   ]
  },
  {
   "cell_type": "code",
   "execution_count": 21,
   "metadata": {},
   "outputs": [],
   "source": [
    "answers = np.array(answers).T"
   ]
  },
  {
   "cell_type": "code",
   "execution_count": 181,
   "metadata": {},
   "outputs": [],
   "source": [
    "# answers[25]"
   ]
  },
  {
   "cell_type": "code",
   "execution_count": 22,
   "metadata": {},
   "outputs": [],
   "source": [
    "part_ans = np.array(answers[np.arange(8), :], dtype=np.int32)\n",
    "part_ans = np.concatenate([part_ans, np.sum(answers, keepdims=True, axis=0)])"
   ]
  },
  {
   "cell_type": "code",
   "execution_count": 24,
   "metadata": {},
   "outputs": [
    {
     "data": {
      "text/html": [
       "<div>\n",
       "<style scoped>\n",
       "    .dataframe tbody tr th:only-of-type {\n",
       "        vertical-align: middle;\n",
       "    }\n",
       "\n",
       "    .dataframe tbody tr th {\n",
       "        vertical-align: top;\n",
       "    }\n",
       "\n",
       "    .dataframe thead th {\n",
       "        text-align: right;\n",
       "    }\n",
       "</style>\n",
       "<table border=\"1\" class=\"dataframe\">\n",
       "  <thead>\n",
       "    <tr style=\"text-align: right;\">\n",
       "      <th></th>\n",
       "      <th>0</th>\n",
       "      <th>1</th>\n",
       "      <th>2</th>\n",
       "      <th>3</th>\n",
       "      <th>4</th>\n",
       "      <th>5</th>\n",
       "    </tr>\n",
       "  </thead>\n",
       "  <tbody>\n",
       "    <tr>\n",
       "      <th>105</th>\n",
       "      <td>31.0</td>\n",
       "      <td>84.0</td>\n",
       "      <td>368.0</td>\n",
       "      <td>0.0</td>\n",
       "      <td>89.0</td>\n",
       "      <td>15310.0</td>\n",
       "    </tr>\n",
       "    <tr>\n",
       "      <th>106</th>\n",
       "      <td>0.0</td>\n",
       "      <td>0.0</td>\n",
       "      <td>417.0</td>\n",
       "      <td>21.0</td>\n",
       "      <td>0.0</td>\n",
       "      <td>2295.0</td>\n",
       "    </tr>\n",
       "    <tr>\n",
       "      <th>107</th>\n",
       "      <td>0.0</td>\n",
       "      <td>90.0</td>\n",
       "      <td>368.0</td>\n",
       "      <td>10.0</td>\n",
       "      <td>95.0</td>\n",
       "      <td>10690.0</td>\n",
       "    </tr>\n",
       "    <tr>\n",
       "      <th>108</th>\n",
       "      <td>21.0</td>\n",
       "      <td>0.0</td>\n",
       "      <td>423.0</td>\n",
       "      <td>0.0</td>\n",
       "      <td>0.0</td>\n",
       "      <td>5775.0</td>\n",
       "    </tr>\n",
       "    <tr>\n",
       "      <th>109</th>\n",
       "      <td>0.0</td>\n",
       "      <td>125.0</td>\n",
       "      <td>372.0</td>\n",
       "      <td>10.0</td>\n",
       "      <td>132.0</td>\n",
       "      <td>13880.0</td>\n",
       "    </tr>\n",
       "    <tr>\n",
       "      <th>110</th>\n",
       "      <td>21.0</td>\n",
       "      <td>0.0</td>\n",
       "      <td>464.0</td>\n",
       "      <td>0.0</td>\n",
       "      <td>0.0</td>\n",
       "      <td>5980.0</td>\n",
       "    </tr>\n",
       "    <tr>\n",
       "      <th>111</th>\n",
       "      <td>0.0</td>\n",
       "      <td>0.0</td>\n",
       "      <td>420.0</td>\n",
       "      <td>10.0</td>\n",
       "      <td>0.0</td>\n",
       "      <td>2200.0</td>\n",
       "    </tr>\n",
       "    <tr>\n",
       "      <th>112</th>\n",
       "      <td>0.0</td>\n",
       "      <td>0.0</td>\n",
       "      <td>380.0</td>\n",
       "      <td>0.0</td>\n",
       "      <td>0.0</td>\n",
       "      <td>1900.0</td>\n",
       "    </tr>\n",
       "    <tr>\n",
       "      <th>total</th>\n",
       "      <td>73.0</td>\n",
       "      <td>299.0</td>\n",
       "      <td>3212.0</td>\n",
       "      <td>51.0</td>\n",
       "      <td>316.0</td>\n",
       "      <td>58030.0</td>\n",
       "    </tr>\n",
       "  </tbody>\n",
       "</table>\n",
       "</div>"
      ],
      "text/plain": [
       "          0      1       2     3      4        5\n",
       "105    31.0   84.0   368.0   0.0   89.0  15310.0\n",
       "106     0.0    0.0   417.0  21.0    0.0   2295.0\n",
       "107     0.0   90.0   368.0  10.0   95.0  10690.0\n",
       "108    21.0    0.0   423.0   0.0    0.0   5775.0\n",
       "109     0.0  125.0   372.0  10.0  132.0  13880.0\n",
       "110    21.0    0.0   464.0   0.0    0.0   5980.0\n",
       "111     0.0    0.0   420.0  10.0    0.0   2200.0\n",
       "112     0.0    0.0   380.0   0.0    0.0   1900.0\n",
       "total  73.0  299.0  3212.0  51.0  316.0  58030.0"
      ]
     },
     "execution_count": 24,
     "metadata": {},
     "output_type": "execute_result"
    }
   ],
   "source": [
    "df = pd.DataFrame(part_ans, index=list(range(105, 113)) + ['total'],\n",
    "    # columns=['购买的容器艇数量', '购买的操作手数量', '保养的操作手数量', '保养的容器艇数量', '参与训练的操作手数量', '总成本']\n",
    ")\n",
    "df.to_excel('prob5_part1_answer.xlsx')\n",
    "df"
   ]
  },
  {
   "cell_type": "code",
   "execution_count": 25,
   "metadata": {},
   "outputs": [
    {
     "data": {
      "text/plain": [
       "71380.0"
      ]
     },
     "execution_count": 25,
     "metadata": {},
     "output_type": "execute_result"
    }
   ],
   "source": [
    "58030 + 150 * new_skill_hands.value + 300 * new_tested_bodies.value"
   ]
  },
  {
   "cell_type": "code",
   "execution_count": 26,
   "metadata": {},
   "outputs": [
    {
     "data": {
      "text/plain": [
       "(array(69.), array(10.))"
      ]
     },
     "execution_count": 26,
     "metadata": {},
     "output_type": "execute_result"
    }
   ],
   "source": [
    "new_skill_hands.value, new_tested_bodies.value"
   ]
  },
  {
   "cell_type": "markdown",
   "metadata": {},
   "source": [
    "## 问题五·方案一开头条件"
   ]
  },
  {
   "cell_type": "code",
   "execution_count": null,
   "metadata": {},
   "outputs": [],
   "source": []
  }
 ],
 "metadata": {
  "interpreter": {
   "hash": "5f1f67310d7626f6a1e5a2bc75081377e7cbcf2b8e64ea2999e8e80be64123e8"
  },
  "kernelspec": {
   "display_name": "Python 3.9.12 ('math_model')",
   "language": "python",
   "name": "python3"
  },
  "language_info": {
   "codemirror_mode": {
    "name": "ipython",
    "version": 3
   },
   "file_extension": ".py",
   "mimetype": "text/x-python",
   "name": "python",
   "nbconvert_exporter": "python",
   "pygments_lexer": "ipython3",
   "version": "3.7.12"
  },
  "orig_nbformat": 4
 },
 "nbformat": 4,
 "nbformat_minor": 2
}
