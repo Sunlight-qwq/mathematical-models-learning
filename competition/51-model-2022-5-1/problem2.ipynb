{
 "cells": [
  {
   "cell_type": "code",
   "execution_count": 58,
   "metadata": {},
   "outputs": [],
   "source": [
    "import numpy as np\n",
    "import pandas as pd\n",
    "import matplotlib.pyplot as plt\n",
    "import cvxpy as cp"
   ]
  },
  {
   "cell_type": "code",
   "execution_count": 59,
   "metadata": {},
   "outputs": [
    {
     "data": {
      "text/plain": [
       "array([ 11,   5,   4,   7,  16,   6,   5,   7,  13,   6,   5,   7,  12,\n",
       "         5,   4,   6,   9,   5,   5,  11,  29,  21,  17,  20,  27,  13,\n",
       "         9,  10,  16,   6,   5,   7,  11,   5,   5,   6,  12,   7,   7,\n",
       "        10,  15,  10,   9,  11,  15,  10,  10,  16,  26,  21,  23,  36,\n",
       "        50,  45,  45,  49,  57,  43,  40,  44,  52,  43,  42,  45,  52,\n",
       "        41,  39,  41,  48,  35,  34,  35,  42,  34,  36,  43,  55,  48,\n",
       "        54,  65,  80,  70,  74,  85, 101,  89,  88,  90, 100,  87,  88,\n",
       "        89, 104,  89,  89,  90, 106,  96,  94,  99, 109,  99,  96, 102],\n",
       "      dtype=int64)"
      ]
     },
     "execution_count": 59,
     "metadata": {},
     "output_type": "execute_result"
    }
   ],
   "source": [
    "df = pd.read_excel('data.xlsx', header=None)\n",
    "requirements = df.values.flatten()\n",
    "requirements"
   ]
  },
  {
   "cell_type": "code",
   "execution_count": 60,
   "metadata": {},
   "outputs": [],
   "source": [
    "total_week = 104\n",
    "waste_rate = 0.2\n",
    "k = 10\n",
    "requirements = requirements[0:total_week]"
   ]
  },
  {
   "cell_type": "code",
   "execution_count": 61,
   "metadata": {},
   "outputs": [],
   "source": [
    "hand_new = cp.Variable(total_week, integer=True)\n",
    "hand_work = cp.Variable(total_week, integer=True)\n",
    "hand_rest = cp.Variable(total_week, integer=True)\n",
    "hand_teach = cp.Variable(total_week, integer=True)\n",
    "hand_skill = cp.Variable(total_week, integer=True)\n",
    "# body_new = cp.Variable(total_week, integer=True)\n",
    "# body_work = cp.Variable(total_week, integer=True)\n",
    "# body_rest = cp.Variable(total_week, integer=True)\n",
    "# body_tested = cp.Variable(total_week, integer=True)\n",
    "waste = cp.Variable(total_week, integer=True)"
   ]
  },
  {
   "cell_type": "code",
   "execution_count": 62,
   "metadata": {},
   "outputs": [],
   "source": [
    "cons = [\n",
    "    hand_work == 4 * requirements,\n",
    "    # body_work == requirements,\n",
    "    k * hand_teach >= hand_new,\n",
    "    hand_skill == hand_work + hand_rest + hand_teach,\n",
    "    # body_tested == body_work + body_rest,\n",
    "    waste <= waste_rate * hand_work + 0.5,\n",
    "    waste >= waste_rate * hand_work - 0.49999999,\n",
    "\n",
    "    hand_new >= 0,\n",
    "    hand_rest >= 0,\n",
    "    hand_work >= 0,\n",
    "    hand_teach >= 0,\n",
    "    # body_new >= 0,\n",
    "    # body_rest >= 0,\n",
    "    # body_work >= 0,\n",
    "    #waste >= 0,\n",
    "\n",
    "    hand_skill[0] == 50,\n",
    "    # body_tested[0] == 13\n",
    "]"
   ]
  },
  {
   "cell_type": "code",
   "execution_count": 63,
   "metadata": {},
   "outputs": [],
   "source": [
    "for t in range(total_week - 1):\n",
    "    cons.append(hand_rest[t+1] >= hand_work[t] - waste[t])\n",
    "    cons.append(hand_skill[t+1] == hand_skill[t] + hand_new[t] - waste[t])\n",
    "    # cons.append(body_tested[t+1] == body_tested[t] + body_new[t])"
   ]
  },
  {
   "cell_type": "code",
   "execution_count": 64,
   "metadata": {},
   "outputs": [],
   "source": [
    "obj = cp.Minimize(\n",
    "    # 200 * cp.sum(body_new) + \n",
    "    100 * cp.sum(hand_new) + \n",
    "    5 * cp.sum(hand_rest) + \n",
    "    # 10 * cp.sum(body_rest) +\n",
    "    10 * cp.sum(hand_new + hand_teach)\n",
    ")"
   ]
  },
  {
   "cell_type": "code",
   "execution_count": 65,
   "metadata": {},
   "outputs": [
    {
     "data": {
      "text/plain": [
       "inf"
      ]
     },
     "execution_count": 65,
     "metadata": {},
     "output_type": "execute_result"
    }
   ],
   "source": [
    "prob = cp.Problem(obj, cons)\n",
    "prob.solve()"
   ]
  },
  {
   "cell_type": "code",
   "execution_count": 66,
   "metadata": {},
   "outputs": [
    {
     "ename": "TypeError",
     "evalue": "'NoneType' object is not subscriptable",
     "output_type": "error",
     "traceback": [
      "\u001b[1;31m---------------------------------------------------------------------------\u001b[0m",
      "\u001b[1;31mTypeError\u001b[0m                                 Traceback (most recent call last)",
      "\u001b[1;32me:\\program\\synthetical_learning\\mathematical-models-learning\\competition\\51-model-2022-5-1\\problem2.ipynb Cell 9'\u001b[0m in \u001b[0;36m<cell line: 1>\u001b[1;34m()\u001b[0m\n\u001b[1;32m----> <a href='vscode-notebook-cell:/e%3A/program/synthetical_learning/mathematical-models-learning/competition/51-model-2022-5-1/problem2.ipynb#ch0000008?line=0'>1</a>\u001b[0m hand_work\u001b[39m.\u001b[39;49mvalue[\u001b[39m0\u001b[39;49m:\u001b[39m8\u001b[39;49m], waste\u001b[39m.\u001b[39mvalue[\u001b[39m0\u001b[39m:\u001b[39m8\u001b[39m]\n",
      "\u001b[1;31mTypeError\u001b[0m: 'NoneType' object is not subscriptable"
     ]
    }
   ],
   "source": [
    "hand_work.value[0:8], waste.value[0:8]"
   ]
  },
  {
   "cell_type": "code",
   "execution_count": null,
   "metadata": {},
   "outputs": [
    {
     "data": {
      "text/plain": [
       "(array([ 44.,  20.,  16.,  28.,  64.,  24.,  20.,  28.,  52.,  24.,  20.,\n",
       "         28.,  48.,  20.,  16.,  24.,  36.,  20.,  20.,  44., 116.,  84.,\n",
       "         68.,  80., 108.,  52.,  36.,  40.,  64.,  24.,  20.,  28.,  44.,\n",
       "         20.,  20.,  24.,  48.,  28.,  28.,  40.,  60.,  40.,  36.,  44.,\n",
       "         60.,  40.,  40.,  64., 104.,  84.,  92., 144., 200., 180., 180.,\n",
       "        196., 228., 172., 160., 176., 208., 172., 168., 180., 208., 164.,\n",
       "        156., 164., 192., 140., 136., 140., 168., 136., 144., 172., 220.,\n",
       "        192., 216., 260., 320., 280., 296., 340., 404., 356., 352., 360.,\n",
       "        400., 348., 352., 356., 416., 356., 356., 360., 424., 384., 376.,\n",
       "        396., 436., 396., 384., 408.]),\n",
       " array([ 9.,  4.,  3.,  6., 13.,  5.,  4.,  6., 10.,  5.,  4.,  6., 10.,\n",
       "         4.,  3.,  5.,  7.,  4.,  4.,  9., 23., 17., 14., 16., 22., 10.,\n",
       "         7.,  8., 13.,  5.,  4.,  6.,  9.,  4.,  4.,  5., 10.,  6.,  6.,\n",
       "         8., 12.,  8.,  7.,  9., 12.,  8.,  8., 13., 21., 17., 18., 29.,\n",
       "        40., 36., 36., 39., 46., 34., 32., 35., 42., 34., 34., 36., 42.,\n",
       "        33., 31., 33., 38., 28., 27., 28., 34., 27., 29., 34., 44., 38.,\n",
       "        43., 52., 64., 56., 59., 68., 81., 71., 70., 72., 80., 70., 70.,\n",
       "        71., 83., 71., 71., 72., 85., 77., 75., 79., 87., 79., 77., 82.]))"
      ]
     },
     "execution_count": 46,
     "metadata": {},
     "output_type": "execute_result"
    }
   ],
   "source": [
    "hand_work.value, waste.value"
   ]
  },
  {
   "cell_type": "code",
   "execution_count": null,
   "metadata": {},
   "outputs": [],
   "source": [
    "body_work.value"
   ]
  },
  {
   "cell_type": "code",
   "execution_count": null,
   "metadata": {},
   "outputs": [
    {
     "data": {
      "text/plain": [
       "array([  0.,   0.,   0.,   0.,   0.,   0.,   0.,   0.,   0.,   0.,   0.,\n",
       "         0.,   0.,   0.,   0.,   0.,   0.,   0.,   0.,   0.,   0.,   0.,\n",
       "         0.,  42.,   0.,   0.,   0.,   0.,   0.,   0.,   0.,   0.,   0.,\n",
       "         0.,   0.,   0.,   1.,   0.,  12.,  35.,   7.,   0.,   3.,  29.,\n",
       "         4.,   0.,  31.,  69.,  31.,  17.,  80., 120.,  61.,  23.,  54.,\n",
       "        78.,  13.,   0.,  24.,  75.,  29.,   6.,  44.,  69.,  18.,   0.,\n",
       "        30.,  61.,   8.,   0.,  16.,  56.,  23.,  15.,  67., 100.,  53.,\n",
       "        46., 109., 140.,  70.,  47., 120., 159.,  80.,  33.,  79., 112.,\n",
       "        58.,  37.,  82., 128.,  67.,  29.,  80., 136.,  90.,  42.,  92.,\n",
       "       130.,  75.,  40.,  82.,   0.])"
      ]
     },
     "execution_count": 48,
     "metadata": {},
     "output_type": "execute_result"
    }
   ],
   "source": [
    "hand_new.value"
   ]
  }
 ],
 "metadata": {
  "interpreter": {
   "hash": "5f1f67310d7626f6a1e5a2bc75081377e7cbcf2b8e64ea2999e8e80be64123e8"
  },
  "kernelspec": {
   "display_name": "Python 3.9.12 ('math_model')",
   "language": "python",
   "name": "python3"
  },
  "language_info": {
   "codemirror_mode": {
    "name": "ipython",
    "version": 3
   },
   "file_extension": ".py",
   "mimetype": "text/x-python",
   "name": "python",
   "nbconvert_exporter": "python",
   "pygments_lexer": "ipython3",
   "version": "3.9.12"
  },
  "orig_nbformat": 4
 },
 "nbformat": 4,
 "nbformat_minor": 2
}
