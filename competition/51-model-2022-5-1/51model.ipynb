{
 "cells": [
  {
   "cell_type": "code",
   "execution_count": 82,
   "metadata": {},
   "outputs": [],
   "source": [
    "import pandas as pd\n",
    "import numpy as np\n",
    "import matplotlib.pyplot as plt\n",
    "import cvxpy as cp"
   ]
  },
  {
   "cell_type": "code",
   "execution_count": 83,
   "metadata": {},
   "outputs": [
    {
     "data": {
      "text/html": [
       "<div>\n",
       "<style scoped>\n",
       "    .dataframe tbody tr th:only-of-type {\n",
       "        vertical-align: middle;\n",
       "    }\n",
       "\n",
       "    .dataframe tbody tr th {\n",
       "        vertical-align: top;\n",
       "    }\n",
       "\n",
       "    .dataframe thead th {\n",
       "        text-align: right;\n",
       "    }\n",
       "</style>\n",
       "<table border=\"1\" class=\"dataframe\">\n",
       "  <thead>\n",
       "    <tr style=\"text-align: right;\">\n",
       "      <th></th>\n",
       "      <th>0</th>\n",
       "      <th>1</th>\n",
       "      <th>2</th>\n",
       "      <th>3</th>\n",
       "      <th>4</th>\n",
       "      <th>5</th>\n",
       "      <th>6</th>\n",
       "      <th>7</th>\n",
       "    </tr>\n",
       "  </thead>\n",
       "  <tbody>\n",
       "    <tr>\n",
       "      <th>0</th>\n",
       "      <td>11</td>\n",
       "      <td>5</td>\n",
       "      <td>4</td>\n",
       "      <td>7</td>\n",
       "      <td>16</td>\n",
       "      <td>6</td>\n",
       "      <td>5</td>\n",
       "      <td>7</td>\n",
       "    </tr>\n",
       "    <tr>\n",
       "      <th>1</th>\n",
       "      <td>13</td>\n",
       "      <td>6</td>\n",
       "      <td>5</td>\n",
       "      <td>7</td>\n",
       "      <td>12</td>\n",
       "      <td>5</td>\n",
       "      <td>4</td>\n",
       "      <td>6</td>\n",
       "    </tr>\n",
       "    <tr>\n",
       "      <th>2</th>\n",
       "      <td>9</td>\n",
       "      <td>5</td>\n",
       "      <td>5</td>\n",
       "      <td>11</td>\n",
       "      <td>29</td>\n",
       "      <td>21</td>\n",
       "      <td>17</td>\n",
       "      <td>20</td>\n",
       "    </tr>\n",
       "    <tr>\n",
       "      <th>3</th>\n",
       "      <td>27</td>\n",
       "      <td>13</td>\n",
       "      <td>9</td>\n",
       "      <td>10</td>\n",
       "      <td>16</td>\n",
       "      <td>6</td>\n",
       "      <td>5</td>\n",
       "      <td>7</td>\n",
       "    </tr>\n",
       "    <tr>\n",
       "      <th>4</th>\n",
       "      <td>11</td>\n",
       "      <td>5</td>\n",
       "      <td>5</td>\n",
       "      <td>6</td>\n",
       "      <td>12</td>\n",
       "      <td>7</td>\n",
       "      <td>7</td>\n",
       "      <td>10</td>\n",
       "    </tr>\n",
       "    <tr>\n",
       "      <th>5</th>\n",
       "      <td>15</td>\n",
       "      <td>10</td>\n",
       "      <td>9</td>\n",
       "      <td>11</td>\n",
       "      <td>15</td>\n",
       "      <td>10</td>\n",
       "      <td>10</td>\n",
       "      <td>16</td>\n",
       "    </tr>\n",
       "    <tr>\n",
       "      <th>6</th>\n",
       "      <td>26</td>\n",
       "      <td>21</td>\n",
       "      <td>23</td>\n",
       "      <td>36</td>\n",
       "      <td>50</td>\n",
       "      <td>45</td>\n",
       "      <td>45</td>\n",
       "      <td>49</td>\n",
       "    </tr>\n",
       "    <tr>\n",
       "      <th>7</th>\n",
       "      <td>57</td>\n",
       "      <td>43</td>\n",
       "      <td>40</td>\n",
       "      <td>44</td>\n",
       "      <td>52</td>\n",
       "      <td>43</td>\n",
       "      <td>42</td>\n",
       "      <td>45</td>\n",
       "    </tr>\n",
       "    <tr>\n",
       "      <th>8</th>\n",
       "      <td>52</td>\n",
       "      <td>41</td>\n",
       "      <td>39</td>\n",
       "      <td>41</td>\n",
       "      <td>48</td>\n",
       "      <td>35</td>\n",
       "      <td>34</td>\n",
       "      <td>35</td>\n",
       "    </tr>\n",
       "    <tr>\n",
       "      <th>9</th>\n",
       "      <td>42</td>\n",
       "      <td>34</td>\n",
       "      <td>36</td>\n",
       "      <td>43</td>\n",
       "      <td>55</td>\n",
       "      <td>48</td>\n",
       "      <td>54</td>\n",
       "      <td>65</td>\n",
       "    </tr>\n",
       "    <tr>\n",
       "      <th>10</th>\n",
       "      <td>80</td>\n",
       "      <td>70</td>\n",
       "      <td>74</td>\n",
       "      <td>85</td>\n",
       "      <td>101</td>\n",
       "      <td>89</td>\n",
       "      <td>88</td>\n",
       "      <td>90</td>\n",
       "    </tr>\n",
       "    <tr>\n",
       "      <th>11</th>\n",
       "      <td>100</td>\n",
       "      <td>87</td>\n",
       "      <td>88</td>\n",
       "      <td>89</td>\n",
       "      <td>104</td>\n",
       "      <td>89</td>\n",
       "      <td>89</td>\n",
       "      <td>90</td>\n",
       "    </tr>\n",
       "    <tr>\n",
       "      <th>12</th>\n",
       "      <td>106</td>\n",
       "      <td>96</td>\n",
       "      <td>94</td>\n",
       "      <td>99</td>\n",
       "      <td>109</td>\n",
       "      <td>99</td>\n",
       "      <td>96</td>\n",
       "      <td>102</td>\n",
       "    </tr>\n",
       "  </tbody>\n",
       "</table>\n",
       "</div>"
      ],
      "text/plain": [
       "      0   1   2   3    4   5   6    7\n",
       "0    11   5   4   7   16   6   5    7\n",
       "1    13   6   5   7   12   5   4    6\n",
       "2     9   5   5  11   29  21  17   20\n",
       "3    27  13   9  10   16   6   5    7\n",
       "4    11   5   5   6   12   7   7   10\n",
       "5    15  10   9  11   15  10  10   16\n",
       "6    26  21  23  36   50  45  45   49\n",
       "7    57  43  40  44   52  43  42   45\n",
       "8    52  41  39  41   48  35  34   35\n",
       "9    42  34  36  43   55  48  54   65\n",
       "10   80  70  74  85  101  89  88   90\n",
       "11  100  87  88  89  104  89  89   90\n",
       "12  106  96  94  99  109  99  96  102"
      ]
     },
     "execution_count": 83,
     "metadata": {},
     "output_type": "execute_result"
    }
   ],
   "source": [
    "df = pd.read_excel('data.xlsx', header=None)\n",
    "df"
   ]
  },
  {
   "cell_type": "code",
   "execution_count": 84,
   "metadata": {},
   "outputs": [
    {
     "data": {
      "text/plain": [
       "(104,)"
      ]
     },
     "execution_count": 84,
     "metadata": {},
     "output_type": "execute_result"
    }
   ],
   "source": [
    "data = df.values\n",
    "requirements = data.flatten()\n",
    "requirements.shape"
   ]
  },
  {
   "cell_type": "markdown",
   "metadata": {},
   "source": [
    "## 问题一 回归模型\n",
    "\n",
    "具体条件：\n",
    "\n",
    "设 $H$ 为已有的熟练工数， $h$ 为新手数（等于本周买入的数量）， $H_\\text{r}$ 为保养中的熟练工， $H_\\text{w}$ 为工作中的熟练工， $H_\\text{t}$ 为教学中的熟练工，用上标 $h^{(t)}$ 表示第 $t$ 周的新手数，则有"
   ]
  },
  {
   "cell_type": "code",
   "execution_count": 85,
   "metadata": {},
   "outputs": [
    {
     "data": {
      "text/plain": [
       "array([11,  5,  4,  7, 16,  6,  5,  7], dtype=int64)"
      ]
     },
     "execution_count": 85,
     "metadata": {},
     "output_type": "execute_result"
    }
   ],
   "source": [
    "requirements1 = requirements[0:8]\n",
    "k = 10\n",
    "requirements1"
   ]
  },
  {
   "cell_type": "code",
   "execution_count": 86,
   "metadata": {},
   "outputs": [],
   "source": [
    "hand_new = cp.Variable(8, integer=True)\n",
    "hand_work = cp.Variable(8, integer=True)\n",
    "hand_rest = cp.Variable(8, integer=True)\n",
    "hand_teach = cp.Variable(8, integer=True)\n",
    "hand_skill = cp.Variable(8, integer=True)\n",
    "body_new = cp.Variable(8, integer=True)\n",
    "body_work = cp.Variable(8, integer=True)\n",
    "body_rest = cp.Variable(8, integer=True)\n",
    "body_tested = cp.Variable(8, integer=True)"
   ]
  },
  {
   "cell_type": "markdown",
   "metadata": {},
   "source": [
    "增加一周内各个数量的制约条件"
   ]
  },
  {
   "cell_type": "code",
   "execution_count": 87,
   "metadata": {},
   "outputs": [],
   "source": [
    "cons = [\n",
    "    hand_work == 4 * requirements1,\n",
    "    body_work == requirements1,\n",
    "    k * hand_teach >= hand_new,\n",
    "    hand_skill == hand_work + hand_rest + hand_teach,\n",
    "    body_tested == body_work + body_rest,\n",
    "    hand_new >= 0,\n",
    "    hand_rest >= 0,\n",
    "    hand_work >= 0,\n",
    "    hand_teach >= 0,\n",
    "    body_new >= 0,\n",
    "    body_rest >= 0,\n",
    "    body_work >= 0\n",
    "]"
   ]
  },
  {
   "cell_type": "markdown",
   "metadata": {},
   "source": [
    "增加一周之间的制约条件"
   ]
  },
  {
   "cell_type": "code",
   "execution_count": 88,
   "metadata": {},
   "outputs": [],
   "source": [
    "for t in range(7):\n",
    "    cons.append(hand_rest[t+1] >= hand_work[t]),\n",
    "    cons.append(hand_skill[t+1] == hand_skill[t] + hand_new[t])\n",
    "    cons.append(body_tested[t+1] == body_tested[t] + body_new[t])"
   ]
  },
  {
   "cell_type": "markdown",
   "metadata": {},
   "source": [
    "初始值的制约条件"
   ]
  },
  {
   "cell_type": "code",
   "execution_count": 89,
   "metadata": {},
   "outputs": [],
   "source": [
    "cons += [\n",
    "    hand_skill[0] == 50,\n",
    "    body_tested[0] == 13\n",
    "]"
   ]
  },
  {
   "cell_type": "code",
   "execution_count": 90,
   "metadata": {},
   "outputs": [],
   "source": [
    "obj = cp.Minimize(\n",
    "    200 * cp.sum(body_new) + \n",
    "    100 * cp.sum(hand_new) + \n",
    "    5 * cp.sum(hand_rest) + \n",
    "    10 * cp.sum(body_rest) +\n",
    "    10 * cp.sum(hand_new + hand_teach)\n",
    ")"
   ]
  },
  {
   "cell_type": "code",
   "execution_count": 91,
   "metadata": {},
   "outputs": [
    {
     "data": {
      "text/plain": [
       "7625.0"
      ]
     },
     "execution_count": 91,
     "metadata": {},
     "output_type": "execute_result"
    }
   ],
   "source": [
    "prob = cp.Problem(obj, cons)\n",
    "prob.solve()"
   ]
  },
  {
   "cell_type": "code",
   "execution_count": 92,
   "metadata": {},
   "outputs": [
    {
     "data": {
      "text/plain": [
       "(array([44., 20., 16., 28., 64., 24., 20., 28.]),\n",
       " array([11.,  5.,  4.,  7., 16.,  6.,  5.,  7.]),\n",
       " 7625.0)"
      ]
     },
     "execution_count": 92,
     "metadata": {},
     "output_type": "execute_result"
    }
   ],
   "source": [
    "hand_work.value, body_work.value, prob.value"
   ]
  },
  {
   "cell_type": "code",
   "execution_count": 95,
   "metadata": {},
   "outputs": [
    {
     "data": {
      "text/plain": [
       "(array([14.,  0.,  0., 28.,  0.,  0.,  0.,  0.]),\n",
       " array([2., 0., 0., 3., 0., 0., 0., 0.]),\n",
       " array([0., 0., 0., 3., 0., 0., 0., 0.]))"
      ]
     },
     "execution_count": 95,
     "metadata": {},
     "output_type": "execute_result"
    }
   ],
   "source": [
    "hand_new.value, hand_teach.value, body_new.value"
   ]
  }
 ],
 "metadata": {
  "interpreter": {
   "hash": "5f1f67310d7626f6a1e5a2bc75081377e7cbcf2b8e64ea2999e8e80be64123e8"
  },
  "kernelspec": {
   "display_name": "Python 3.9.12 ('math_model')",
   "language": "python",
   "name": "python3"
  },
  "language_info": {
   "codemirror_mode": {
    "name": "ipython",
    "version": 3
   },
   "file_extension": ".py",
   "mimetype": "text/x-python",
   "name": "python",
   "nbconvert_exporter": "python",
   "pygments_lexer": "ipython3",
   "version": "3.9.12"
  },
  "orig_nbformat": 4
 },
 "nbformat": 4,
 "nbformat_minor": 2
}
