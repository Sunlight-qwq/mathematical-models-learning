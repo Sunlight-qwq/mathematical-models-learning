{
 "cells": [
  {
   "cell_type": "code",
   "execution_count": 1,
   "metadata": {},
   "outputs": [],
   "source": [
    "import pandas as pd\n",
    "import numpy as np\n",
    "# import matplotlib.pyplot as plt\n",
    "import cvxpy as cp\n",
    "from math import ceil\n",
    "\n",
    "data = pd.read_excel('data.xlsx', header=None).values.flatten()"
   ]
  },
  {
   "cell_type": "code",
   "execution_count": 2,
   "metadata": {},
   "outputs": [
    {
     "data": {
      "text/plain": [
       "array([ 11,   5,   4,   7,  16,   6,   5,   7,  13,   6,   5,   7,  12,\n",
       "         5,   4,   6,   9,   5,   5,  11,  29,  21,  17,  20,  27,  13,\n",
       "         9,  10,  16,   6,   5,   7,  11,   5,   5,   6,  12,   7,   7,\n",
       "        10,  15,  10,   9,  11,  15,  10,  10,  16,  26,  21,  23,  36,\n",
       "        50,  45,  45,  49,  57,  43,  40,  44,  52,  43,  42,  45,  52,\n",
       "        41,  39,  41,  48,  35,  34,  35,  42,  34,  36,  43,  55,  48,\n",
       "        54,  65,  80,  70,  74,  85, 101,  89,  88,  90, 100,  87,  88,\n",
       "        89, 104,  89,  89,  90, 106,  96,  94,  99, 109,  99,  96, 102],\n",
       "      dtype=int64)"
      ]
     },
     "execution_count": 2,
     "metadata": {},
     "output_type": "execute_result"
    }
   ],
   "source": [
    "requirements = data\n",
    "requirements"
   ]
  },
  {
   "cell_type": "code",
   "execution_count": 3,
   "metadata": {},
   "outputs": [],
   "source": [
    "total_week = 104\n",
    "requirements = requirements[0:total_week]\n",
    "K = 20\n",
    "waste_rate = 0.1"
   ]
  },
  {
   "cell_type": "code",
   "execution_count": 4,
   "metadata": {},
   "outputs": [],
   "source": [
    "working_hands = cp.Parameter(total_week)\n",
    "waste_hands = cp.Parameter(total_week)\n",
    "working_hands.value = 4 * requirements\n",
    "waste_hands.value = np.array([\n",
    "    4 * round(x * waste_rate) if x % 1 != 0.5 else ceil(4 * x * waste_rate)\n",
    "    for x in requirements\n",
    "])\n",
    "\n",
    "teaching_hands = cp.Variable(total_week, integer=True)\n",
    "resting_hands = cp.Variable(total_week, integer=True)\n",
    "new_hands = cp.Variable((3, total_week), integer=True)\n",
    "\n",
    "# 机械手购买的分段点\n",
    "hand_price = cp.Parameter((3, 1))\n",
    "hand_price.value = np.array([100, 90, 80]).reshape(3, 1)\n",
    "\n",
    "hand_y = cp.Variable((3, total_week), boolean=True)\n"
   ]
  },
  {
   "cell_type": "code",
   "execution_count": 5,
   "metadata": {},
   "outputs": [
    {
     "data": {
      "text/plain": [
       "(array([ 44,  20,  16,  28,  64,  24,  20,  28,  52,  24,  20,  28,  48,\n",
       "         20,  16,  24,  36,  20,  20,  44, 116,  84,  68,  80, 108,  52,\n",
       "         36,  40,  64,  24,  20,  28,  44,  20,  20,  24,  48,  28,  28,\n",
       "         40,  60,  40,  36,  44,  60,  40,  40,  64, 104,  84,  92, 144,\n",
       "        200, 180, 180, 196, 228, 172, 160, 176, 208, 172, 168, 180, 208,\n",
       "        164, 156, 164, 192, 140, 136, 140, 168, 136, 144, 172, 220, 192,\n",
       "        216, 260, 320, 280, 296, 340, 404, 356, 352, 360, 400, 348, 352,\n",
       "        356, 416, 356, 356, 360, 424, 384, 376, 396, 436, 396, 384, 408],\n",
       "       dtype=int64),\n",
       " array([ 4,  0,  0,  4,  8,  4,  0,  4,  4,  4,  0,  4,  4,  0,  0,  4,  4,\n",
       "         0,  0,  4, 12,  8,  8,  8, 12,  4,  4,  4,  8,  4,  0,  4,  4,  0,\n",
       "         0,  4,  4,  4,  4,  4,  8,  4,  4,  4,  8,  4,  4,  8, 12,  8,  8,\n",
       "        16, 20, 16, 16, 20, 24, 16, 16, 16, 20, 16, 16, 16, 20, 16, 16, 16,\n",
       "        20, 16, 12, 16, 16, 12, 16, 16, 24, 20, 20, 24, 32, 28, 28, 32, 40,\n",
       "        36, 36, 36, 40, 36, 36, 36, 40, 36, 36, 36, 44, 40, 36, 40, 44, 40,\n",
       "        40, 40]))"
      ]
     },
     "execution_count": 5,
     "metadata": {},
     "output_type": "execute_result"
    }
   ],
   "source": [
    "working_hands.value, waste_hands.value"
   ]
  },
  {
   "cell_type": "code",
   "execution_count": 6,
   "metadata": {},
   "outputs": [],
   "source": [
    "cons = [\n",
    "    resting_hands[0] + teaching_hands[0] + working_hands[0] == 50,\n",
    "    K * teaching_hands >= cp.sum(new_hands, axis=0),\n",
    "\n",
    "    teaching_hands >= 0,\n",
    "    resting_hands >= 0,\n",
    "    new_hands >= 0,\n",
    "\n",
    "    # 分段函数引入的约束\n",
    "    # hand_y >= 0,\n",
    "    # hand_y <= 1,\n",
    "    20 * hand_y[1] <= new_hands[0],\n",
    "    new_hands[0] <= 20 * hand_y[0],\n",
    "    20 * hand_y[2] <= new_hands[1],\n",
    "    new_hands[1]  <= 20 * hand_y[1],\n",
    "    new_hands[2] <= 10000 * hand_y[2]\n",
    "]"
   ]
  },
  {
   "cell_type": "code",
   "execution_count": 7,
   "metadata": {},
   "outputs": [],
   "source": [
    "for t in range(total_week - 1):\n",
    "    cons.append(resting_hands[t + 1] >= working_hands[t] - waste_hands[t]),\n",
    "    cons.append(resting_hands[t + 1] + working_hands[t + 1] + teaching_hands[t + 1] == \\\n",
    "        resting_hands[t] + working_hands[t] + teaching_hands[t] + cp.sum(new_hands, axis=0)[t] - waste_hands[t]\n",
    "        )"
   ]
  },
  {
   "cell_type": "code",
   "execution_count": 8,
   "metadata": {},
   "outputs": [],
   "source": [
    "obj = cp.Minimize(\n",
    "    cp.sum(cp.multiply(new_hands, hand_price))\\\n",
    "    + 5 * cp.sum(resting_hands)\\\n",
    "    + 10 * cp.sum(teaching_hands)\\\n",
    "    + 10 * cp.sum(new_hands)\n",
    ")"
   ]
  },
  {
   "cell_type": "code",
   "execution_count": 9,
   "metadata": {},
   "outputs": [
    {
     "name": "stdout",
     "output_type": "stream",
     "text": [
      "===============================================================================\n",
      "                                     CVXPY                                     \n",
      "                                     v1.2.0                                    \n",
      "===============================================================================\n",
      "(CVXPY) May 03 09:10:23 PM: Your problem has 832 variables, 216 constraints, and 211 parameters.\n",
      "(CVXPY) May 03 09:10:23 PM: It is compliant with the following grammars: DCP, DQCP\n",
      "(CVXPY) May 03 09:10:23 PM: CVXPY will first compile your problem; then, it will invoke a numerical solver to obtain a solution.\n",
      "-------------------------------------------------------------------------------\n",
      "                                  Compilation                                  \n",
      "-------------------------------------------------------------------------------\n",
      "(CVXPY) May 03 09:10:23 PM: Compiling problem (target solver=CPLEX).\n",
      "(CVXPY) May 03 09:10:23 PM: Reduction chain: CvxAttr2Constr -> Qp2SymbolicQp -> QpMatrixStuffing -> CPLEX\n",
      "(CVXPY) May 03 09:10:23 PM: Applying reduction CvxAttr2Constr\n",
      "(CVXPY) May 03 09:10:23 PM: Applying reduction Qp2SymbolicQp\n",
      "(CVXPY) May 03 09:10:23 PM: Applying reduction QpMatrixStuffing\n",
      "(CVXPY) May 03 09:10:24 PM: Applying reduction CPLEX\n",
      "(CVXPY) May 03 09:10:24 PM: Finished problem compilation (took 2.791e-01 seconds).\n",
      "(CVXPY) May 03 09:10:24 PM: (Subsequent compilations of this problem, using the same arguments, should take less time.)\n",
      "-------------------------------------------------------------------------------\n",
      "                                Numerical solver                               \n",
      "-------------------------------------------------------------------------------\n",
      "(CVXPY) May 03 09:10:24 PM: Invoking solver CPLEX  to obtain a solution.\n",
      "Version identifier: 12.10.0.0 | 2019-11-26 | 843d4de2ae\n",
      "CPXPARAM_Read_DataCheck                          1\n"
     ]
    },
    {
     "name": "stderr",
     "output_type": "stream",
     "text": [
      "Warning:  Non-integral bounds for integer variables rounded.\n"
     ]
    },
    {
     "name": "stdout",
     "output_type": "stream",
     "text": [
      "Tried aggregator 3 times.\n",
      "MIP Presolve eliminated 729 rows and 107 columns.\n",
      "MIP Presolve modified 4 coefficients.\n",
      "Aggregator did 72 substitutions.\n",
      "Reduced MIP has 550 rows, 653 columns, and 1918 nonzeros.\n",
      "Reduced MIP has 206 binaries, 447 generals, 0 SOSs, and 0 indicators.\n",
      "Presolve time = 0.00 sec. (2.47 ticks)\n",
      "Probing fixed 0 vars, tightened 160 bounds.\n",
      "Probing time = 0.00 sec. (0.56 ticks)\n",
      "Tried aggregator 1 time.\n",
      "Detecting symmetries...\n",
      "MIP Presolve modified 4 coefficients.\n",
      "Reduced MIP has 550 rows, 653 columns, and 1918 nonzeros.\n",
      "Reduced MIP has 206 binaries, 447 generals, 0 SOSs, and 0 indicators.\n",
      "Presolve time = 0.00 sec. (1.15 ticks)\n",
      "Probing fixed 0 vars, tightened 16 bounds.\n",
      "Probing time = 0.00 sec. (0.56 ticks)\n",
      "Clique table members: 103.\n",
      "MIP emphasis: balance optimality and feasibility.\n",
      "MIP search method: dynamic search.\n",
      "Parallel mode: deterministic, using up to 20 threads.\n",
      "Root relaxation solution time = 0.00 sec. (1.83 ticks)\n",
      "\n",
      "        Nodes                                         Cuts/\n",
      "   Node  Left     Objective  IInf  Best Integer    Best Bound    ItCnt     Gap\n",
      "\n",
      "      0     0   287257.8137   279                 287257.8137      267         \n",
      "      0     0   299682.2384   279                   Cuts: 221      382         \n",
      "      0     0   300771.4883   279                    Cuts: 78      433         \n",
      "      0     0   301111.7050   279                    Cuts: 29      460         \n",
      "      0     0   301182.4644   279                    Cuts: 22      484         \n",
      "      0     0   301230.7319   279                     Cuts: 4      487         \n",
      "Detecting symmetries...\n",
      "      0     0   301230.8140   279                  MIRcuts: 1      488         \n",
      "*     0+    0                       314645.0000   301230.8140             4.26%\n",
      "*     0+    0                       313540.0000   301638.3262             3.80%\n",
      "      0     0  -1.00000e+75     0   313540.0000   301638.3262      488    3.80%\n",
      "*     0+    0                       312395.0000   301638.3262             3.44%\n",
      "*     0+    0                       312200.0000   301638.3262             3.38%\n",
      "Detecting symmetries...\n",
      "      0     2   301230.8140   351   312200.0000   301638.3262      488    3.38%\n",
      "Elapsed time = 0.19 sec. (138.12 ticks, tree = 0.02 MB, solutions = 4)\n",
      "*    29+   14                       311960.0000   301638.3262             3.31%\n",
      "*    30+    7                       311700.0000   301638.3262             3.23%\n",
      "*    30+    1                       311700.0000   301638.3262             3.23%\n",
      "*    35+    6                       311700.0000   301638.3262             3.23%\n",
      "*  2355+ 1385                       310490.0000   301638.3262             2.85%\n",
      "*  2564+ 1866                       309445.0000   301638.3262             2.52%\n",
      "*  2907+ 2057                       309180.0000   301638.3262             2.44%\n",
      "*  3118+ 1977                       309150.0000   301638.3262             2.43%\n",
      "*  5234+ 3210                       307685.0000   301774.8854             1.92%\n",
      "*  5245+ 3210                       307665.0000   301774.8854             1.91%\n",
      "*  5257+ 3407                       307665.0000   301774.8854             1.91%\n",
      "\n",
      "Performing restart 1\n",
      "\n",
      "Repeating presolve.\n",
      "Tried aggregator 1 time.\n",
      "MIP Presolve modified 63 coefficients.\n",
      "Reduced MIP has 550 rows, 653 columns, and 1918 nonzeros.\n",
      "Reduced MIP has 206 binaries, 447 generals, 0 SOSs, and 0 indicators.\n",
      "Presolve time = 0.00 sec. (0.87 ticks)\n",
      "Tried aggregator 1 time.\n",
      "MIP Presolve modified 21 coefficients.\n",
      "Reduced MIP has 550 rows, 653 columns, and 1918 nonzeros.\n",
      "Reduced MIP has 206 binaries, 447 generals, 0 SOSs, and 0 indicators.\n",
      "Presolve time = 0.00 sec. (1.22 ticks)\n",
      "Represolve time = 0.02 sec. (5.04 ticks)\n",
      "*  5260+    0                       307595.0000   301774.8854             1.89%\n",
      "   5260     0   303023.8314   351   307595.0000     Cuts: 237    19469    1.49%\n",
      "   5260     0   303687.8848   351   307595.0000     Cuts: 237    19566    1.27%\n",
      "   5260     0   304033.8711   351   307595.0000     Cuts: 218    19648    1.16%\n",
      "   5260     0   304528.0449   351   307595.0000     Cuts: 195    19713    1.00%\n",
      "   5260     0   304651.3174   351   307595.0000     Cuts: 143    19775    0.96%\n",
      "   5260     0   304792.0166   351   307595.0000     Cuts: 119    19837    0.91%\n",
      "   5260     0   304833.3871   351   307595.0000      Cuts: 63    19879    0.90%\n",
      "   5260     0   304851.6998   351   307595.0000      Cuts: 66    19910    0.89%\n",
      "   5260     0   304865.6927   351   307595.0000      Cuts: 70    19932    0.89%\n",
      "   5260     0   304934.3212   351   307595.0000      Cuts: 52    19971    0.86%\n",
      "   5260     0   305013.2005   351   307595.0000      Cuts: 85    20019    0.84%\n",
      "   5260     0   305036.8470   351   307595.0000      Cuts: 28    20049    0.83%\n",
      "   5260     0   305054.4125   351   307595.0000      Cuts: 59    20088    0.82%\n",
      "   5260     0   305089.1628   351   307595.0000      Cuts: 21    20111    0.81%\n",
      "   5260     0   305119.8176   351   307595.0000      Cuts: 69    20137    0.80%\n",
      "   5260     0   305143.6734   351   307595.0000      Cuts: 53    20161    0.80%\n",
      "   5260     0   305157.6867   351   307595.0000      Cuts: 22    20176    0.79%\n",
      "   5260     0   305166.7282   351   307595.0000      Cuts: 21    20184    0.79%\n",
      "   5260     0   305173.0227   351   307595.0000      Cuts: 13    20192    0.79%\n",
      "   5260     0   305174.7911   351   307595.0000    MIRcuts: 1    20194    0.79%\n",
      "*  5260+    0                       307520.0000   305174.7911             0.76%\n",
      "   5260     0  -1.00000e+75     0   307520.0000   305174.7911    20194    0.76%\n",
      "   5260     2   305174.7911   378   307520.0000   305174.7911    20194    0.76%\n",
      "*  5262+    1                       307440.0000   305231.3865             0.72%\n",
      "*  5266+    4                       307420.0000   305299.3890             0.69%\n",
      "*  5268+    3                       307420.0000   305299.3890             0.69%\n",
      "*  5294+   11                       307220.0000   305400.8051             0.59%\n",
      "*  5310+   16                       307220.0000   305429.7034             0.58%\n",
      "*  5311+   14                       307220.0000   305429.7034             0.58%\n",
      "*  6441+  513                       306840.0000   305438.1742             0.46%\n",
      "*  6462+  561                       306435.0000   305438.1742             0.33%\n",
      "   6736   660   305892.1111   322   306435.0000   305438.1742    24621    0.33%\n",
      "*  7008+  437                       306415.0000   305438.1742             0.32%\n",
      "*  7075+  462                       306380.0000   305438.1742             0.31%\n",
      "*  7679+  493                       306320.0000   305591.4385             0.24%\n",
      "*  8468+  607                       306155.0000   305750.6164             0.13%\n",
      "*  8649+  591                       306070.0000   305750.9055             0.10%\n",
      "*  9715+  182                       306060.0000   305882.5091             0.06%\n",
      "* 10113+  129                       306055.0000   305922.4482             0.04%\n",
      "\n",
      "Implied bound cuts applied:  4\n",
      "Flow cuts applied:  10\n",
      "Mixed integer rounding cuts applied:  160\n",
      "Lift and project cuts applied:  28\n",
      "Gomory fractional cuts applied:  51\n",
      "\n",
      "Root node processing (before b&c):\n",
      "  Real time             =    0.19 sec. (137.86 ticks)\n",
      "Parallel b&c, 20 threads:\n",
      "  Real time             =    2.09 sec. (1431.41 ticks)\n",
      "  Sync time (average)   =    0.26 sec.\n",
      "  Wait time (average)   =    0.02 sec.\n",
      "                          ------------\n",
      "Total (root+branch&cut) =    2.28 sec. (1569.27 ticks)\n",
      "-------------------------------------------------------------------------------\n",
      "                                    Summary                                    \n",
      "-------------------------------------------------------------------------------\n",
      "(CVXPY) May 03 09:10:26 PM: Problem status: optimal\n",
      "(CVXPY) May 03 09:10:26 PM: Optimal value: 3.061e+05\n",
      "(CVXPY) May 03 09:10:26 PM: Compilation took 2.791e-01 seconds\n",
      "(CVXPY) May 03 09:10:26 PM: Solver (including time spent in interface) took 2.296e+00 seconds\n"
     ]
    },
    {
     "data": {
      "text/plain": [
       "306054.99999998085"
      ]
     },
     "execution_count": 9,
     "metadata": {},
     "output_type": "execute_result"
    }
   ],
   "source": [
    "prob = cp.Problem(obj, cons)\n",
    "prob.solve(solver=cp.CPLEX, verbose=True)"
   ]
  },
  {
   "cell_type": "code",
   "execution_count": 10,
   "metadata": {},
   "outputs": [
    {
     "data": {
      "text/plain": [
       "(array([ 44,  20,  16,  28,  64,  24,  20,  28,  52,  24,  20,  28,  48,\n",
       "         20,  16,  24,  36,  20,  20,  44, 116,  84,  68,  80, 108,  52,\n",
       "         36,  40,  64,  24,  20,  28,  44,  20,  20,  24,  48,  28,  28,\n",
       "         40,  60,  40,  36,  44,  60,  40,  40,  64, 104,  84,  92, 144,\n",
       "        200, 180, 180, 196, 228, 172, 160, 176, 208, 172, 168, 180, 208,\n",
       "        164, 156, 164, 192, 140, 136, 140, 168, 136, 144, 172, 220, 192,\n",
       "        216, 260, 320, 280, 296, 340, 404, 356, 352, 360, 400, 348, 352,\n",
       "        356, 416, 356, 356, 360, 424, 384, 376, 396, 436, 396, 384, 408],\n",
       "       dtype=int64),\n",
       " array([  5,  40,  44,  30,  24,  56,  56,  47,  24,  48,  48,  39,  24,\n",
       "         48,  52,  44,  28,  40,  39,  19,  90, 111, 119,  98,  72, 116,\n",
       "        128, 120,  92, 124, 124, 116,  96, 116, 116, 112,  84, 100,  96,\n",
       "         80,  56,  68,  68,  55,  40,  52,  46,  36,  88,  96,  76,  84,\n",
       "        184, 184, 164, 228, 176, 208, 204, 169, 179, 195, 183, 152, 164,\n",
       "        188, 179, 154, 148, 180, 168, 150, 136, 152, 129, 128, 216, 220,\n",
       "        172, 196, 292, 301, 252, 268, 356, 364, 325, 424, 348, 360, 316,\n",
       "        316, 383, 403, 367, 320, 384, 380, 345, 340, 396, 392, 361, 344]),\n",
       " array([ 4,  0,  0,  4,  8,  4,  0,  4,  4,  4,  0,  4,  4,  0,  0,  4,  4,\n",
       "         0,  0,  4, 12,  8,  8,  8, 12,  4,  4,  4,  8,  4,  0,  4,  4,  0,\n",
       "         0,  4,  4,  4,  4,  4,  8,  4,  4,  4,  8,  4,  4,  8, 12,  8,  8,\n",
       "        16, 20, 16, 16, 20, 24, 16, 16, 16, 20, 16, 16, 16, 20, 16, 16, 16,\n",
       "        20, 16, 12, 16, 16, 12, 16, 16, 24, 20, 20, 24, 32, 28, 28, 32, 40,\n",
       "        36, 36, 36, 40, 36, 36, 36, 40, 36, 36, 36, 44, 40, 36, 40, 44, 40,\n",
       "        40, 40]))"
      ]
     },
     "execution_count": 10,
     "metadata": {},
     "output_type": "execute_result"
    }
   ],
   "source": [
    "working_hands.value, np.array(resting_hands.value, dtype=np.int32), waste_hands.value"
   ]
  },
  {
   "cell_type": "code",
   "execution_count": 11,
   "metadata": {},
   "outputs": [
    {
     "data": {
      "text/plain": [
       "array([[1, 1, 1, 1, 1, 1, 1, 1, 1, 1, 1, 1, 1, 1, 1, 1, 1, 1, 1, 1, 1, 1,\n",
       "        1, 1, 1, 1, 1, 1, 1, 1, 1, 1, 1, 1, 1, 1, 1, 1, 1, 1, 1, 1, 1, 1,\n",
       "        1, 1, 1, 1, 1, 1, 1, 1, 1, 1, 1, 1, 1, 1, 1, 1, 1, 1, 1, 1, 1, 1,\n",
       "        1, 1, 1, 1, 1, 1, 1, 1, 1, 1, 1, 1, 1, 1, 1, 1, 1, 1, 1, 1, 1, 1,\n",
       "        1, 1, 1, 1, 1, 1, 1, 1, 1, 1, 1, 1, 1, 1, 1, 1],\n",
       "       [0, 0, 0, 1, 0, 0, 0, 0, 0, 0, 0, 0, 0, 0, 0, 0, 0, 0, 0, 0, 0, 0,\n",
       "        0, 0, 0, 0, 0, 0, 0, 0, 0, 0, 0, 0, 0, 0, 0, 0, 0, 0, 0, 0, 0, 0,\n",
       "        0, 0, 1, 1, 0, 0, 1, 1, 0, 0, 1, 0, 0, 0, 0, 1, 0, 0, 0, 1, 0, 0,\n",
       "        0, 1, 0, 0, 0, 1, 0, 0, 1, 1, 0, 0, 1, 1, 0, 0, 1, 1, 0, 0, 0, 0,\n",
       "        0, 0, 1, 1, 0, 0, 0, 1, 0, 0, 1, 1, 0, 0, 0, 0],\n",
       "       [0, 0, 0, 0, 0, 0, 0, 0, 0, 0, 0, 0, 0, 0, 0, 0, 0, 0, 0, 0, 0, 0,\n",
       "        0, 0, 0, 0, 0, 0, 0, 0, 0, 0, 0, 0, 0, 0, 0, 0, 0, 0, 0, 0, 0, 0,\n",
       "        0, 0, 0, 1, 0, 0, 1, 1, 0, 0, 1, 0, 0, 0, 0, 1, 0, 0, 0, 1, 0, 0,\n",
       "        0, 0, 0, 0, 0, 0, 0, 0, 1, 1, 0, 0, 1, 1, 0, 0, 1, 1, 0, 0, 0, 0,\n",
       "        0, 0, 1, 1, 0, 0, 0, 1, 0, 0, 1, 1, 0, 0, 0, 0]])"
      ]
     },
     "execution_count": 11,
     "metadata": {},
     "output_type": "execute_result"
    }
   ],
   "source": [
    "np.array(hand_y.value, dtype=np.int32)"
   ]
  },
  {
   "cell_type": "code",
   "execution_count": 15,
   "metadata": {},
   "outputs": [
    {
     "data": {
      "text/plain": [
       "[(14.0, 0.0, 0.0),\n",
       " (0.0, 0.0, 0.0),\n",
       " (0.0, 0.0, 0.0),\n",
       " (20.0, 12.0, -0.0),\n",
       " (0.0, 0.0, 0.0),\n",
       " (0.0, 0.0, 0.0),\n",
       " (0.0, 0.0, 0.0),\n",
       " (4.0, 0.0, -0.0),\n",
       " (0.0, 0.0, -0.0),\n",
       " (0.0, 0.0, -0.0),\n",
       " (0.0, 0.0, -0.0),\n",
       " (8.0, 0.0, -0.0),\n",
       " (0.0, -0.0, -0.0),\n",
       " (-0.0, -0.0, -0.0),\n",
       " (0.0, -0.0, -0.0),\n",
       " (0.0, 0.0, -0.0),\n",
       " (0.0, 0.0, -0.0),\n",
       " (0.0, 0.0, 0.0),\n",
       " (10.999999999983954, 3.1374984894781436e-11, -4.55243802927865e-11),\n",
       " (19.999999999996657, 19.999999999996657, 100.0),\n",
       " (1.2907811804891677e-11, 1.2907811804891677e-11, 1.1063838689907036e-11),\n",
       " (0.0, 0.0, 0.0),\n",
       " (0.0, 0.0, 0.0),\n",
       " (9.0, 0.0, -0.0),\n",
       " (-0.0, -0.0, -0.0),\n",
       " (-0.0, 0.0, -0.0),\n",
       " (-0.0, -0.0, -0.0),\n",
       " (-0.0, -0.0, -0.0),\n",
       " (-0.0, -0.0, -0.0),\n",
       " (-0.0, -0.0, -0.0),\n",
       " (-0.0, -0.0, -0.0),\n",
       " (-0.0, -0.0, -0.0),\n",
       " (-0.0, -0.0, -0.0),\n",
       " (-0.0, -0.0, -0.0),\n",
       " (-0.0, 0.0, -0.0),\n",
       " (0.0, -0.0, -0.0),\n",
       " (0.0, -0.0, -0.0),\n",
       " (-0.0, -0.0, -0.0),\n",
       " (0.0, -0.0, -0.0),\n",
       " (0.0, -0.0, -0.0),\n",
       " (0.0, 0.0, 0.0),\n",
       " (0.0, 0.0, -0.0),\n",
       " (0.0, 0.0, 2.6239380020669017e-13),\n",
       " (3.9999999999997375, 0.0, 0.0),\n",
       " (0.0, 0.0, 0.0),\n",
       " (0.0, 0.0, 0.0),\n",
       " (20.0, 1.0, -0.0),\n",
       " (20.0, 20.0, 55.00000000000182),\n",
       " (0.0, 0.0, -0.0),\n",
       " (0.0, 0.0, 0.0),\n",
       " (20.0, 20.0, 32.99999999999818),\n",
       " (20.0, 20.0, 123.99999999999234),\n",
       " (0.0, 0.0, 0.0),\n",
       " (7.653945137311302e-12, 0.0, -0.0),\n",
       " (20.0, 20.0, 51.0),\n",
       " (0.0, 1.8373926718742743e-12, 0.0),\n",
       " (0.0, 0.0, -0.0),\n",
       " (0.0, 0.0, 0.0),\n",
       " (0.0, 0.0, -0.0),\n",
       " (20.0, 20.0, 15.000000003605264),\n",
       " (0.0, 0.0, -0.0),\n",
       " (0.0, 0.0, 0.0),\n",
       " (-3.603523010169593e-09, 0.0, -0.0),\n",
       " (20.0, 20.0, 12.999999999996422),\n",
       " (0.0, 0.0, -0.0),\n",
       " (-7.48083008076559e-12, 0.0, -0.0),\n",
       " (6.676304833458546e-12, 6.669088383806536e-12, -0.0),\n",
       " (20.0, 16.0, 0.0),\n",
       " (0.0, 0.0, -0.0),\n",
       " (2.367188570766012e-12, 2.367188570766012e-12, 0.0),\n",
       " (2.8707471182828956e-12, 2.8707471182828956e-12, -0.0),\n",
       " (20.0, 8.00000000000419, 0.0),\n",
       " (-2.0530783065836292e-11, -0.0, -0.0),\n",
       " (0.0, 0.0, -0.0),\n",
       " (20.0, 20.0, 8.0),\n",
       " (20.0, 20.0, 104.99999999999928),\n",
       " (0.0, 0.0, 0.0),\n",
       " (0.0, -0.0, 0.0),\n",
       " (20.0, 20.0, 52.0),\n",
       " (20.0, 20.0, 131.99999999999275),\n",
       " (0.0, 0.0, -0.0),\n",
       " (0.0, 0.0, -0.0),\n",
       " (20.0, 20.0, 52.00000000000866),\n",
       " (20.0, 20.0, 135.0),\n",
       " (0.0, 0.0, 0.0),\n",
       " (0.0, 0.0, 1.3626800653758979e-11),\n",
       " (19.999999999991037, 19.999999999991037, 96.00000000000357),\n",
       " (0.0, 0.0, 0.0),\n",
       " (-0.0, -0.0, 0.0),\n",
       " (0.0, -1.4535818448652295e-12, 0.0),\n",
       " (20.0, 20.0, 4.0),\n",
       " (20.0, 20.0, 116.0),\n",
       " (0.0, 0.0, 0.0),\n",
       " (0.0, 0.0, 0.0),\n",
       " (7.67019031451337e-13, 0.0, 0.0),\n",
       " (20.0, 20.00000000000019, 116.00000000000723),\n",
       " (0.0, 0.0, -5.09979561730828e-12),\n",
       " (-0.0, 0.0, 0.0),\n",
       " (20.0, 20.0, 15.0),\n",
       " (20.0, 20.0, 88.99999999999768),\n",
       " (0.0, 0.0, 0.0),\n",
       " (0.0, 0.0, -0.0),\n",
       " (19.999999999991097, 19.999999999991097, 4.000000000017807),\n",
       " (0.0, 0.0, -0.0)]"
      ]
     },
     "execution_count": 15,
     "metadata": {},
     "output_type": "execute_result"
    }
   ],
   "source": [
    "list(zip(*new_hands.value))"
   ]
  }
 ],
 "metadata": {
  "interpreter": {
   "hash": "5f1f67310d7626f6a1e5a2bc75081377e7cbcf2b8e64ea2999e8e80be64123e8"
  },
  "kernelspec": {
   "display_name": "Python 3.9.12 ('math_model')",
   "language": "python",
   "name": "python3"
  },
  "language_info": {
   "codemirror_mode": {
    "name": "ipython",
    "version": 3
   },
   "file_extension": ".py",
   "mimetype": "text/x-python",
   "name": "python",
   "nbconvert_exporter": "python",
   "pygments_lexer": "ipython3",
   "version": "3.7.12"
  },
  "orig_nbformat": 4
 },
 "nbformat": 4,
 "nbformat_minor": 2
}
