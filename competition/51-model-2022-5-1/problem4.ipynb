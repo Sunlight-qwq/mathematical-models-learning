{
 "cells": [
  {
   "cell_type": "code",
   "execution_count": 23,
   "metadata": {},
   "outputs": [],
   "source": [
    "import pandas as pd\n",
    "import numpy as np\n",
    "import matplotlib.pyplot as plt\n",
    "import cvxpy as cp\n",
    "from math import ceil\n",
    "\n",
    "data = pd.read_excel('data.xlsx', header=None).values.flatten()"
   ]
  },
  {
   "cell_type": "code",
   "execution_count": 24,
   "metadata": {},
   "outputs": [
    {
     "data": {
      "text/plain": [
       "array([ 11,   5,   4,   7,  16,   6,   5,   7,  13,   6,   5,   7,  12,\n",
       "         5,   4,   6,   9,   5,   5,  11,  29,  21,  17,  20,  27,  13,\n",
       "         9,  10,  16,   6,   5,   7,  11,   5,   5,   6,  12,   7,   7,\n",
       "        10,  15,  10,   9,  11,  15,  10,  10,  16,  26,  21,  23,  36,\n",
       "        50,  45,  45,  49,  57,  43,  40,  44,  52,  43,  42,  45,  52,\n",
       "        41,  39,  41,  48,  35,  34,  35,  42,  34,  36,  43,  55,  48,\n",
       "        54,  65,  80,  70,  74,  85, 101,  89,  88,  90, 100,  87,  88,\n",
       "        89, 104,  89,  89,  90, 106,  96,  94,  99, 109,  99,  96, 102],\n",
       "      dtype=int64)"
      ]
     },
     "execution_count": 24,
     "metadata": {},
     "output_type": "execute_result"
    }
   ],
   "source": [
    "requirements = data\n",
    "requirements"
   ]
  },
  {
   "cell_type": "code",
   "execution_count": 25,
   "metadata": {},
   "outputs": [],
   "source": [
    "total_week = 8\n",
    "requirements = requirements[0:total_week]\n",
    "K = 20\n",
    "waste_rate = 0.1"
   ]
  },
  {
   "cell_type": "code",
   "execution_count": 26,
   "metadata": {},
   "outputs": [],
   "source": [
    "working_hands = cp.Parameter(total_week)\n",
    "waste_hands = cp.Parameter(total_week)\n",
    "working_hands.value = 4 * requirements\n",
    "waste_hands.value = np.array([\n",
    "    round(4 * x * waste_rate) if x % 1 != 0.5 else ceil(4 * x * waste_rate) \n",
    "    for x in requirements\n",
    "])\n",
    "\n",
    "\n",
    "teaching_hands = cp.Variable(total_week, integer=True)\n",
    "resting_hands = cp.Variable(total_week, integer=True)\n",
    "new_hands = cp.Variable(total_week, integer=True)\n",
    "\n",
    "# 机械手购买的分段点\n",
    "hand_bp = cp.Parameter((1, 4))\n",
    "hand_bp.value = np.array([0, 20, 40, 200]).reshape(1, 4)\n",
    "hand_bp_values = cp.Parameter((1, 4))\n",
    "hand_bp_values.value = np.array([0, 20 * 100, 20 * 100 + 20 * 90, 20 * 100 + 20 * 90 + 160 * 80]).reshape(1, 4)\n",
    "\n",
    "hand_z = cp.Variable((total_week, 4))\n",
    "hand_y = cp.Variable((total_week, 3), integer=True)\n",
    "\n",
    "# 容器艇购买的分段点\n",
    "body_bp = cp.Parameter((1, 4))\n",
    "body_bp.value = np.array([0, 5, 10, 100]).reshape(1, 4)\n",
    "body_bp_values = cp.Parameter(4)\n",
    "body_bp_values.value = np.array([0, 5 * 200, 5 * 200 + 5 * 180, 5 * 200 + 5 * 180 + 90 * 160])\n",
    "\n",
    "body_z = cp.Variable((total_week, 4))\n",
    "body_y = cp.Variable((total_week, 4), integer=True)"
   ]
  },
  {
   "cell_type": "code",
   "execution_count": 27,
   "metadata": {},
   "outputs": [
    {
     "data": {
      "text/plain": [
       "(array([44, 20, 16, 28, 64, 24, 20, 28], dtype=int64),\n",
       " array([4, 2, 2, 3, 6, 2, 2, 3]))"
      ]
     },
     "execution_count": 27,
     "metadata": {},
     "output_type": "execute_result"
    }
   ],
   "source": [
    "working_hands.value, waste_hands.value"
   ]
  },
  {
   "cell_type": "code",
   "execution_count": 28,
   "metadata": {},
   "outputs": [],
   "source": [
    "cons = [\n",
    "    resting_hands[0] + teaching_hands[0] + working_hands[0] == 50,\n",
    "    K * teaching_hands >= new_hands,\n",
    "\n",
    "    teaching_hands >= 0,\n",
    "    resting_hands >= 0,\n",
    "    new_hands >= 0,\n",
    "\n",
    "    # 分段函数引入的约束\n",
    "    hand_z[:, 0] <= hand_y[:, 0],\n",
    "    hand_z[:, 1] <= hand_y[:, 0] + hand_y[:, 1],\n",
    "    hand_z[:, 2] <= hand_y[:, 1] + hand_y[:, 2],\n",
    "    hand_z[:, 3] <= hand_y[:, 2],\n",
    "    cp.sum(hand_z, axis=1) == 1,\n",
    "    hand_z >= 0,\n",
    "    cp.sum(hand_y, axis=1) == 1,\n",
    "    hand_y >= 0,\n",
    "    hand_y <= 1,\n",
    "\n",
    "    new_hands == cp.sum(cp.multiply(hand_z, hand_bp))\n",
    "]"
   ]
  },
  {
   "cell_type": "code",
   "execution_count": 29,
   "metadata": {},
   "outputs": [],
   "source": [
    "for t in range(total_week - 1):\n",
    "    cons.append(resting_hands[t + 1] >= working_hands[t] - waste_hands[t]),\n",
    "    cons.append(resting_hands[t + 1] + working_hands[t + 1] + teaching_hands[t + 1] == \\\n",
    "        resting_hands[t] + working_hands[t] + teaching_hands[t] + new_hands[t] - waste_hands[t]\n",
    "        )"
   ]
  },
  {
   "cell_type": "code",
   "execution_count": 30,
   "metadata": {},
   "outputs": [],
   "source": [
    "obj = cp.Minimize(\n",
    "    cp.sum(cp.multiply(hand_z, hand_bp_values))\\\n",
    "    + 5 * cp.sum(resting_hands)\\\n",
    "    + 10 * cp.sum(teaching_hands + new_hands)\n",
    ")"
   ]
  },
  {
   "cell_type": "code",
   "execution_count": 31,
   "metadata": {},
   "outputs": [
    {
     "name": "stdout",
     "output_type": "stream",
     "text": [
      "===============================================================================\n",
      "                                     CVXPY                                     \n",
      "                                     v1.2.0                                    \n",
      "===============================================================================\n",
      "(CVXPY) May 03 12:39:35 AM: Your problem has 80 variables, 29 constraints, and 24 parameters.\n",
      "(CVXPY) May 03 12:39:35 AM: It is compliant with the following grammars: DCP, DQCP\n",
      "(CVXPY) May 03 12:39:35 AM: CVXPY will first compile your problem; then, it will invoke a numerical solver to obtain a solution.\n",
      "-------------------------------------------------------------------------------\n",
      "                                  Compilation                                  \n",
      "-------------------------------------------------------------------------------\n",
      "(CVXPY) May 03 12:39:35 AM: Compiling problem (target solver=CPLEX).\n",
      "(CVXPY) May 03 12:39:35 AM: Reduction chain: Dcp2Cone -> CvxAttr2Constr -> ConeMatrixStuffing -> CPLEX\n",
      "(CVXPY) May 03 12:39:35 AM: Applying reduction Dcp2Cone\n",
      "(CVXPY) May 03 12:39:35 AM: Applying reduction CvxAttr2Constr\n",
      "(CVXPY) May 03 12:39:35 AM: Applying reduction ConeMatrixStuffing\n",
      "(CVXPY) May 03 12:39:35 AM: Applying reduction CPLEX\n",
      "(CVXPY) May 03 12:39:35 AM: Finished problem compilation (took 4.083e-02 seconds).\n",
      "(CVXPY) May 03 12:39:35 AM: (Subsequent compilations of this problem, using the same arguments, should take less time.)\n",
      "-------------------------------------------------------------------------------\n",
      "                                Numerical solver                               \n",
      "-------------------------------------------------------------------------------\n",
      "(CVXPY) May 03 12:39:35 AM: Invoking solver CPLEX  to obtain a solution.\n",
      "Version identifier: 22.1.0.0 | 2022-03-25 | 54982fbec\n",
      "CPXPARAM_Read_DataCheck                          1\n",
      "CPXPARAM_Preprocessing_QCPDuals                  2\n",
      "Tried aggregator 2 times.\n",
      "MIP Presolve eliminated 111 rows and 0 columns.\n",
      "MIP Presolve modified 39 coefficients.\n",
      "Aggregator did 16 substitutions.\n",
      "Reduced MIP has 56 rows, 64 columns, and 323 nonzeros.\n",
      "Reduced MIP has 16 binaries, 16 generals, 0 SOSs, and 0 indicators.\n",
      "Presolve time = 0.00 sec. (0.29 ticks)\n",
      "Probing fixed 0 vars, tightened 64 bounds.\n",
      "Probing time = 0.00 sec. (0.25 ticks)\n",
      "Tried aggregator 1 time.\n",
      "Detecting symmetries...\n",
      "MIP Presolve added 28 rows and 0 columns.\n",
      "MIP Presolve modified 8 coefficients.\n",
      "Reduced MIP has 84 rows, 64 columns, and 379 nonzeros.\n",
      "Reduced MIP has 16 binaries, 16 generals, 0 SOSs, and 0 indicators.\n",
      "Presolve time = 0.01 sec. (0.22 ticks)\n",
      "Probing fixed 0 vars, tightened 8 bounds.\n",
      "Probing time = 0.00 sec. (0.13 ticks)\n",
      "Clique table members: 8.\n",
      "MIP emphasis: balance optimality and feasibility.\n",
      "MIP search method: dynamic search.\n",
      "Parallel mode: deterministic, using up to 20 threads.\n",
      "Root relaxation solution time = 0.00 sec. (0.42 ticks)\n",
      "\n",
      "        Nodes                                         Cuts/\n",
      "   Node  Left     Objective  IInf  Best Integer    Best Bound    ItCnt     Gap\n",
      "\n",
      "      0     0     4868.8251    15                   4868.8251       53         \n",
      "      0     0     5055.3459    12                    Cuts: 13       87         \n",
      "*     0+    0                         5190.0000     5055.3459             2.59%\n",
      "      0     0        cutoff           5190.0000                    141    0.00%\n",
      "Elapsed time = 0.61 sec. (3.77 ticks, tree = 0.01 MB, solutions = 1)\n",
      "\n",
      "Flow cuts applied:  1\n",
      "Mixed integer rounding cuts applied:  3\n",
      "\n",
      "Root node processing (before b&c):\n",
      "  Real time             =    0.61 sec. (3.77 ticks)\n",
      "Parallel b&c, 20 threads:\n",
      "  Real time             =    0.00 sec. (0.00 ticks)\n",
      "  Sync time (average)   =    0.00 sec.\n",
      "  Wait time (average)   =    0.00 sec.\n",
      "                          ------------\n",
      "Total (root+branch&cut) =    0.61 sec. (3.77 ticks)\n",
      "-------------------------------------------------------------------------------\n",
      "                                    Summary                                    \n",
      "-------------------------------------------------------------------------------\n",
      "(CVXPY) May 03 12:39:36 AM: Problem status: optimal\n",
      "(CVXPY) May 03 12:39:36 AM: Optimal value: 5.190e+03\n",
      "(CVXPY) May 03 12:39:36 AM: Compilation took 4.083e-02 seconds\n",
      "(CVXPY) May 03 12:39:36 AM: Solver (including time spent in interface) took 6.517e-01 seconds\n"
     ]
    },
    {
     "data": {
      "text/plain": [
       "5190.0"
      ]
     },
     "execution_count": 31,
     "metadata": {},
     "output_type": "execute_result"
    }
   ],
   "source": [
    "prob = cp.Problem(obj, cons)\n",
    "prob.solve(verbose=True)"
   ]
  },
  {
   "cell_type": "code",
   "execution_count": 32,
   "metadata": {},
   "outputs": [
    {
     "data": {
      "text/plain": [
       "(array([44, 20, 16, 28, 64, 24, 20, 28], dtype=int64),\n",
       " array([  5.,  40.,  57.,  58.,  34.,  83., 100., 105.]))"
      ]
     },
     "execution_count": 32,
     "metadata": {},
     "output_type": "execute_result"
    }
   ],
   "source": [
    "working_hands.value, resting_hands.value"
   ]
  },
  {
   "cell_type": "code",
   "execution_count": 33,
   "metadata": {},
   "outputs": [
    {
     "data": {
      "text/plain": [
       "array([[ 1.  , -0.  ,  0.  ,  0.  ],\n",
       "       [ 1.  , -0.  ,  0.  ,  0.  ],\n",
       "       [ 1.  , -0.  ,  0.  ,  0.  ],\n",
       "       [ 1.  , -0.  ,  0.  ,  0.  ],\n",
       "       [ 1.  , -0.  ,  0.  ,  0.  ],\n",
       "       [ 1.  , -0.  ,  0.  ,  0.  ],\n",
       "       [ 1.  , -0.  ,  0.  ,  0.  ],\n",
       "       [ 0.25,  0.75,  0.  ,  0.  ]])"
      ]
     },
     "execution_count": 33,
     "metadata": {},
     "output_type": "execute_result"
    }
   ],
   "source": [
    "hand_z.value"
   ]
  },
  {
   "cell_type": "code",
   "execution_count": 34,
   "metadata": {},
   "outputs": [
    {
     "data": {
      "text/plain": [
       "(array([15., 15., 15., 15., 15., 15., 15., 15.]),\n",
       " array([1., 1., 1., 1., 1., 1., 1., 1.]))"
      ]
     },
     "execution_count": 34,
     "metadata": {},
     "output_type": "execute_result"
    }
   ],
   "source": [
    "new_hands.value, teaching_hands.value"
   ]
  }
 ],
 "metadata": {
  "interpreter": {
   "hash": "5f1f67310d7626f6a1e5a2bc75081377e7cbcf2b8e64ea2999e8e80be64123e8"
  },
  "kernelspec": {
   "display_name": "Python 3.9.12 ('math_model')",
   "language": "python",
   "name": "python3"
  },
  "language_info": {
   "codemirror_mode": {
    "name": "ipython",
    "version": 3
   },
   "file_extension": ".py",
   "mimetype": "text/x-python",
   "name": "python",
   "nbconvert_exporter": "python",
   "pygments_lexer": "ipython3",
   "version": "3.9.12"
  },
  "orig_nbformat": 4
 },
 "nbformat": 4,
 "nbformat_minor": 2
}
