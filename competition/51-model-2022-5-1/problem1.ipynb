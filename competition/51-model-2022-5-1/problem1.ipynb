{
 "cells": [
  {
   "cell_type": "code",
   "execution_count": 1,
   "metadata": {},
   "outputs": [],
   "source": [
    "import pandas as pd\n",
    "import numpy as np\n",
    "import matplotlib.pyplot as plt\n",
    "import cvxpy as cp"
   ]
  },
  {
   "cell_type": "code",
   "execution_count": 2,
   "metadata": {},
   "outputs": [],
   "source": [
    "df = pd.read_excel('data.xlsx', header=None)\n",
    "data = df.values.flatten()\n",
    "requirements = data"
   ]
  },
  {
   "cell_type": "code",
   "execution_count": 3,
   "metadata": {},
   "outputs": [
    {
     "data": {
      "text/plain": [
       "array([11,  5,  4,  7, 16,  6,  5,  7], dtype=int64)"
      ]
     },
     "execution_count": 3,
     "metadata": {},
     "output_type": "execute_result"
    }
   ],
   "source": [
    "requirements1 = requirements[0:8]\n",
    "k = 10\n",
    "requirements1"
   ]
  },
  {
   "cell_type": "code",
   "execution_count": 4,
   "metadata": {},
   "outputs": [],
   "source": [
    "hand_new = cp.Variable(8, integer=True)\n",
    "hand_work = cp.Variable(8, integer=True)\n",
    "hand_rest = cp.Variable(8, integer=True)\n",
    "hand_teach = cp.Variable(8, integer=True)\n",
    "hand_skill = cp.Variable(8, integer=True)\n",
    "# body_new = cp.Variable(8, integer=True)\n",
    "# body_work = cp.Variable(8, integer=True)\n",
    "# body_rest = cp.Variable(8, integer=True)\n",
    "# body_tested = cp.Variable(8, integer=True)"
   ]
  },
  {
   "cell_type": "code",
   "execution_count": 5,
   "metadata": {},
   "outputs": [],
   "source": [
    "cons = [\n",
    "    hand_work == 4 * requirements1,\n",
    "    # body_work == requirements1,\n",
    "    k * hand_teach >= hand_new,\n",
    "    hand_skill == hand_work + hand_rest + hand_teach,\n",
    "    # body_tested == body_work + body_rest,\n",
    "    hand_new >= 0,\n",
    "    hand_rest >= 0,\n",
    "    hand_work >= 0,\n",
    "    hand_teach >= 0,\n",
    "    # body_new >= 0,\n",
    "    # body_rest >= 0,\n",
    "    # body_work >= 0,\n",
    "\n",
    "    # hand_rest[1:] >= hand_work[:-1],\n",
    "    # hand_skill[1:] == hand_skill[:-1] + hand_skill[:-1],\n",
    "    # body_tested[1:] == body_tested[:-1] + body_new[:-1],\n",
    "\n",
    "    hand_skill[0] == 50,\n",
    "    # body_tested[0] == 13\n",
    "]"
   ]
  },
  {
   "cell_type": "code",
   "execution_count": 6,
   "metadata": {},
   "outputs": [],
   "source": [
    "obj = cp.Minimize(\n",
    "    # 200 * cp.sum(body_new) + \n",
    "    100 * cp.sum(hand_new) + \n",
    "    5 * cp.sum(hand_rest) + \n",
    "    # 10 * cp.sum(body_rest) +\n",
    "    10 * cp.sum(hand_new + hand_teach)\n",
    ")"
   ]
  },
  {
   "cell_type": "code",
   "execution_count": 7,
   "metadata": {},
   "outputs": [],
   "source": [
    "for t in range(7):\n",
    "    cons.append(hand_rest[t+1] >= hand_work[t]),\n",
    "    cons.append(hand_skill[t+1] == hand_skill[t] + hand_new[t])\n",
    "    # cons.append(body_tested[t+1] == body_tested[t] + body_new[t])"
   ]
  },
  {
   "cell_type": "code",
   "execution_count": 8,
   "metadata": {},
   "outputs": [
    {
     "data": {
      "text/plain": [
       "6475.0"
      ]
     },
     "execution_count": 8,
     "metadata": {},
     "output_type": "execute_result"
    }
   ],
   "source": [
    "prob = cp.Problem(obj, cons)\n",
    "prob.solve()"
   ]
  },
  {
   "cell_type": "code",
   "execution_count": 9,
   "metadata": {},
   "outputs": [
    {
     "data": {
      "text/plain": [
       "(array([44., 20., 16., 28., 64., 24., 20., 28.]), 6475.0)"
      ]
     },
     "execution_count": 9,
     "metadata": {},
     "output_type": "execute_result"
    }
   ],
   "source": [
    "hand_work.value, prob.value"
   ]
  },
  {
   "cell_type": "code",
   "execution_count": 10,
   "metadata": {},
   "outputs": [
    {
     "data": {
      "text/plain": [
       "(array([14., -0., -0., 28.,  0.,  0.,  0.,  0.]),\n",
       " array([ 2., -0., -0.,  3.,  0.,  0.,  0.,  0.]))"
      ]
     },
     "execution_count": 10,
     "metadata": {},
     "output_type": "execute_result"
    }
   ],
   "source": [
    "hand_new.value, hand_teach.value"
   ]
  },
  {
   "cell_type": "code",
   "execution_count": null,
   "metadata": {},
   "outputs": [],
   "source": []
  }
 ],
 "metadata": {
  "interpreter": {
   "hash": "5f1f67310d7626f6a1e5a2bc75081377e7cbcf2b8e64ea2999e8e80be64123e8"
  },
  "kernelspec": {
   "display_name": "Python 3.9.12 ('math_model')",
   "language": "python",
   "name": "python3"
  },
  "language_info": {
   "codemirror_mode": {
    "name": "ipython",
    "version": 3
   },
   "file_extension": ".py",
   "mimetype": "text/x-python",
   "name": "python",
   "nbconvert_exporter": "python",
   "pygments_lexer": "ipython3",
   "version": "3.9.12"
  },
  "orig_nbformat": 4
 },
 "nbformat": 4,
 "nbformat_minor": 2
}
