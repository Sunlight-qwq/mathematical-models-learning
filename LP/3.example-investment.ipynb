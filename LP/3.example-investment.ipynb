{
 "cells": [
  {
   "cell_type": "code",
   "execution_count": 18,
   "metadata": {},
   "outputs": [],
   "source": [
    "import numpy as np\n",
    "import pandas as pd\n",
    "import os\n",
    "from scipy.optimize import linprog\n",
    "import cvxpy as cp\n",
    "import matplotlib.pyplot as plt"
   ]
  },
  {
   "cell_type": "code",
   "execution_count": 19,
   "metadata": {},
   "outputs": [
    {
     "data": {
      "text/html": [
       "<div>\n",
       "<style scoped>\n",
       "    .dataframe tbody tr th:only-of-type {\n",
       "        vertical-align: middle;\n",
       "    }\n",
       "\n",
       "    .dataframe tbody tr th {\n",
       "        vertical-align: top;\n",
       "    }\n",
       "\n",
       "    .dataframe thead th {\n",
       "        text-align: right;\n",
       "    }\n",
       "</style>\n",
       "<table border=\"1\" class=\"dataframe\">\n",
       "  <thead>\n",
       "    <tr style=\"text-align: right;\">\n",
       "      <th></th>\n",
       "      <th>yield</th>\n",
       "      <th>risk</th>\n",
       "      <th>fee</th>\n",
       "      <th>threshold</th>\n",
       "    </tr>\n",
       "  </thead>\n",
       "  <tbody>\n",
       "    <tr>\n",
       "      <th>s1</th>\n",
       "      <td>0.28</td>\n",
       "      <td>0.025</td>\n",
       "      <td>0.010</td>\n",
       "      <td>103</td>\n",
       "    </tr>\n",
       "    <tr>\n",
       "      <th>s2</th>\n",
       "      <td>0.21</td>\n",
       "      <td>0.015</td>\n",
       "      <td>0.020</td>\n",
       "      <td>198</td>\n",
       "    </tr>\n",
       "    <tr>\n",
       "      <th>s3</th>\n",
       "      <td>0.23</td>\n",
       "      <td>0.055</td>\n",
       "      <td>0.045</td>\n",
       "      <td>52</td>\n",
       "    </tr>\n",
       "    <tr>\n",
       "      <th>s4</th>\n",
       "      <td>0.25</td>\n",
       "      <td>0.026</td>\n",
       "      <td>0.065</td>\n",
       "      <td>40</td>\n",
       "    </tr>\n",
       "  </tbody>\n",
       "</table>\n",
       "</div>"
      ],
      "text/plain": [
       "    yield   risk    fee  threshold\n",
       "s1   0.28  0.025  0.010        103\n",
       "s2   0.21  0.015  0.020        198\n",
       "s3   0.23  0.055  0.045         52\n",
       "s4   0.25  0.026  0.065         40"
      ]
     },
     "execution_count": 19,
     "metadata": {},
     "output_type": "execute_result"
    }
   ],
   "source": [
    "df = pd.read_csv(os.path.join('data', 'investment_data.csv'))\n",
    "df"
   ]
  },
  {
   "cell_type": "code",
   "execution_count": 20,
   "metadata": {},
   "outputs": [
    {
     "name": "stderr",
     "output_type": "stream",
     "text": [
      "C:\\Users\\Sunlight\\AppData\\Local\\Temp\\ipykernel_10440\\2670357807.py:3: FutureWarning: The frame.append method is deprecated and will be removed from pandas in a future version. Use pandas.concat instead.\n",
      "  df = df.append(bank)\n"
     ]
    },
    {
     "data": {
      "text/html": [
       "<div>\n",
       "<style scoped>\n",
       "    .dataframe tbody tr th:only-of-type {\n",
       "        vertical-align: middle;\n",
       "    }\n",
       "\n",
       "    .dataframe tbody tr th {\n",
       "        vertical-align: top;\n",
       "    }\n",
       "\n",
       "    .dataframe thead th {\n",
       "        text-align: right;\n",
       "    }\n",
       "</style>\n",
       "<table border=\"1\" class=\"dataframe\">\n",
       "  <thead>\n",
       "    <tr style=\"text-align: right;\">\n",
       "      <th></th>\n",
       "      <th>yield</th>\n",
       "      <th>risk</th>\n",
       "      <th>fee</th>\n",
       "      <th>threshold</th>\n",
       "    </tr>\n",
       "  </thead>\n",
       "  <tbody>\n",
       "    <tr>\n",
       "      <th>s1</th>\n",
       "      <td>0.28</td>\n",
       "      <td>0.025</td>\n",
       "      <td>0.010</td>\n",
       "      <td>103</td>\n",
       "    </tr>\n",
       "    <tr>\n",
       "      <th>s2</th>\n",
       "      <td>0.21</td>\n",
       "      <td>0.015</td>\n",
       "      <td>0.020</td>\n",
       "      <td>198</td>\n",
       "    </tr>\n",
       "    <tr>\n",
       "      <th>s3</th>\n",
       "      <td>0.23</td>\n",
       "      <td>0.055</td>\n",
       "      <td>0.045</td>\n",
       "      <td>52</td>\n",
       "    </tr>\n",
       "    <tr>\n",
       "      <th>s4</th>\n",
       "      <td>0.25</td>\n",
       "      <td>0.026</td>\n",
       "      <td>0.065</td>\n",
       "      <td>40</td>\n",
       "    </tr>\n",
       "    <tr>\n",
       "      <th>bank</th>\n",
       "      <td>0.05</td>\n",
       "      <td>0.000</td>\n",
       "      <td>0.000</td>\n",
       "      <td>0</td>\n",
       "    </tr>\n",
       "  </tbody>\n",
       "</table>\n",
       "</div>"
      ],
      "text/plain": [
       "      yield   risk    fee  threshold\n",
       "s1     0.28  0.025  0.010        103\n",
       "s2     0.21  0.015  0.020        198\n",
       "s3     0.23  0.055  0.045         52\n",
       "s4     0.25  0.026  0.065         40\n",
       "bank   0.05  0.000  0.000          0"
      ]
     },
     "execution_count": 20,
     "metadata": {},
     "output_type": "execute_result"
    }
   ],
   "source": [
    "# 添加银行存款一列\n",
    "bank = pd.DataFrame({'yield': 0.05, 'risk': 0, 'fee': 0, 'threshold': 0}, index=['bank'])\n",
    "df = df.append(bank)\n",
    "df"
   ]
  },
  {
   "cell_type": "code",
   "execution_count": 21,
   "metadata": {},
   "outputs": [
    {
     "data": {
      "text/plain": [
       "(array([0.28, 0.21, 0.23, 0.25, 0.05]),\n",
       " array([0.025, 0.015, 0.055, 0.026, 0.   ]),\n",
       " array([0.01 , 0.02 , 0.045, 0.065, 0.   ]),\n",
       " array([103., 198.,  52.,  40.,   0.]))"
      ]
     },
     "execution_count": 21,
     "metadata": {},
     "output_type": "execute_result"
    }
   ],
   "source": [
    "data = df.values\n",
    "r, q, p, u = data.T\n",
    "r, q, p, u"
   ]
  },
  {
   "cell_type": "markdown",
   "metadata": {},
   "source": [
    "## 模型一\n",
    "\n",
    "风险小于给定水平，最大化收益。\n",
    "\n",
    "$$\n",
    "\\begin{align}\n",
    "&\\max \\sum_{i=0}^n (r_i - p_i) x_i  \\\\\n",
    "&\\text{s.t.}\n",
    "\\begin{cases}\n",
    "q_i x_i / M \\le a, & i = 1, \\dots, n; \\\\\n",
    "\\sum_{i = 0}^n (1 + p_i) x_i = M, & i = 0, \\dots, n; \\\\\n",
    "x_i \\ge 0, & i = 0, \\dots. n\n",
    "\\end{cases}\n",
    "\\end{align}\n",
    "$$"
   ]
  },
  {
   "cell_type": "code",
   "execution_count": 22,
   "metadata": {},
   "outputs": [],
   "source": [
    "n = 5 # 总变量数\n",
    "c = p - r\n",
    "\n",
    "# 定义优化函数\n",
    "def best_investment(a):\n",
    "    # 生成对角矩阵\n",
    "    Au = np.diag(q)\n",
    "    bu = np.full(n, a)\n",
    "    Aeq = [1 + p]\n",
    "    beq = [1]\n",
    "    L = [0] * n\n",
    "    U = [None] * n\n",
    "    bounds = list(zip(L, U))\n",
    "\n",
    "    res = linprog(c, Au, bu, Aeq, beq, bounds)\n",
    "    t_yield = - res.fun\n",
    "    return t_yield"
   ]
  },
  {
   "cell_type": "code",
   "execution_count": 23,
   "metadata": {},
   "outputs": [
    {
     "data": {
      "text/plain": [
       "[<matplotlib.lines.Line2D at 0x1adf6589d60>]"
      ]
     },
     "execution_count": 23,
     "metadata": {},
     "output_type": "execute_result"
    },
    {
     "data": {
      "image/png": "[encoded data removed]",
      "text/plain": [
       "<Figure size 432x288 with 1 Axes>"
      ]
     },
     "metadata": {
      "needs_background": "light"
     },
     "output_type": "display_data"
    }
   ],
   "source": [
    "points = [(aa, best_investment(aa)) for aa in np.linspace(0, 0.05, 50, endpoint=True)]\n",
    "# 将散点转化为两个列表再输入\n",
    "plt.xlabel('$a$')\n",
    "plt.ylabel('$Q$')\n",
    "plt.plot(*zip(*points), 'r*')"
   ]
  },
  {
   "cell_type": "code",
   "execution_count": null,
   "metadata": {},
   "outputs": [],
   "source": []
  },
  {
   "cell_type": "markdown",
   "metadata": {},
   "source": [
    "## 模型二：固定收益，极小化风险\n",
    "\n",
    "技巧：对于形如$\\min \\max_{1 \\le i \\le n} a_i x_i$的目标，引入增补变量$y$，将目标改为$\\min y$，添加条件$a_i x_i \\le y$，即可化为一般的线性规划问题。\n",
    "\n",
    "$$\n",
    "\n",
    "$$"
   ]
  },
  {
   "cell_type": "code",
   "execution_count": 24,
   "metadata": {},
   "outputs": [],
   "source": [
    "def minimized_risk(Q):\n",
    "    c = np.concatenate([np.zeros(n), [1]])\n",
    "    Au1 = np.concatenate([np.diag(q), -np.ones(n).reshape(n, 1)], axis=1)\n",
    "    Au2 = np.concatenate([p - r, [0]]).reshape(1, -1)\n",
    "    Au = np.concatenate([Au1, Au2], axis=0)\n",
    "    bu1 = np.zeros(n)\n",
    "    bu2 = np.array([-Q])\n",
    "    bu = np.concatenate([bu1, bu2])\n",
    "\n",
    "    Aeq = np.concatenate([1 + p, [0]]).reshape(-1, n + 1)\n",
    "    beq = [1]\n",
    "\n",
    "    L = [0] * n + [None]\n",
    "    U = [None] * (n + 1)\n",
    "    bounds = list(zip(L, U))\n",
    "\n",
    "    res = linprog(c, Au, bu, Aeq, beq, bounds)\n",
    "    return res.fun\n"
   ]
  },
  {
   "cell_type": "code",
   "execution_count": 25,
   "metadata": {},
   "outputs": [
    {
     "data": {
      "text/plain": [
       "[<matplotlib.lines.Line2D at 0x1adf65f9c40>]"
      ]
     },
     "execution_count": 25,
     "metadata": {},
     "output_type": "execute_result"
    },
    {
     "data": {
      "image/png": "[encoded data removed]",
      "text/plain": [
       "<Figure size 432x288 with 1 Axes>"
      ]
     },
     "metadata": {
      "needs_background": "light"
     },
     "output_type": "display_data"
    }
   ],
   "source": [
    "points = [(Q, minimized_risk(Q)) for Q in np.linspace(0.05, 0.25, 51, endpoint=True)]\n",
    "\n",
    "plt.plot(*zip(*points), 'r*')"
   ]
  },
  {
   "cell_type": "markdown",
   "metadata": {},
   "source": [
    "使用`cvxpy`则不再需要线性化，直接输入问题即可。\n",
    "\n",
    "注意`cvxpy`三种乘法的功能不同：\n",
    "\n",
    "* 星号`*`用于数乘\n",
    "* AT符号`@`用于矩阵乘法和矩阵向量乘法\n",
    "* `cvxpy.multiply`用于矩阵的Hadamard积（逐元素相乘）"
   ]
  },
  {
   "cell_type": "code",
   "execution_count": 26,
   "metadata": {},
   "outputs": [
    {
     "data": {
      "text/plain": [
       "array([0.07834654, 0.13057757, 0.03561206, 0.07533321, 0.67023639])"
      ]
     },
     "execution_count": 26,
     "metadata": {},
     "output_type": "execute_result"
    }
   ],
   "source": [
    "# Use cvxpy\n",
    "\n",
    "Q = 0.1\n",
    "\n",
    "x = cp.Variable(n)\n",
    "obj = cp.Minimize(cp.max(cp.multiply(q, x)))\n",
    "con = [\n",
    "    (r - p) @ x >= Q,\n",
    "    (1 + p) @ x == 1,\n",
    "    x >= 0\n",
    "]\n",
    "prob = cp.Problem(obj, con)\n",
    "prob.solve()\n",
    "x.value"
   ]
  },
  {
   "cell_type": "code",
   "execution_count": 27,
   "metadata": {},
   "outputs": [
    {
     "data": {
      "image/png": "[encoded data removed]",
      "text/plain": [
       "<Figure size 432x288 with 1 Axes>"
      ]
     },
     "metadata": {
      "needs_background": "light"
     },
     "output_type": "display_data"
    }
   ],
   "source": [
    "def minimized_risk2(Q):\n",
    "    x = cp.Variable(n)\n",
    "    obj = cp.Minimize(cp.max(cp.multiply(q, x)))\n",
    "    con = [\n",
    "        (r - p) @ x >= Q,\n",
    "        (1 + p) @ x == 1,\n",
    "        x >= 0\n",
    "    ]\n",
    "    prob = cp.Problem(obj, con)\n",
    "    prob.solve()\n",
    "    return prob.value, x.value\n",
    "\n",
    "Qs = list(np.linspace(0.05, 0.25, 51, endpoint=True))\n",
    "risks = [minimized_risk2(Q)[0] for Q in Qs]\n",
    "\n",
    "plt.plot(Qs, risks, 'r*')\n",
    "plt.show()"
   ]
  },
  {
   "cell_type": "markdown",
   "metadata": {},
   "source": [
    "## 模型三：收益和风险加权"
   ]
  },
  {
   "cell_type": "code",
   "execution_count": 28,
   "metadata": {},
   "outputs": [],
   "source": [
    "n = 5\n",
    "\n",
    "def weighted_investment(risk_weight):\n",
    "    w = risk_weight\n",
    "    c = np.concatenate([(1 - w) * (p - r), [w]])\n",
    "    Au = np.concatenate([np.diag(q), -np.ones(n).reshape(-1, 1)], axis=1)\n",
    "    bu = np.zeros(n)\n",
    "    Aeq = np.concatenate([1 + p, [0]]).reshape(1, -1)\n",
    "    beq = [1]\n",
    "\n",
    "    L = [0] * n + [None]\n",
    "    U = [None] * (n + 1)\n",
    "    bounds = list(zip(L, U))\n",
    "\n",
    "    res = linprog(c, Au, bu, Aeq, beq, bounds)\n",
    "    return - res.fun, res.x"
   ]
  },
  {
   "cell_type": "code",
   "execution_count": 29,
   "metadata": {},
   "outputs": [],
   "source": [
    "weights = np.linspace(0, 1, 1001, endpoint=True)\n",
    "f_v_tuples = [weighted_investment(w) for w in weights]\n",
    "funcs, values = zip(*f_v_tuples)\n",
    "yields = [(r - p) @ value[:-1] for value in values]\n",
    "risks = [np.max(q @ value[:-1]) for value in values]"
   ]
  },
  {
   "cell_type": "code",
   "execution_count": 30,
   "metadata": {},
   "outputs": [
    {
     "data": {
      "image/png": "[encoded data removed]",
      "text/plain": [
       "<Figure size 432x288 with 1 Axes>"
      ]
     },
     "metadata": {
      "needs_background": "light"
     },
     "output_type": "display_data"
    }
   ],
   "source": [
    "plt.plot(weights, risks, color='r')\n",
    "plt.plot(weights, yields, color='b')\n",
    "# plt.plot(weights, np.max(q * np.array(values)))\n",
    "plt.show()"
   ]
  },
  {
   "cell_type": "code",
   "execution_count": 31,
   "metadata": {},
   "outputs": [
    {
     "data": {
      "text/plain": [
       "0.2673267326536395"
      ]
     },
     "execution_count": 31,
     "metadata": {},
     "output_type": "execute_result"
    }
   ],
   "source": [
    "# use cvxpy\n",
    "x = cp.Variable(n)\n",
    "s = 0.1\n",
    "obj = cp.Minimize(s * cp.max(cp.multiply(q, x)) - (1 - s) * ((r - p) @ x))\n",
    "con = [(1 + p) @ x == 1, x >= 0]\n",
    "prob = cp.Problem(obj, con)\n",
    "prob.solve()\n",
    "(r - p) @ x.value"
   ]
  },
  {
   "cell_type": "code",
   "execution_count": 32,
   "metadata": {},
   "outputs": [],
   "source": [
    "def weighted_investment2(s):\n",
    "    x = cp.Variable(n)\n",
    "    obj = cp.Minimize(s * cp.max(cp.multiply(q, x)) - (1 - s) * ((r - p) @ x))\n",
    "    con = [(1 + p) @ x == 1, x >= 0]\n",
    "    prob = cp.Problem(obj, con)\n",
    "    prob.solve()\n",
    "    return x.value"
   ]
  },
  {
   "cell_type": "code",
   "execution_count": 33,
   "metadata": {},
   "outputs": [],
   "source": [
    "s = np.linspace(0, 1, 1001, endpoint=True)\n",
    "x = [weighted_investment2(ss) for ss in s]\n",
    "yields = [(r - p) @ xx for xx in x]\n",
    "risks = [np.max(q * xx) for xx in x]"
   ]
  },
  {
   "cell_type": "code",
   "execution_count": 34,
   "metadata": {},
   "outputs": [
    {
     "data": {
      "image/png": "[encoded data removed]",
      "text/plain": [
       "<Figure size 432x288 with 1 Axes>"
      ]
     },
     "metadata": {
      "needs_background": "light"
     },
     "output_type": "display_data"
    }
   ],
   "source": [
    "plt.plot(s, yields, color='b')\n",
    "plt.plot(s, risks, color='r')\n",
    "plt.show()"
   ]
  },
  {
   "cell_type": "code",
   "execution_count": 36,
   "metadata": {},
   "outputs": [
    {
     "data": {
      "image/png": "[encoded data removed]",
      "text/plain": [
       "<Figure size 432x288 with 1 Axes>"
      ]
     },
     "metadata": {
      "needs_background": "light"
     },
     "output_type": "display_data"
    }
   ],
   "source": [
    "plt.plot(risks, yields)\n",
    "plt.show()"
   ]
  }
 ],
 "metadata": {
  "interpreter": {
   "hash": "5f1f67310d7626f6a1e5a2bc75081377e7cbcf2b8e64ea2999e8e80be64123e8"
  },
  "kernelspec": {
   "display_name": "Python 3.9.12 ('math_model')",
   "language": "python",
   "name": "python3"
  },
  "language_info": {
   "codemirror_mode": {
    "name": "ipython",
    "version": 3
   },
   "file_extension": ".py",
   "mimetype": "text/x-python",
   "name": "python",
   "nbconvert_exporter": "python",
   "pygments_lexer": "ipython3",
   "version": "3.9.12"
  },
  "orig_nbformat": 4
 },
 "nbformat": 4,
 "nbformat_minor": 2
}
