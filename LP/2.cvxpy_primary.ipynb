{
 "cells": [
  {
   "cell_type": "code",
   "execution_count": 1,
   "metadata": {},
   "outputs": [],
   "source": [
    "import cvxpy as cp\n",
    "import numpy as np\n",
    "import pandas as pd\n",
    "import os"
   ]
  },
  {
   "cell_type": "code",
   "execution_count": 2,
   "metadata": {},
   "outputs": [
    {
     "data": {
      "text/plain": [
       "(array([[6., 2., 6., 7., 4., 2., 5., 9.],\n",
       "        [4., 9., 5., 3., 8., 5., 8., 2.],\n",
       "        [5., 2., 1., 9., 7., 4., 3., 3.],\n",
       "        [7., 6., 7., 3., 9., 2., 7., 1.],\n",
       "        [2., 3., 9., 5., 7., 2., 6., 5.],\n",
       "        [5., 5., 2., 2., 8., 1., 4., 3.]]),\n",
       " array([[35., 37., 22., 32., 41., 32., 43., 38.]]),\n",
       " array([[60.],\n",
       "        [55.],\n",
       "        [51.],\n",
       "        [43.],\n",
       "        [41.],\n",
       "        [52.]]))"
      ]
     },
     "execution_count": 2,
     "metadata": {},
     "output_type": "execute_result"
    }
   ],
   "source": [
    "data1 = pd.read_excel(os.path.join('data', 'transportation_data.xlsx'), header=None)\n",
    "data2 = data1.values\n",
    "# Remove the total row and column\n",
    "c = data2[:-1, :-1]\n",
    "sr = data2[-1, :-1].reshape(1, -1)\n",
    "sc = data2[:-1, -1].reshape(-1, 1)\n",
    "c, sr, sc"
   ]
  },
  {
   "cell_type": "code",
   "execution_count": 3,
   "metadata": {},
   "outputs": [
    {
     "name": "stdout",
     "output_type": "stream",
     "text": [
      "['CVXOPT', 'ECOS', 'ECOS_BB', 'GLPK', 'GLPK_MI', 'OSQP', 'SCIPY', 'SCS']\n"
     ]
    }
   ],
   "source": [
    "print(cp.installed_solvers())"
   ]
  },
  {
   "cell_type": "code",
   "execution_count": 6,
   "metadata": {},
   "outputs": [
    {
     "name": "stdout",
     "output_type": "stream",
     "text": [
      "===============================================================================\n",
      "                                     CVXPY                                     \n",
      "                                     v1.2.0                                    \n",
      "===============================================================================\n",
      "(CVXPY) Apr 03 12:14:42 AM: Your problem has 48 variables, 3 constraints, and 0 parameters.\n",
      "(CVXPY) Apr 03 12:14:42 AM: It is compliant with the following grammars: DCP, DQCP\n",
      "(CVXPY) Apr 03 12:14:42 AM: (If you need to solve this problem multiple times, but with different data, consider using parameters.)\n",
      "(CVXPY) Apr 03 12:14:42 AM: CVXPY will first compile your problem; then, it will invoke a numerical solver to obtain a solution.\n",
      "-------------------------------------------------------------------------------\n",
      "                                  Compilation                                  \n",
      "-------------------------------------------------------------------------------\n",
      "(CVXPY) Apr 03 12:14:42 AM: Compiling problem (target solver=GLPK_MI).\n",
      "(CVXPY) Apr 03 12:14:42 AM: Reduction chain: Dcp2Cone -> CvxAttr2Constr -> ConeMatrixStuffing -> GLPK_MI\n",
      "(CVXPY) Apr 03 12:14:42 AM: Applying reduction Dcp2Cone\n",
      "(CVXPY) Apr 03 12:14:42 AM: Applying reduction CvxAttr2Constr\n",
      "(CVXPY) Apr 03 12:14:42 AM: Applying reduction ConeMatrixStuffing\n",
      "(CVXPY) Apr 03 12:14:42 AM: Applying reduction GLPK_MI\n",
      "(CVXPY) Apr 03 12:14:42 AM: Finished problem compilation (took 1.611e-02 seconds).\n",
      "-------------------------------------------------------------------------------\n",
      "                                Numerical solver                               \n",
      "-------------------------------------------------------------------------------\n",
      "(CVXPY) Apr 03 12:14:42 AM: Invoking solver GLPK_MI  to obtain a solution.\n",
      "-------------------------------------------------------------------------------\n",
      "                                    Summary                                    \n",
      "-------------------------------------------------------------------------------\n",
      "(CVXPY) Apr 03 12:14:42 AM: Problem status: optimal\n",
      "(CVXPY) Apr 03 12:14:42 AM: Optimal value: 6.640e+02\n",
      "(CVXPY) Apr 03 12:14:42 AM: Compilation took 1.611e-02 seconds\n",
      "(CVXPY) Apr 03 12:14:42 AM: Solver (including time spent in interface) took 0.000e+00 seconds\n"
     ]
    },
    {
     "data": {
      "text/plain": [
       "664.0"
      ]
     },
     "execution_count": 6,
     "metadata": {},
     "output_type": "execute_result"
    }
   ],
   "source": [
    "x = cp.Variable((6, 8))\n",
    "# 总运费为两个矩阵各元素之积再求和\n",
    "obj = cp.Minimize(cp.sum(cp.multiply(c, x)))\n",
    "con = [cp.sum(x, axis=1, keepdims=True) <= sc, cp.sum(x, axis=0, keepdims=True) == sr, x >= 0]\n",
    "prob = cp.Problem(obj, con)\n",
    "prob.solve(solver='GLPK_MI', verbose=True)"
   ]
  },
  {
   "cell_type": "code",
   "execution_count": 7,
   "metadata": {},
   "outputs": [
    {
     "data": {
      "text/plain": [
       "(664.0,\n",
       " array([[-0., 19., -0., -0., 41., -0., -0., -0.],\n",
       "        [-0., -0., -0., 32., -0., -0., -0.,  1.],\n",
       "        [-0., 12., 22., -0., -0., -0., 17., -0.],\n",
       "        [-0., -0., -0., -0., -0.,  6., -0., 37.],\n",
       "        [35.,  6., -0., -0., -0., -0., -0., -0.],\n",
       "        [-0., -0., -0., -0., -0., 26., 26., -0.]]))"
      ]
     },
     "execution_count": 7,
     "metadata": {},
     "output_type": "execute_result"
    }
   ],
   "source": [
    "prob.value, x.value"
   ]
  }
 ],
 "metadata": {
  "interpreter": {
   "hash": "5f1f67310d7626f6a1e5a2bc75081377e7cbcf2b8e64ea2999e8e80be64123e8"
  },
  "kernelspec": {
   "display_name": "Python 3.9.12 ('math_model')",
   "language": "python",
   "name": "python3"
  },
  "language_info": {
   "codemirror_mode": {
    "name": "ipython",
    "version": 3
   },
   "file_extension": ".py",
   "mimetype": "text/x-python",
   "name": "python",
   "nbconvert_exporter": "python",
   "pygments_lexer": "ipython3",
   "version": "3.9.12"
  },
  "orig_nbformat": 4
 },
 "nbformat": 4,
 "nbformat_minor": 2
}
