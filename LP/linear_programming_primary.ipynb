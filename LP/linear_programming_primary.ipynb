{
 "cells": [
  {
   "cell_type": "markdown",
   "metadata": {},
   "source": [
    "`scipy`解决线性规划的标准模型：\n",
    "\n",
    "$$\n",
    "\\begin{align}\n",
    "&\\min & z = c^{\\mathrm T} x \\\\\n",
    "&\\text{s.t.} &\n",
    "\\begin{cases}\n",
    "A x \\le b, \\\\\n",
    "A' x = b', \\\\\n",
    "L \\le x \\le U \\\\\n",
    "\\end{cases}\n",
    "\\end{align}\n",
    "$$\n",
    "\n",
    "对应的Python代码：\n",
    "\n",
    "```python\n",
    "bounds = list(zip(L, U))\n",
    "res = linprog(c, A, b, Aeq, beq, bounds)\n",
    "```"
   ]
  },
  {
   "cell_type": "code",
   "execution_count": 10,
   "metadata": {},
   "outputs": [],
   "source": [
    "from scipy.optimize import linprog\n",
    "import numpy as np"
   ]
  },
  {
   "cell_type": "markdown",
   "metadata": {},
   "source": [
    "例：求解线性规划：\n",
    "\n",
    "$$\n",
    "\\min z = -x_1 + 4 x_2,\n",
    "$$\n",
    "\n",
    "$$\n",
    "\\text{s.t.}\n",
    "\\begin{cases}\n",
    "-3 x_1 + x_2 \\le 6, \\\\\n",
    "x_1 + 2 x_2 \\le 4, \\\\\n",
    "x_2 \\ge -3\n",
    "\\end{cases}\n",
    "$$\n"
   ]
  },
  {
   "cell_type": "code",
   "execution_count": 12,
   "metadata": {},
   "outputs": [
    {
     "data": {
      "text/plain": [
       "     con: array([], dtype=float64)\n",
       "     fun: -21.999999840824938\n",
       " message: 'Optimization terminated successfully.'\n",
       "     nit: 6\n",
       "   slack: array([3.89999997e+01, 8.46872492e-08])\n",
       "  status: 0\n",
       " success: True\n",
       "       x: array([ 9.99999989, -2.99999999])"
      ]
     },
     "execution_count": 12,
     "metadata": {},
     "output_type": "execute_result"
    }
   ],
   "source": [
    "c = np.array([-1, 4])\n",
    "A = np.array([[-3, 1], [1, 2]])\n",
    "b = [6, 4]\n",
    "bounds = ((None, None), (-3, None))\n",
    "\n",
    "res = linprog(c, A, b, None, None, bounds)\n",
    "res"
   ]
  },
  {
   "cell_type": "markdown",
   "metadata": {},
   "source": [
    "$$\n",
    "\\min z = -x_1 + 2 x_2 + 3 x_3,\n",
    "$$\n",
    "\n",
    "$$\n",
    "\\text{s.t.}\n",
    "\\begin{cases}\n",
    "2x_1+x_2+x_3 \\le 9, \\\\\n",
    "3x_1-x_2-2x_3 \\le -4, \\\\\n",
    "4x_1-2x_3-x_3=-6, \\\\\n",
    "x1 \\ge -10, \n",
    "x_2 \\ge 0\n",
    "\\end{cases}\n",
    "$$"
   ]
  },
  {
   "cell_type": "code",
   "execution_count": 15,
   "metadata": {},
   "outputs": [
    {
     "data": {
      "text/plain": [
       "     con: array([2.38733833e-09])\n",
       "     fun: 0.4000000006526985\n",
       " message: 'Optimization terminated successfully.'\n",
       "     nit: 4\n",
       "   slack: array([6.20000000e+00, 1.71784365e-09])\n",
       "  status: 0\n",
       " success: True\n",
       "       x: array([-1.60000000e+00,  8.29674988e-11, -4.00000000e-01])"
      ]
     },
     "execution_count": 15,
     "metadata": {},
     "output_type": "execute_result"
    }
   ],
   "source": [
    "w = [-1, 2, 3]\n",
    "A = [[-2, 1, 1], [3, -1, -2]]\n",
    "b = [9, -4]\n",
    "Aeq = [[4, -2, -1]]\n",
    "beq = [-6]\n",
    "bounds = list(zip((-10, 0, None), [None] * 3))\n",
    "\n",
    "res = linprog(w, A, b, Aeq, beq, bounds)\n",
    "res"
   ]
  }
 ],
 "metadata": {
  "interpreter": {
   "hash": "5f1f67310d7626f6a1e5a2bc75081377e7cbcf2b8e64ea2999e8e80be64123e8"
  },
  "kernelspec": {
   "display_name": "Python 3.9.12 ('math_model')",
   "language": "python",
   "name": "python3"
  },
  "language_info": {
   "codemirror_mode": {
    "name": "ipython",
    "version": 3
   },
   "file_extension": ".py",
   "mimetype": "text/x-python",
   "name": "python",
   "nbconvert_exporter": "python",
   "pygments_lexer": "ipython3",
   "version": "3.9.12"
  },
  "orig_nbformat": 4
 },
 "nbformat": 4,
 "nbformat_minor": 2
}
