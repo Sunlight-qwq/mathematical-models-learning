{
 "cells": [
  {
   "cell_type": "code",
   "execution_count": 10,
   "metadata": {},
   "outputs": [],
   "source": [
    "import numpy as np\n",
    "import matplotlib.pyplot as plt"
   ]
  },
  {
   "cell_type": "markdown",
   "metadata": {},
   "source": [
    "## 计算 $\\pi$ 的近似值\n",
    "\n",
    "在正方形 $[0, 1] \\times [0, 1]$ 内取 $N$ 个点，统计落在单位圆 $x^2 + y^2 \\le 1$ 的点数"
   ]
  },
  {
   "cell_type": "code",
   "execution_count": 13,
   "metadata": {},
   "outputs": [],
   "source": [
    "N = int(1e8)"
   ]
  },
  {
   "cell_type": "code",
   "execution_count": 14,
   "metadata": {},
   "outputs": [
    {
     "data": {
      "text/plain": [
       "array([[6.02311400e-01, 3.12545714e-01],\n",
       "       [9.06288327e-01, 9.23934219e-02],\n",
       "       [1.85131028e-01, 5.12033382e-01],\n",
       "       [2.03410238e-01, 2.51207061e-01],\n",
       "       [5.06205137e-01, 5.91281492e-04],\n",
       "       [4.16499210e-01, 5.25013664e-01],\n",
       "       [5.39502222e-01, 9.80904508e-01],\n",
       "       [9.81556371e-01, 9.33481019e-02],\n",
       "       [1.66917755e-01, 8.90541429e-01],\n",
       "       [8.38261798e-01, 7.08265723e-01]])"
      ]
     },
     "execution_count": 14,
     "metadata": {},
     "output_type": "execute_result"
    }
   ],
   "source": [
    "samples = np.random.uniform(size=[N, 2]) # 产生均匀分布随机数\n",
    "samples[0:10]"
   ]
  },
  {
   "cell_type": "code",
   "execution_count": 15,
   "metadata": {},
   "outputs": [
    {
     "data": {
      "text/plain": [
       "3.1413794"
      ]
     },
     "execution_count": 15,
     "metadata": {},
     "output_type": "execute_result"
    }
   ],
   "source": [
    "cnt = np.sum(samples[:, 0] ** 2 + samples[:, 1] ** 2 <= 1)\n",
    "pi_estimation = 4 * cnt / N\n",
    "pi_estimation"
   ]
  },
  {
   "cell_type": "code",
   "execution_count": 19,
   "metadata": {},
   "outputs": [
    {
     "name": "stdout",
     "output_type": "stream",
     "text": [
      "Error: 0.0067880725895352895%\n"
     ]
    }
   ],
   "source": [
    "error = (pi_estimation - np.pi) / np.pi\n",
    "print(\"Error: {}%\".format(np.abs(100 * error)))"
   ]
  },
  {
   "cell_type": "markdown",
   "metadata": {},
   "source": [
    "## 过大的数需要采取异步计算"
   ]
  },
  {
   "cell_type": "code",
   "execution_count": 24,
   "metadata": {},
   "outputs": [],
   "source": [
    "N = int(1e8)\n",
    "cnt = 0"
   ]
  },
  {
   "cell_type": "code",
   "execution_count": 25,
   "metadata": {},
   "outputs": [],
   "source": [
    "for _ in range(N):\n",
    "    x, y = np.random.uniform(0, 1, size=2)\n",
    "    if x ** 2 + y ** 2 <= 1:\n",
    "        cnt += 1"
   ]
  },
  {
   "cell_type": "code",
   "execution_count": 21,
   "metadata": {},
   "outputs": [
    {
     "data": {
      "text/plain": [
       "0.0"
      ]
     },
     "execution_count": 21,
     "metadata": {},
     "output_type": "execute_result"
    }
   ],
   "source": [
    "pi_estimation = 4 * cnt / N\n",
    "pi_estimation"
   ]
  },
  {
   "cell_type": "markdown",
   "metadata": {},
   "source": [
    "## 作图表达预测结果"
   ]
  },
  {
   "cell_type": "code",
   "execution_count": null,
   "metadata": {},
   "outputs": [],
   "source": []
  }
 ],
 "metadata": {
  "interpreter": {
   "hash": "e4d33ea1956d9eed525e01fc722837b342b23985a655a4da24c920cb8a366c86"
  },
  "kernelspec": {
   "display_name": "Python 3.9.13 ('math_model')",
   "language": "python",
   "name": "python3"
  },
  "language_info": {
   "codemirror_mode": {
    "name": "ipython",
    "version": 3
   },
   "file_extension": ".py",
   "mimetype": "text/x-python",
   "name": "python",
   "nbconvert_exporter": "python",
   "pygments_lexer": "ipython3",
   "version": "3.9.13"
  },
  "orig_nbformat": 4
 },
 "nbformat": 4,
 "nbformat_minor": 2
}
