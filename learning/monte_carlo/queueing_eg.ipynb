{
 "cells": [
  {
   "cell_type": "code",
   "execution_count": 7,
   "metadata": {},
   "outputs": [],
   "source": [
    "import numpy as np\n",
    "import matplotlib.pyplot as plt"
   ]
  },
  {
   "cell_type": "markdown",
   "metadata": {},
   "source": [
    "## 排队论模拟\n",
    "\n",
    "顾客到达服从参数 $\\lambda = 0.1\\ \\text{min}^{-1}$ 的 Poisson 过程，服务时间服从 $U[4, 15]$。\n",
    "\n",
    "当到达的顾客较多时，一部分顾客需排队等待，按先到先服务。\n",
    "\n",
    "模拟一个工作日（工作 $8\\ \\text{h}$）内完成服务的个数和顾客总的排队时间。"
   ]
  },
  {
   "cell_type": "code",
   "execution_count": 16,
   "metadata": {},
   "outputs": [],
   "source": [
    "MAX_TIME = 8 * 60\n",
    "lambda_ = 0.1\n",
    "t = 0 # 记录当前工作的时间\n",
    "service_count = 0\n",
    "total_waiting_time = 0\n",
    "arrival_time = 0 # 到达的时刻"
   ]
  },
  {
   "cell_type": "markdown",
   "metadata": {},
   "source": [
    "不断产生独立同指数分布的随机变量，作为到达时间间隔；到达时刻为它的前缀和"
   ]
  },
  {
   "cell_type": "code",
   "execution_count": 17,
   "metadata": {},
   "outputs": [],
   "source": [
    "while t <= MAX_TIME:\n",
    "    arrival_span = np.random.exponential(1 / lambda_)\n",
    "    arrival_time += arrival_span\n",
    "    if arrival_time < t:\n",
    "        total_waiting_time += t - arrival_time\n",
    "    else:\n",
    "        t = arrival_time\n",
    "    if t <= MAX_TIME:\n",
    "        service_count += 1\n",
    "        t += np.random.uniform(4, 15)\n"
   ]
  },
  {
   "cell_type": "code",
   "execution_count": 18,
   "metadata": {},
   "outputs": [
    {
     "data": {
      "text/plain": [
       "(32, 5.710498355770465)"
      ]
     },
     "execution_count": 18,
     "metadata": {},
     "output_type": "execute_result"
    }
   ],
   "source": [
    "service_count, total_waiting_time / service_count"
   ]
  },
  {
   "cell_type": "markdown",
   "metadata": {},
   "source": [
    "重复观测 1000 次，取平均值"
   ]
  },
  {
   "cell_type": "code",
   "execution_count": 20,
   "metadata": {},
   "outputs": [
    {
     "name": "stdout",
     "output_type": "stream",
     "text": [
      "平均每日服务个数：44.161\n",
      "平均等待时间：25.114945584947506\n"
     ]
    }
   ],
   "source": [
    "service_counts = []\n",
    "mean_waiting_times = []\n",
    "loop_cnt = 1000\n",
    "\n",
    "for _ in range(loop_cnt):\n",
    "    t = 0 # 记录当前工作的时间\n",
    "    service_count = 0\n",
    "    total_waiting_time = 0\n",
    "    arrival_time = 0 # 到达的时刻\n",
    "    while t <= MAX_TIME:\n",
    "        arrival_span = np.random.exponential(1 / lambda_)\n",
    "        arrival_time += arrival_span\n",
    "        if arrival_time < t:\n",
    "            total_waiting_time += t - arrival_time\n",
    "        else:\n",
    "            t = arrival_time\n",
    "        if t <= MAX_TIME:\n",
    "            service_count += 1\n",
    "            t += np.random.uniform(4, 15)\n",
    "    service_counts.append(service_count)\n",
    "    mean_waiting_times.append(total_waiting_time / service_count)\n",
    "\n",
    "print(f\"平均每日服务个数：{sum(service_counts) / loop_cnt}\")\n",
    "print(f\"平均等待时间：{sum(mean_waiting_times) / loop_cnt}\")"
   ]
  }
 ],
 "metadata": {
  "interpreter": {
   "hash": "e4d33ea1956d9eed525e01fc722837b342b23985a655a4da24c920cb8a366c86"
  },
  "kernelspec": {
   "display_name": "Python 3.9.13 ('math_model')",
   "language": "python",
   "name": "python3"
  },
  "language_info": {
   "codemirror_mode": {
    "name": "ipython",
    "version": 3
   },
   "file_extension": ".py",
   "mimetype": "text/x-python",
   "name": "python",
   "nbconvert_exporter": "python",
   "pygments_lexer": "ipython3",
   "version": "3.9.13"
  },
  "orig_nbformat": 4
 },
 "nbformat": 4,
 "nbformat_minor": 2
}
