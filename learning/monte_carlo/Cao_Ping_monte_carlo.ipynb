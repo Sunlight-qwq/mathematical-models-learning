{
 "cells": [
  {
   "cell_type": "code",
   "execution_count": 27,
   "metadata": {},
   "outputs": [],
   "source": [
    "import numpy as np\n",
    "import matplotlib.pyplot as plt\n",
    "from queue import PriorityQueue # 优先队列\n",
    "from collections import defaultdict"
   ]
  },
  {
   "cell_type": "markdown",
   "metadata": {},
   "source": [
    "Example 1\n",
    "\n",
    "$\\rho = \\frac{\\lambda}{n \\mu} = 1.6$，$\\mu = 1$，$\\theta = 0.5$\n",
    "\n",
    "不妨取定 $n = 100$，则 $\\lambda = 160$\n",
    "\n",
    "到达顾客服从 $\\lambda = 160$ 的 Poisson 过程，顾客耐心 $\\text{Exp}(0.5)$，单个服务台的服务时间 $\\text{Exp}(1)$"
   ]
  },
  {
   "cell_type": "code",
   "execution_count": 28,
   "metadata": {},
   "outputs": [],
   "source": [
    "lambda_ = 1600.0\n",
    "mu = 1.0\n",
    "theta = 0.5\n",
    "n = 1000\n",
    "MAX_TIME = 50.0"
   ]
  },
  {
   "cell_type": "markdown",
   "metadata": {},
   "source": [
    "先模拟一段足够长的时间中的排队"
   ]
  },
  {
   "cell_type": "code",
   "execution_count": 29,
   "metadata": {},
   "outputs": [],
   "source": [
    "t = 0.0\n",
    "arrival_time = 0.0\n",
    "event_queue = PriorityQueue() # 优先队列，用于取出下一个事件，储存四元组（时刻，顾客编号，事件名，队列号）\n",
    "queues = tuple([[] for _ in range(n)]) # 排队队列（列表模拟）\n",
    "arrival_time += np.random.exponential(1 / lambda_) # 下一次到达\n",
    "customer_cnt = 0\n",
    "is_in_queue = defaultdict(bool) # 对不存在的键，默认值为 False 的 Hash 表\n",
    "\n",
    "def get_shortest_queue():\n",
    "    \"\"\"\n",
    "    得到长度最小队伍的编号\n",
    "    当有多个长度最小的队伍时，返回最小编号\n",
    "    \"\"\"\n",
    "    idx = np.argmin([len(queue) for queue in queues])\n",
    "    return idx\n",
    "\n",
    "record_span = 0.2\n",
    "event_queue.put((record_span, -1, 'record', -1))\n",
    "records = []\n",
    "abandon_cnt = 0\n",
    "while t <= MAX_TIME:\n",
    "    # 若队头的事件比下一个到达时间早，取出 t\n",
    "    while not event_queue.empty() and event_queue.queue[0][0] <= arrival_time:\n",
    "        t, customer_idx, event_name, idx = event_queue.get()\n",
    "        if event_name == 'record':\n",
    "            records.append(tuple([len(queue) for queue in queues]))\n",
    "            event_queue.put((t + record_span, -1, 'record', -1))\n",
    "            continue\n",
    "\n",
    "        if event_name == 'finish_service': # 服务完成\n",
    "            queues[idx].pop(0) # 出队\n",
    "            # 下一个人开始服务\n",
    "            if len(queues[idx]):\n",
    "                event_queue.put((t, queues[idx][0], 'service', idx))\n",
    "            continue\n",
    "\n",
    "        if not is_in_queue[customer_idx]: # 若已经离队\n",
    "            continue\n",
    "\n",
    "        is_in_queue.pop(customer_idx) # 离开排队（接受服务或放弃）\n",
    "        if event_name == 'service': # 若是开始服务\n",
    "            service_time = np.random.exponential(1 / mu)\n",
    "            event_queue.put((t + service_time, customer_idx, 'finish_service', idx))\n",
    "            continue\n",
    "\n",
    "        else: # 放弃\n",
    "            queues[idx].remove(customer_idx) # 从排队队列中出队\n",
    "            abandon_cnt += 1\n",
    "                \n",
    "    t = arrival_time\n",
    "    idx = get_shortest_queue()\n",
    "    queues[idx].append(customer_cnt)\n",
    "    if queues[idx][0] == customer_cnt: # 如果这个人就在队首\n",
    "        event_queue.put((t, customer_cnt, 'service', idx))\n",
    "    patience_time = np.random.exponential(1 / theta)\n",
    "    event_queue.put((t + patience_time, customer_cnt, 'abandon', idx))\n",
    "    is_in_queue[customer_cnt] = True\n",
    "    customer_cnt += 1\n",
    "\n",
    "    arrival_time += np.random.exponential(1 / lambda_) # 更新新的到达时间\n"
   ]
  },
  {
   "cell_type": "code",
   "execution_count": 30,
   "metadata": {},
   "outputs": [
    {
     "data": {
      "text/plain": [
       "(27873, 80236)"
      ]
     },
     "execution_count": 30,
     "metadata": {},
     "output_type": "execute_result"
    }
   ],
   "source": [
    "abandon_cnt, customer_cnt"
   ]
  },
  {
   "cell_type": "code",
   "execution_count": 31,
   "metadata": {},
   "outputs": [],
   "source": [
    "def transform_into_counts(records):\n",
    "    counts = []\n",
    "    records = np.array(records)\n",
    "    for record in records:\n",
    "        counts.append([\n",
    "            np.sum(record >= 1),\n",
    "            np.sum(record >= 2),\n",
    "            np.sum(record >= 3),\n",
    "            np.sum(record >= 4)\n",
    "        ])\n",
    "    return counts\n",
    "\n",
    "counts = transform_into_counts(records)\n",
    "counts = list(zip(*counts))"
   ]
  },
  {
   "cell_type": "code",
   "execution_count": 32,
   "metadata": {},
   "outputs": [
    {
     "data": {
      "text/plain": [
       "[<matplotlib.lines.Line2D at 0x253abc7c0a0>]"
      ]
     },
     "execution_count": 32,
     "metadata": {},
     "output_type": "execute_result"
    },
    {
     "data": {
      "image/png": "[encoded data removed]",
      "text/plain": [
       "<Figure size 432x288 with 1 Axes>"
      ]
     },
     "metadata": {
      "needs_background": "light"
     },
     "output_type": "display_data"
    }
   ],
   "source": [
    "plt.plot(list(np.arange(record_span, MAX_TIME + record_span, record_span)), counts[0])\n",
    "plt.plot(list(np.arange(record_span, MAX_TIME + record_span, record_span)), counts[1])\n",
    "plt.plot(list(np.arange(record_span, MAX_TIME + record_span, record_span)), counts[2])\n",
    "plt.plot(list(np.arange(record_span, MAX_TIME + record_span, record_span)), counts[3])"
   ]
  }
 ],
 "metadata": {
  "interpreter": {
   "hash": "e4d33ea1956d9eed525e01fc722837b342b23985a655a4da24c920cb8a366c86"
  },
  "kernelspec": {
   "display_name": "Python 3.9.13 ('math_model')",
   "language": "python",
   "name": "python3"
  },
  "language_info": {
   "codemirror_mode": {
    "name": "ipython",
    "version": 3
   },
   "file_extension": ".py",
   "mimetype": "text/x-python",
   "name": "python",
   "nbconvert_exporter": "python",
   "pygments_lexer": "ipython3",
   "version": "3.9.13"
  },
  "orig_nbformat": 4
 },
 "nbformat": 4,
 "nbformat_minor": 2
}
