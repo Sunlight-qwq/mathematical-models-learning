{
 "cells": [
  {
   "cell_type": "code",
   "execution_count": 1,
   "metadata": {},
   "outputs": [],
   "source": [
    "import numpy as np\n",
    "import matplotlib.pyplot as plt"
   ]
  },
  {
   "cell_type": "markdown",
   "metadata": {},
   "source": [
    "某鲜花店每周初订购 18 打鲜花，每天的需求量服从 Poisson 分布，平均每天卖出 3 打；若鲜花一周内没有卖完，则必须扔掉。\n",
    "\n",
    "当库存小于 5 打时，就会再订货 18 打，下周一送到。（一周不会重复多次订货）\n",
    "\n",
    "求一周内任何一天订货的概率，以及周末扔掉的平均打数。"
   ]
  },
  {
   "cell_type": "code",
   "execution_count": 12,
   "metadata": {},
   "outputs": [],
   "source": [
    "ordering_count = [0] * 7 \n",
    "discard_roses = []\n",
    "loop_cnt = int(1e4)\n",
    "lambda_ = 3 # 每天平均卖出 3 打\n",
    "\n",
    "for _ in range(loop_cnt):\n",
    "    num_roses = 18\n",
    "    flag = False\n",
    "\n",
    "    for i in range(7):\n",
    "        sales = np.random.poisson(lambda_)\n",
    "        num_roses -= sales\n",
    "        if num_roses <= 5 and not flag:\n",
    "            ordering_count[i] += 1\n",
    "            flag = True\n",
    "        if num_roses <= 0:\n",
    "            num_roses = 0\n",
    "            break\n",
    "\n",
    "    if not flag:\n",
    "        ordering_count[-1] += 1 # 一周没卖完则星期天订货\n",
    "    \n",
    "    discard_roses.append(num_roses)\n",
    "\n",
    "mean_discard_rose = np.mean(discard_roses)\n",
    "ordering_probability = list(map(lambda x: x / loop_cnt, ordering_count)) \n"
   ]
  },
  {
   "cell_type": "code",
   "execution_count": 14,
   "metadata": {},
   "outputs": [
    {
     "data": {
      "text/plain": [
       "(0.6683, [0.0, 0.0094, 0.1158, 0.3018, 0.3007, 0.1795, 0.0928])"
      ]
     },
     "execution_count": 14,
     "metadata": {},
     "output_type": "execute_result"
    }
   ],
   "source": [
    "mean_discard_rose, ordering_probability"
   ]
  }
 ],
 "metadata": {
  "interpreter": {
   "hash": "e4d33ea1956d9eed525e01fc722837b342b23985a655a4da24c920cb8a366c86"
  },
  "kernelspec": {
   "display_name": "Python 3.9.13 ('math_model')",
   "language": "python",
   "name": "python3"
  },
  "language_info": {
   "codemirror_mode": {
    "name": "ipython",
    "version": 3
   },
   "file_extension": ".py",
   "mimetype": "text/x-python",
   "name": "python",
   "nbconvert_exporter": "python",
   "pygments_lexer": "ipython3",
   "version": "3.9.13"
  },
  "orig_nbformat": 4
 },
 "nbformat": 4,
 "nbformat_minor": 2
}
