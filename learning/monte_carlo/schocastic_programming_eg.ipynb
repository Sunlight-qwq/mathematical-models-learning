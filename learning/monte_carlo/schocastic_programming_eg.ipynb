{
 "cells": [
  {
   "cell_type": "code",
   "execution_count": 14,
   "metadata": {},
   "outputs": [],
   "source": [
    "import numpy as np\n",
    "import matplotlib.pyplot as plt"
   ]
  },
  {
   "cell_type": "markdown",
   "metadata": {},
   "source": [
    "## 随机决策实例\n",
    "\n",
    "某小贩以每束 $a = 2$ 元购入鲜花，售价 $b = 3$ 元，卖不出去的花全部损失。\n",
    "\n",
    "设顾客一天对花的需求量为 $X$，已知 $X \\sim P(\\lambda)$，$\\lambda = 10$。求小贩每天应购入多少束鲜花？"
   ]
  },
  {
   "cell_type": "code",
   "execution_count": 11,
   "metadata": {},
   "outputs": [],
   "source": [
    "a = 2\n",
    "b = 3\n",
    "λ = 10\n",
    "\n",
    "UMAX = 20\n",
    "N = int(1E8)\n",
    "earnings = []"
   ]
  },
  {
   "cell_type": "code",
   "execution_count": 5,
   "metadata": {},
   "outputs": [
    {
     "data": {
      "text/plain": [
       "array([ 2,  3,  3,  3, -1])"
      ]
     },
     "execution_count": 5,
     "metadata": {},
     "output_type": "execute_result"
    }
   ],
   "source": [
    "np.minimum(np.array([2, 3, 4, 5, -1]), 3) # 逐项与 3 比较，取两者较小值"
   ]
  },
  {
   "cell_type": "code",
   "execution_count": 12,
   "metadata": {},
   "outputs": [],
   "source": [
    "samples = np.random.poisson(λ, size=N)\n",
    "\n",
    "for u in range(1, UMAX):\n",
    "    mean_earning = np.mean(b * np.minimum(samples, u) - a * u)\n",
    "    earnings.append([u, mean_earning])"
   ]
  },
  {
   "cell_type": "code",
   "execution_count": 13,
   "metadata": {},
   "outputs": [
    {
     "data": {
      "text/plain": [
       "[[1, 0.9998635],\n",
       " [2, 1.99836104],\n",
       " [3, 2.99004246],\n",
       " [4, 3.95902297],\n",
       " [5, 4.87124465],\n",
       " [6, 5.66992557],\n",
       " [7, 6.27937297],\n",
       " [8, 6.61854755],\n",
       " [9, 6.61993548],\n",
       " [10, 6.24620155],\n",
       " [11, 5.49719774],\n",
       " [12, 4.4068161],\n",
       " [13, 3.0321466],\n",
       " [14, 1.43878016],\n",
       " [15, -0.31079517],\n",
       " [16, -2.16457934],\n",
       " [17, -4.08339649],\n",
       " [18, -6.04048653],\n",
       " [19, -8.01887852]]"
      ]
     },
     "execution_count": 13,
     "metadata": {},
     "output_type": "execute_result"
    }
   ],
   "source": [
    "earnings"
   ]
  },
  {
   "cell_type": "code",
   "execution_count": 21,
   "metadata": {},
   "outputs": [
    {
     "data": {
      "text/plain": [
       "(0.0, 20.0)"
      ]
     },
     "execution_count": 21,
     "metadata": {},
     "output_type": "execute_result"
    },
    {
     "data": {
      "image/png": "[encoded data removed]",
      "text/plain": [
       "<Figure size 432x288 with 1 Axes>"
      ]
     },
     "metadata": {
      "needs_background": "light"
     },
     "output_type": "display_data"
    }
   ],
   "source": [
    "plt.scatter(*zip(*earnings))\n",
    "plt.ylim(-10, 8)\n",
    "plt.xlim(0, 20)"
   ]
  }
 ],
 "metadata": {
  "interpreter": {
   "hash": "e4d33ea1956d9eed525e01fc722837b342b23985a655a4da24c920cb8a366c86"
  },
  "kernelspec": {
   "display_name": "Python 3.9.13 ('math_model')",
   "language": "python",
   "name": "python3"
  },
  "language_info": {
   "codemirror_mode": {
    "name": "ipython",
    "version": 3
   },
   "file_extension": ".py",
   "mimetype": "text/x-python",
   "name": "python",
   "nbconvert_exporter": "python",
   "pygments_lexer": "ipython3",
   "version": "3.9.13"
  },
  "orig_nbformat": 4
 },
 "nbformat": 4,
 "nbformat_minor": 2
}
