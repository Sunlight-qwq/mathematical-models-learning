{
 "cells": [
  {
   "cell_type": "code",
   "execution_count": 1,
   "metadata": {},
   "outputs": [],
   "source": [
    "from sympy import *\n",
    "from sympy.abc import pi\n"
   ]
  },
  {
   "cell_type": "code",
   "execution_count": 2,
   "metadata": {},
   "outputs": [],
   "source": [
    "x, a, w = symbols('x a w')\n",
    "t = symbols('t')\n",
    "A, B = symbols('A B')"
   ]
  },
  {
   "cell_type": "code",
   "execution_count": 3,
   "metadata": {},
   "outputs": [
    {
     "data": {
      "text/latex": [
       "$\\displaystyle \\left(A \\cos{\\left(t w \\right)} + B \\sin{\\left(t w \\right)}\\right) e^{- a t}$"
      ],
      "text/plain": [
       "(A*cos(t*w) + B*sin(t*w))*exp(-a*t)"
      ]
     },
     "execution_count": 3,
     "metadata": {},
     "output_type": "execute_result"
    }
   ],
   "source": [
    "h = exp(-a * t) * (A * cos(w * t) + B * sin(w * t))\n",
    "h"
   ]
  },
  {
   "cell_type": "code",
   "execution_count": 4,
   "metadata": {},
   "outputs": [
    {
     "data": {
      "text/latex": [
       "$\\displaystyle A$"
      ],
      "text/plain": [
       "A"
      ]
     },
     "execution_count": 4,
     "metadata": {},
     "output_type": "execute_result"
    }
   ],
   "source": [
    "h.subs(t, 0)"
   ]
  },
  {
   "cell_type": "code",
   "execution_count": 5,
   "metadata": {},
   "outputs": [
    {
     "data": {
      "text/latex": [
       "$\\displaystyle - a \\left(A \\cos{\\left(t w \\right)} + B \\sin{\\left(t w \\right)}\\right) e^{- a t} + \\left(- A w \\sin{\\left(t w \\right)} + B w \\cos{\\left(t w \\right)}\\right) e^{- a t}$"
      ],
      "text/plain": [
       "-a*(A*cos(t*w) + B*sin(t*w))*exp(-a*t) + (-A*w*sin(t*w) + B*w*cos(t*w))*exp(-a*t)"
      ]
     },
     "execution_count": 5,
     "metadata": {},
     "output_type": "execute_result"
    }
   ],
   "source": [
    "h_prime = diff(h, t)\n",
    "h_prime"
   ]
  },
  {
   "cell_type": "code",
   "execution_count": 6,
   "metadata": {},
   "outputs": [
    {
     "data": {
      "text/latex": [
       "$\\displaystyle - A a + B w$"
      ],
      "text/plain": [
       "-A*a + B*w"
      ]
     },
     "execution_count": 6,
     "metadata": {},
     "output_type": "execute_result"
    }
   ],
   "source": [
    "h_prime.subs(t, 0)"
   ]
  },
  {
   "cell_type": "code",
   "execution_count": 7,
   "metadata": {},
   "outputs": [
    {
     "data": {
      "text/latex": [
       "$\\displaystyle a^{2} \\left(A \\cos{\\left(t w \\right)} + B \\sin{\\left(t w \\right)}\\right) e^{- a t} - 2 a \\left(- A w \\sin{\\left(t w \\right)} + B w \\cos{\\left(t w \\right)}\\right) e^{- a t} + \\left(- A w^{2} \\cos{\\left(t w \\right)} - B w^{2} \\sin{\\left(t w \\right)}\\right) e^{- a t}$"
      ],
      "text/plain": [
       "a**2*(A*cos(t*w) + B*sin(t*w))*exp(-a*t) - 2*a*(-A*w*sin(t*w) + B*w*cos(t*w))*exp(-a*t) + (-A*w**2*cos(t*w) - B*w**2*sin(t*w))*exp(-a*t)"
      ]
     },
     "execution_count": 7,
     "metadata": {},
     "output_type": "execute_result"
    }
   ],
   "source": [
    "h_prime2 = diff(h_prime, t)\n",
    "h_prime2"
   ]
  },
  {
   "cell_type": "code",
   "execution_count": 8,
   "metadata": {},
   "outputs": [],
   "source": [
    "from sympy.abc import tau\n",
    "\n",
    "f = exp(t - tau) * (4 * tau + 1) * exp(-2 * tau)\n",
    "\n",
    "g = integrate(f, (tau, 0, t))"
   ]
  },
  {
   "cell_type": "code",
   "execution_count": 9,
   "metadata": {},
   "outputs": [
    {
     "data": {
      "text/latex": [
       "$\\displaystyle \\frac{\\left(- 12 t e^{t} - 7 e^{t}\\right) \\left(e^{- 2 t}\\right)^{\\frac{3}{2}}}{9} + \\frac{7 e^{t}}{9}$"
      ],
      "text/plain": [
       "(-12*t*exp(t) - 7*exp(t))*exp(-2*t)**(3/2)/9 + 7*exp(t)/9"
      ]
     },
     "execution_count": 9,
     "metadata": {},
     "output_type": "execute_result"
    }
   ],
   "source": [
    "g"
   ]
  },
  {
   "cell_type": "code",
   "execution_count": 10,
   "metadata": {},
   "outputs": [
    {
     "data": {
      "text/latex": [
       "$\\displaystyle \\frac{2 \\sqrt{7} e^{- 0.25 t} \\sin{\\left(0.75 \\sqrt{7} t \\right)}}{21}$"
      ],
      "text/plain": [
       "2*sqrt(7)*exp(-0.25*t)*sin(0.75*sqrt(7)*t)/21"
      ]
     },
     "execution_count": 10,
     "metadata": {},
     "output_type": "execute_result"
    }
   ],
   "source": [
    "h2 = exp(-1 / 4 * t) * 2 * sqrt(7) / 21 * sin(3 / 4 * sqrt(7) * t)\n",
    "h2"
   ]
  },
  {
   "cell_type": "code",
   "execution_count": 11,
   "metadata": {},
   "outputs": [
    {
     "data": {
      "text/latex": [
       "$\\displaystyle \\frac{2 \\sqrt{7} e^{- 0.25 \\tau} \\sin{\\left(0.75 \\sqrt{7} \\tau \\right)}}{21}$"
      ],
      "text/plain": [
       "2*sqrt(7)*exp(-0.25*tau)*sin(0.75*sqrt(7)*tau)/21"
      ]
     },
     "execution_count": 11,
     "metadata": {},
     "output_type": "execute_result"
    }
   ],
   "source": [
    "h3 = h2.subs(t, tau)\n",
    "h3"
   ]
  },
  {
   "cell_type": "code",
   "execution_count": 12,
   "metadata": {},
   "outputs": [
    {
     "data": {
      "text/latex": [
       "$\\displaystyle \\frac{2 \\sqrt{7} \\left(- 0.0625 e^{- 0.25 t} \\sin{\\left(0.75 \\sqrt{7} t \\right)} - 0.1875 \\sqrt{7} e^{- 0.25 t} \\cos{\\left(0.75 \\sqrt{7} t \\right)}\\right)}{21} + 0.125$"
      ],
      "text/plain": [
       "2*sqrt(7)*(-0.0625*exp(-0.25*t)*sin(0.75*sqrt(7)*t) - 0.1875*sqrt(7)*exp(-0.25*t)*cos(0.75*sqrt(7)*t))/21 + 0.125"
      ]
     },
     "execution_count": 12,
     "metadata": {},
     "output_type": "execute_result"
    }
   ],
   "source": [
    "g3 = integrate(h3, (tau, 0, t))\n",
    "g3"
   ]
  },
  {
   "cell_type": "code",
   "execution_count": 13,
   "metadata": {},
   "outputs": [
    {
     "data": {
      "text/plain": [
       "(0.125,)"
      ]
     },
     "execution_count": 13,
     "metadata": {},
     "output_type": "execute_result"
    }
   ],
   "source": [
    "2 * 7 * 0.1875 / 21, "
   ]
  },
  {
   "cell_type": "code",
   "execution_count": 16,
   "metadata": {},
   "outputs": [
    {
     "data": {
      "text/latex": [
       "$\\displaystyle \\left(\\tau + 1\\right) e^{- 2 \\tau} e^{- t + \\tau}$"
      ],
      "text/plain": [
       "(tau + 1)*exp(-2*tau)*exp(-t + tau)"
      ]
     },
     "execution_count": 16,
     "metadata": {},
     "output_type": "execute_result"
    }
   ],
   "source": [
    "(1 + tau) * exp(-2 * tau) * exp(tau - t)"
   ]
  },
  {
   "cell_type": "code",
   "execution_count": 15,
   "metadata": {},
   "outputs": [
    {
     "data": {
      "text/latex": [
       "$\\displaystyle \\left(- t - 2\\right) \\sqrt{e^{- 2 t}} e^{- t} + 2 e^{- t}$"
      ],
      "text/plain": [
       "(-t - 2)*sqrt(exp(-2*t))*exp(-t) + 2*exp(-t)"
      ]
     },
     "execution_count": 15,
     "metadata": {},
     "output_type": "execute_result"
    }
   ],
   "source": [
    "integrate((1 + tau) * exp(-2 * tau) * exp(tau - t), (tau, 0, t))"
   ]
  }
 ],
 "metadata": {
  "interpreter": {
   "hash": "5f1f67310d7626f6a1e5a2bc75081377e7cbcf2b8e64ea2999e8e80be64123e8"
  },
  "kernelspec": {
   "display_name": "Python 3.9.12 ('math_model')",
   "language": "python",
   "name": "python3"
  },
  "language_info": {
   "codemirror_mode": {
    "name": "ipython",
    "version": 3
   },
   "file_extension": ".py",
   "mimetype": "text/x-python",
   "name": "python",
   "nbconvert_exporter": "python",
   "pygments_lexer": "ipython3",
   "version": "3.9.12"
  },
  "orig_nbformat": 4
 },
 "nbformat": 4,
 "nbformat_minor": 2
}
