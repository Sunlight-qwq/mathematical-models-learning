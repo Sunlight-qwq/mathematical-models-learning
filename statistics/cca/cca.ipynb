{
 "cells": [
  {
   "cell_type": "code",
   "execution_count": 2,
   "metadata": {},
   "outputs": [],
   "source": [
    "import numpy as np\n",
    "import pandas as pd\n",
    "import matplotlib.pyplot as plt"
   ]
  },
  {
   "cell_type": "code",
   "execution_count": 5,
   "metadata": {},
   "outputs": [
    {
     "data": {
      "text/html": [
       "<div>\n",
       "<style scoped>\n",
       "    .dataframe tbody tr th:only-of-type {\n",
       "        vertical-align: middle;\n",
       "    }\n",
       "\n",
       "    .dataframe tbody tr th {\n",
       "        vertical-align: top;\n",
       "    }\n",
       "\n",
       "    .dataframe thead th {\n",
       "        text-align: right;\n",
       "    }\n",
       "</style>\n",
       "<table border=\"1\" class=\"dataframe\">\n",
       "  <thead>\n",
       "    <tr style=\"text-align: right;\">\n",
       "      <th></th>\n",
       "      <th>led</th>\n",
       "      <th>hed</th>\n",
       "      <th>net</th>\n",
       "      <th>arti</th>\n",
       "      <th>com</th>\n",
       "      <th>man</th>\n",
       "    </tr>\n",
       "  </thead>\n",
       "  <tbody>\n",
       "    <tr>\n",
       "      <th>0</th>\n",
       "      <td>86</td>\n",
       "      <td>43</td>\n",
       "      <td>85</td>\n",
       "      <td>43</td>\n",
       "      <td>93</td>\n",
       "      <td>71</td>\n",
       "    </tr>\n",
       "    <tr>\n",
       "      <th>1</th>\n",
       "      <td>99</td>\n",
       "      <td>74</td>\n",
       "      <td>99</td>\n",
       "      <td>78</td>\n",
       "      <td>99</td>\n",
       "      <td>89</td>\n",
       "    </tr>\n",
       "    <tr>\n",
       "      <th>2</th>\n",
       "      <td>37</td>\n",
       "      <td>22</td>\n",
       "      <td>10</td>\n",
       "      <td>27</td>\n",
       "      <td>24</td>\n",
       "      <td>33</td>\n",
       "    </tr>\n",
       "    <tr>\n",
       "      <th>3</th>\n",
       "      <td>5</td>\n",
       "      <td>19</td>\n",
       "      <td>56</td>\n",
       "      <td>13</td>\n",
       "      <td>11</td>\n",
       "      <td>38</td>\n",
       "    </tr>\n",
       "    <tr>\n",
       "      <th>4</th>\n",
       "      <td>45</td>\n",
       "      <td>43</td>\n",
       "      <td>55</td>\n",
       "      <td>39</td>\n",
       "      <td>54</td>\n",
       "      <td>58</td>\n",
       "    </tr>\n",
       "    <tr>\n",
       "      <th>5</th>\n",
       "      <td>21</td>\n",
       "      <td>32</td>\n",
       "      <td>21</td>\n",
       "      <td>34</td>\n",
       "      <td>35</td>\n",
       "      <td>32</td>\n",
       "    </tr>\n",
       "    <tr>\n",
       "      <th>6</th>\n",
       "      <td>36</td>\n",
       "      <td>78</td>\n",
       "      <td>48</td>\n",
       "      <td>75</td>\n",
       "      <td>42</td>\n",
       "      <td>78</td>\n",
       "    </tr>\n",
       "    <tr>\n",
       "      <th>7</th>\n",
       "      <td>69</td>\n",
       "      <td>31</td>\n",
       "      <td>85</td>\n",
       "      <td>32</td>\n",
       "      <td>70</td>\n",
       "      <td>52</td>\n",
       "    </tr>\n",
       "    <tr>\n",
       "      <th>8</th>\n",
       "      <td>40</td>\n",
       "      <td>98</td>\n",
       "      <td>36</td>\n",
       "      <td>99</td>\n",
       "      <td>64</td>\n",
       "      <td>86</td>\n",
       "    </tr>\n",
       "    <tr>\n",
       "      <th>9</th>\n",
       "      <td>26</td>\n",
       "      <td>14</td>\n",
       "      <td>40</td>\n",
       "      <td>8</td>\n",
       "      <td>25</td>\n",
       "      <td>21</td>\n",
       "    </tr>\n",
       "    <tr>\n",
       "      <th>10</th>\n",
       "      <td>51</td>\n",
       "      <td>68</td>\n",
       "      <td>38</td>\n",
       "      <td>68</td>\n",
       "      <td>48</td>\n",
       "      <td>72</td>\n",
       "    </tr>\n",
       "    <tr>\n",
       "      <th>11</th>\n",
       "      <td>63</td>\n",
       "      <td>86</td>\n",
       "      <td>79</td>\n",
       "      <td>87</td>\n",
       "      <td>76</td>\n",
       "      <td>95</td>\n",
       "    </tr>\n",
       "    <tr>\n",
       "      <th>12</th>\n",
       "      <td>39</td>\n",
       "      <td>80</td>\n",
       "      <td>57</td>\n",
       "      <td>80</td>\n",
       "      <td>55</td>\n",
       "      <td>68</td>\n",
       "    </tr>\n",
       "    <tr>\n",
       "      <th>13</th>\n",
       "      <td>78</td>\n",
       "      <td>40</td>\n",
       "      <td>72</td>\n",
       "      <td>42</td>\n",
       "      <td>75</td>\n",
       "      <td>58</td>\n",
       "    </tr>\n",
       "    <tr>\n",
       "      <th>14</th>\n",
       "      <td>56</td>\n",
       "      <td>49</td>\n",
       "      <td>54</td>\n",
       "      <td>48</td>\n",
       "      <td>52</td>\n",
       "      <td>61</td>\n",
       "    </tr>\n",
       "    <tr>\n",
       "      <th>15</th>\n",
       "      <td>39</td>\n",
       "      <td>80</td>\n",
       "      <td>71</td>\n",
       "      <td>76</td>\n",
       "      <td>52</td>\n",
       "      <td>81</td>\n",
       "    </tr>\n",
       "    <tr>\n",
       "      <th>16</th>\n",
       "      <td>65</td>\n",
       "      <td>5</td>\n",
       "      <td>53</td>\n",
       "      <td>11</td>\n",
       "      <td>67</td>\n",
       "      <td>41</td>\n",
       "    </tr>\n",
       "    <tr>\n",
       "      <th>17</th>\n",
       "      <td>28</td>\n",
       "      <td>11</td>\n",
       "      <td>31</td>\n",
       "      <td>12</td>\n",
       "      <td>23</td>\n",
       "      <td>35</td>\n",
       "    </tr>\n",
       "    <tr>\n",
       "      <th>18</th>\n",
       "      <td>50</td>\n",
       "      <td>32</td>\n",
       "      <td>68</td>\n",
       "      <td>23</td>\n",
       "      <td>49</td>\n",
       "      <td>58</td>\n",
       "    </tr>\n",
       "    <tr>\n",
       "      <th>19</th>\n",
       "      <td>69</td>\n",
       "      <td>98</td>\n",
       "      <td>69</td>\n",
       "      <td>97</td>\n",
       "      <td>81</td>\n",
       "      <td>99</td>\n",
       "    </tr>\n",
       "    <tr>\n",
       "      <th>20</th>\n",
       "      <td>55</td>\n",
       "      <td>99</td>\n",
       "      <td>78</td>\n",
       "      <td>97</td>\n",
       "      <td>60</td>\n",
       "      <td>90</td>\n",
       "    </tr>\n",
       "    <tr>\n",
       "      <th>21</th>\n",
       "      <td>36</td>\n",
       "      <td>11</td>\n",
       "      <td>5</td>\n",
       "      <td>15</td>\n",
       "      <td>26</td>\n",
       "      <td>5</td>\n",
       "    </tr>\n",
       "    <tr>\n",
       "      <th>22</th>\n",
       "      <td>77</td>\n",
       "      <td>18</td>\n",
       "      <td>61</td>\n",
       "      <td>27</td>\n",
       "      <td>68</td>\n",
       "      <td>54</td>\n",
       "    </tr>\n",
       "    <tr>\n",
       "      <th>23</th>\n",
       "      <td>67</td>\n",
       "      <td>33</td>\n",
       "      <td>95</td>\n",
       "      <td>34</td>\n",
       "      <td>59</td>\n",
       "      <td>61</td>\n",
       "    </tr>\n",
       "    <tr>\n",
       "      <th>24</th>\n",
       "      <td>45</td>\n",
       "      <td>87</td>\n",
       "      <td>46</td>\n",
       "      <td>85</td>\n",
       "      <td>67</td>\n",
       "      <td>80</td>\n",
       "    </tr>\n",
       "    <tr>\n",
       "      <th>25</th>\n",
       "      <td>61</td>\n",
       "      <td>72</td>\n",
       "      <td>63</td>\n",
       "      <td>63</td>\n",
       "      <td>62</td>\n",
       "      <td>75</td>\n",
       "    </tr>\n",
       "    <tr>\n",
       "      <th>26</th>\n",
       "      <td>41</td>\n",
       "      <td>63</td>\n",
       "      <td>74</td>\n",
       "      <td>55</td>\n",
       "      <td>50</td>\n",
       "      <td>76</td>\n",
       "    </tr>\n",
       "    <tr>\n",
       "      <th>27</th>\n",
       "      <td>6</td>\n",
       "      <td>5</td>\n",
       "      <td>13</td>\n",
       "      <td>5</td>\n",
       "      <td>5</td>\n",
       "      <td>13</td>\n",
       "    </tr>\n",
       "    <tr>\n",
       "      <th>28</th>\n",
       "      <td>28</td>\n",
       "      <td>53</td>\n",
       "      <td>35</td>\n",
       "      <td>51</td>\n",
       "      <td>31</td>\n",
       "      <td>59</td>\n",
       "    </tr>\n",
       "    <tr>\n",
       "      <th>29</th>\n",
       "      <td>66</td>\n",
       "      <td>20</td>\n",
       "      <td>79</td>\n",
       "      <td>18</td>\n",
       "      <td>67</td>\n",
       "      <td>55</td>\n",
       "    </tr>\n",
       "  </tbody>\n",
       "</table>\n",
       "</div>"
      ],
      "text/plain": [
       "    led  hed  net  arti  com  man\n",
       "0    86   43   85    43   93   71\n",
       "1    99   74   99    78   99   89\n",
       "2    37   22   10    27   24   33\n",
       "3     5   19   56    13   11   38\n",
       "4    45   43   55    39   54   58\n",
       "5    21   32   21    34   35   32\n",
       "6    36   78   48    75   42   78\n",
       "7    69   31   85    32   70   52\n",
       "8    40   98   36    99   64   86\n",
       "9    26   14   40     8   25   21\n",
       "10   51   68   38    68   48   72\n",
       "11   63   86   79    87   76   95\n",
       "12   39   80   57    80   55   68\n",
       "13   78   40   72    42   75   58\n",
       "14   56   49   54    48   52   61\n",
       "15   39   80   71    76   52   81\n",
       "16   65    5   53    11   67   41\n",
       "17   28   11   31    12   23   35\n",
       "18   50   32   68    23   49   58\n",
       "19   69   98   69    97   81   99\n",
       "20   55   99   78    97   60   90\n",
       "21   36   11    5    15   26    5\n",
       "22   77   18   61    27   68   54\n",
       "23   67   33   95    34   59   61\n",
       "24   45   87   46    85   67   80\n",
       "25   61   72   63    63   62   75\n",
       "26   41   63   74    55   50   76\n",
       "27    6    5   13     5    5   13\n",
       "28   28   53   35    51   31   59\n",
       "29   66   20   79    18   67   55"
      ]
     },
     "execution_count": 5,
     "metadata": {},
     "output_type": "execute_result"
    }
   ],
   "source": [
    "df = pd.read_excel(\"tvdata.xlsx\")\n",
    "df"
   ]
  },
  {
   "cell_type": "markdown",
   "metadata": {},
   "source": [
    "## 典型相关分析（CCA）\n",
    "\n",
    "借助 Python `sklearn` 包进行"
   ]
  },
  {
   "cell_type": "code",
   "execution_count": 6,
   "metadata": {},
   "outputs": [],
   "source": [
    "from sklearn.preprocessing import StandardScaler\n",
    "from sklearn.cross_decomposition import CCA"
   ]
  },
  {
   "cell_type": "markdown",
   "metadata": {},
   "source": [
    "标准化数据：均值化为0，方差化为1"
   ]
  },
  {
   "cell_type": "code",
   "execution_count": 21,
   "metadata": {},
   "outputs": [
    {
     "data": {
      "text/plain": [
       "(array([-9.25185854e-17,  1.03620816e-16, -2.96059473e-17]),\n",
       " array([1., 1., 1.]))"
      ]
     },
     "execution_count": 21,
     "metadata": {},
     "output_type": "execute_result"
    }
   ],
   "source": [
    "df1 = df[[\"led\", \"hed\", \"net\"]]\n",
    "ss = StandardScaler()\n",
    "df1_std = ss.fit(df1).transform(df1)\n",
    "df2 = df[[\"arti\", \"com\", \"man\"]]\n",
    "df2_std = ss.fit(df2).transform(df2)\n",
    "np.mean(df1_std, axis=0), np.var(df1_std, axis=0)"
   ]
  },
  {
   "cell_type": "code",
   "execution_count": 22,
   "metadata": {},
   "outputs": [],
   "source": [
    "cca = CCA()\n",
    "xc, yc = cca.fit(df1_std, df2_std).transform(df1_std, df2_std)"
   ]
  },
  {
   "cell_type": "code",
   "execution_count": 23,
   "metadata": {},
   "outputs": [
    {
     "data": {
      "text/plain": [
       "((30, 2), (30, 2))"
      ]
     },
     "execution_count": 23,
     "metadata": {},
     "output_type": "execute_result"
    }
   ],
   "source": [
    "np.shape(xc), np.shape(yc)"
   ]
  },
  {
   "cell_type": "code",
   "execution_count": 24,
   "metadata": {},
   "outputs": [
    {
     "data": {
      "text/plain": [
       "(0.9954346966586444, 0.9528250144492953)"
      ]
     },
     "execution_count": 24,
     "metadata": {},
     "output_type": "execute_result"
    }
   ],
   "source": [
    "np.corrcoef(xc[:, 0], yc[:, 0])[0, 1], np.corrcoef(xc[:, 1], yc[:, 1])[0, 1]"
   ]
  },
  {
   "cell_type": "markdown",
   "metadata": {},
   "source": [
    "## 另一份数据"
   ]
  },
  {
   "cell_type": "code",
   "execution_count": 26,
   "metadata": {},
   "outputs": [
    {
     "data": {
      "text/plain": [
       "array([[191,  36,  50,   5, 162,  60],\n",
       "       [189,  37,  52,   2, 110,  60],\n",
       "       [193,  38,  58,  12, 101, 101],\n",
       "       [162,  35,  62,  12, 105,  37],\n",
       "       [189,  35,  46,  13, 155,  58],\n",
       "       [182,  36,  56,   4, 101,  42],\n",
       "       [211,  38,  56,   8, 101,  38],\n",
       "       [167,  34,  60,   6, 125,  40],\n",
       "       [176,  31,  74,  15, 200,  40],\n",
       "       [154,  33,  56,  17, 251, 250],\n",
       "       [169,  34,  50,  17, 120,  38],\n",
       "       [166,  33,  52,  13, 210, 115],\n",
       "       [154,  34,  64,  14, 215, 105],\n",
       "       [247,  46,  50,   1,  50,  50],\n",
       "       [193,  36,  46,   6,  70,  31],\n",
       "       [202,  37,  62,  12, 210, 120],\n",
       "       [176,  37,  54,   4,  60,  25],\n",
       "       [157,  32,  52,  11, 230,  80],\n",
       "       [156,  33,  54,  15, 225,  73],\n",
       "       [138,  33,  68,   2, 110,  43]], dtype=int64)"
      ]
     },
     "execution_count": 26,
     "metadata": {},
     "output_type": "execute_result"
    }
   ],
   "source": [
    "health = pd.read_excel(\"health.xlsx\").values\n",
    "health"
   ]
  },
  {
   "cell_type": "code",
   "execution_count": 29,
   "metadata": {},
   "outputs": [
    {
     "data": {
      "text/plain": [
       "(array([[191,  36,  50],\n",
       "        [189,  37,  52],\n",
       "        [193,  38,  58],\n",
       "        [162,  35,  62],\n",
       "        [189,  35,  46],\n",
       "        [182,  36,  56],\n",
       "        [211,  38,  56],\n",
       "        [167,  34,  60],\n",
       "        [176,  31,  74],\n",
       "        [154,  33,  56],\n",
       "        [169,  34,  50],\n",
       "        [166,  33,  52],\n",
       "        [154,  34,  64],\n",
       "        [247,  46,  50],\n",
       "        [193,  36,  46],\n",
       "        [202,  37,  62],\n",
       "        [176,  37,  54],\n",
       "        [157,  32,  52],\n",
       "        [156,  33,  54],\n",
       "        [138,  33,  68]], dtype=int64),\n",
       " array([[  5, 162,  60],\n",
       "        [  2, 110,  60],\n",
       "        [ 12, 101, 101],\n",
       "        [ 12, 105,  37],\n",
       "        [ 13, 155,  58],\n",
       "        [  4, 101,  42],\n",
       "        [  8, 101,  38],\n",
       "        [  6, 125,  40],\n",
       "        [ 15, 200,  40],\n",
       "        [ 17, 251, 250],\n",
       "        [ 17, 120,  38],\n",
       "        [ 13, 210, 115],\n",
       "        [ 14, 215, 105],\n",
       "        [  1,  50,  50],\n",
       "        [  6,  70,  31],\n",
       "        [ 12, 210, 120],\n",
       "        [  4,  60,  25],\n",
       "        [ 11, 230,  80],\n",
       "        [ 15, 225,  73],\n",
       "        [  2, 110,  43]], dtype=int64))"
      ]
     },
     "execution_count": 29,
     "metadata": {},
     "output_type": "execute_result"
    }
   ],
   "source": [
    "x = health[:, 0:3]; y = health[:, 3:6]\n",
    "x, y"
   ]
  },
  {
   "cell_type": "code",
   "execution_count": 35,
   "metadata": {},
   "outputs": [],
   "source": [
    "cca = CCA(3)\n",
    "cca.fit(x, y)\n",
    "u, v = cca.transform(x, y)"
   ]
  },
  {
   "cell_type": "code",
   "execution_count": 33,
   "metadata": {},
   "outputs": [
    {
     "data": {
      "text/plain": [
       "((20, 3), (20, 3))"
      ]
     },
     "execution_count": 33,
     "metadata": {},
     "output_type": "execute_result"
    }
   ],
   "source": [
    "np.shape(u), np.shape(v)"
   ]
  },
  {
   "cell_type": "markdown",
   "metadata": {},
   "source": [
    "计算典型相关系数"
   ]
  },
  {
   "cell_type": "code",
   "execution_count": 34,
   "metadata": {},
   "outputs": [
    {
     "data": {
      "text/plain": [
       "[0.7956081542547285, 0.2005560410240742, 0.07257028625549243]"
      ]
     },
     "execution_count": 34,
     "metadata": {},
     "output_type": "execute_result"
    }
   ],
   "source": [
    "r = [np.corrcoef(u[:, i], v[:, i])[0, 1] for i in [0, 1, 2]]\n",
    "r # 典型相关系数"
   ]
  },
  {
   "cell_type": "markdown",
   "metadata": {},
   "source": [
    "假设检验：验证典型相关系数是否需要保留。"
   ]
  },
  {
   "cell_type": "code",
   "execution_count": 42,
   "metadata": {},
   "outputs": [],
   "source": [
    "from scipy.stats import chi2"
   ]
  },
  {
   "cell_type": "code",
   "execution_count": 41,
   "metadata": {},
   "outputs": [
    {
     "data": {
      "text/plain": [
       "(20, 3, 3, 15.5, 9)"
      ]
     },
     "execution_count": 41,
     "metadata": {},
     "output_type": "execute_result"
    }
   ],
   "source": [
    "n = health.shape[0]\n",
    "p = q = 3\n",
    "f = p * q; m = n - 1 - (p + q + 1) / 2\n",
    "n, p, q, m, f"
   ]
  },
  {
   "cell_type": "code",
   "execution_count": 51,
   "metadata": {},
   "outputs": [
    {
     "data": {
      "text/plain": [
       "(16.254957511492844, 16.918977604620448, False)"
      ]
     },
     "execution_count": 51,
     "metadata": {},
     "output_type": "execute_result"
    }
   ],
   "source": [
    "alpha = 0.05\n",
    "Q = - m * np.log(np.prod(1 - np.array(r) ** 2))\n",
    "chi2_alpha = chi2.ppf(1 - alpha, f)\n",
    "Q, chi2_alpha, Q > chi2_alpha"
   ]
  },
  {
   "cell_type": "code",
   "execution_count": 54,
   "metadata": {},
   "outputs": [
    {
     "data": {
      "text/plain": [
       "0.06174455787956812"
      ]
     },
     "execution_count": 54,
     "metadata": {},
     "output_type": "execute_result"
    }
   ],
   "source": [
    "p_value = 1 - chi2.cdf(Q, f)\n",
    "p_value"
   ]
  },
  {
   "cell_type": "markdown",
   "metadata": {},
   "source": [
    "检验统计量落入接受域中，不能否认原假设，即认为该变量不典型。"
   ]
  }
 ],
 "metadata": {
  "interpreter": {
   "hash": "e4d33ea1956d9eed525e01fc722837b342b23985a655a4da24c920cb8a366c86"
  },
  "kernelspec": {
   "display_name": "Python 3.9.13 ('math_model')",
   "language": "python",
   "name": "python3"
  },
  "language_info": {
   "codemirror_mode": {
    "name": "ipython",
    "version": 3
   },
   "file_extension": ".py",
   "mimetype": "text/x-python",
   "name": "python",
   "nbconvert_exporter": "python",
   "pygments_lexer": "ipython3",
   "version": "3.9.13"
  },
  "orig_nbformat": 4
 },
 "nbformat": 4,
 "nbformat_minor": 2
}
